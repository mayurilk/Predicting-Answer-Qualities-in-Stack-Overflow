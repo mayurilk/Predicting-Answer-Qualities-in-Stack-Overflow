{
 "cells": [
  {
   "cell_type": "markdown",
   "metadata": {},
   "source": [
    "# Predicting Answer Quality (Good-Bad) in Stack Overflow"
   ]
  },
  {
   "cell_type": "markdown",
   "metadata": {},
   "source": [
    "\n",
    "## Group Members: \n",
    "\n",
    "1. Mayuri Kadam\n",
    "2. Chinnu Pittapally"
   ]
  },
  {
   "cell_type": "markdown",
   "metadata": {},
   "source": [
    "## Project Description: \n",
    "\n",
    "### Objective:\n",
    "\n",
    "This project aims to predict the quality of answer as good or bad (i.e. if the answer gets any up-votes or not) on stack overflow. For simplicity we are dealing with questions and answers related to python only. Any answer on stack overflow that gets 1 or more up-votes we classify it as a GOOD (represented as 1) answer and answers having 0 or negative votes are classified as BAD (represented as 0) answers. Relevance of question to answers is established initially, to go forward with class prediction process. We will be using different models and bias criteria to predict the classes and finally consider one which predicts with the highest accuracy.\n",
    "    \n",
    "\n",
    "### 1. Data Collection:\n",
    "   We have collected the dataset from Kaggle for stack overflow questions on python:\n",
    "   https://www.kaggle.com/stackoverflow/pythonquestions\n",
    "   \n",
    "   The dataset contains questions up to 19 October 2016 (UTC).\n",
    "\n",
    "   We have three csv files which hold data for questions, answers and tags for all the question related to python.\n",
    "   \n",
    "   Size of the data: ~1M answers\n",
    "   \n",
    "   This is organized as three tables: \n",
    "   1. Questions contain : title, body, creation date, score, and owner ID for each Python question.\n",
    "   2. Answers contain  : body, creation date, score, and owner ID for each of the answers to these questions.The ParentId column links back to the Questions table.\n",
    "   3. Tags contain : tags on each question. \n",
    "\n",
    "   \n",
    "   \n",
    "### 2. Data Pre-processing\n",
    "\n",
    "1. Merging data : From the join of answers and questions table we mapped all the answers to their corresponding question using the   ParentId from answer table and Id from questions table\n",
    "    \n",
    "2. Establishing Target Class : From the merged table we extracted scores for every answer and categorized each of them as 'Good' if they had score greater than 0 and 'Bad' if score was 0 or less. This we call as our target variable/class\n",
    "      \n",
    "3. Dividing Train and Test sets : We have divided 60% of our dataset as train and the remaining as test set\n",
    "    \n",
    "4. Processing features : For the input matrix we considered the answers from the merged table and tokenized the answers' training set.\n",
    "    The tokenize function flattens the text to lowercase. Also removes stopwords and words of length less than 2\n",
    "    \n",
    "5. X - matrix : We are using sklearn's CountVectorizer to create the vocabulary i.e. to generate features for our dataset. We used fit-transform to fit the input data to our vocabulary. \n",
    "       \n",
    "    \n",
    "### 2.1 Visualization\n",
    "\n",
    "1. The target class (Score, Class) is visualized using histogram plot. From the histogram figure, we can observe most of our data lies between 0 to 100, while there many score values(higher scores) that are less frequent.\n",
    "\n",
    "2. We plotted bar plot to show the range of values in the score and their frequency. From the bar plot, we can observe our data is skewed. More number of 'Good' answers are observed compared to 'Bad' answers.\n",
    "  \n",
    "3. We plotted the box plot for the target variable (score). We can observe that highest score goes up-to 8000 and most of the score values are in the 1st and 2nd quartile.\n",
    "    \n",
    "4. We have printed the top features (100 most frequent words) in our feature matrix. \n",
    "\n",
    "5. We also printed to most frequently used tags in the questions.\n",
    "\n",
    "### 3 Model Evalution \n",
    "\n",
    "We are doing the evaluation of different classification models based on the precision score as the performance measure. We started our evaluation with two baselines: 1. Predicting the random class 2. Predicting the majority class.\n",
    "\n",
    "After setting up the baseline for this classification task we have tried different parameter settings for the below models:\n",
    "\n",
    "1. Logistic Regression (using CountVectorizer)\n",
    "2. Logistic Regression (using TF-IDF vectorizer)\n",
    "3. Naive Bayes ( using MultinomialNB)\n",
    "4. Stochastic Gradient Descent(using SGD)\n",
    "5. Suppport Vector Machine (using LinearSVC)\n",
    "6. Neural Network (using MLPClassifier)\n",
    "\n",
    "We have printed the performance measure and classification reports for all the settings we applied to different models. We have plotted graphs for the results of each setting for every model type. In the end we have plotted the graph for all the classifiers with differnt settings and picked the one that performed best across all.  \n",
    "\n"
   ]
  },
  {
   "cell_type": "code",
   "execution_count": 1,
   "metadata": {
    "collapsed": true
   },
   "outputs": [],
   "source": [
    "import re\n",
    "import string\n",
    "import numpy as np\n",
    "import pandas as pd\n",
    "import matplotlib.mlab as mlab\n",
    "from collections import Counter\n",
    "import matplotlib.pyplot as plt\n",
    "from nltk.corpus import stopwords\n",
    "from sklearn.feature_extraction.text import CountVectorizer\n",
    "from sklearn.model_selection import train_test_split\n",
    "from sklearn.linear_model import LogisticRegression\n",
    "from sklearn.model_selection import cross_val_score\n",
    "from sklearn.dummy import DummyClassifier\n",
    "from sklearn.feature_extraction.text import TfidfVectorizer\n",
    "from sklearn.naive_bayes import MultinomialNB\n",
    "from sklearn.metrics import classification_report\n",
    "from itertools import product\n",
    "from sklearn.metrics import confusion_matrix\n",
    "from sklearn import linear_model\n",
    "from sklearn.neural_network import MLPClassifier\n",
    "from sklearn.metrics import matthews_corrcoef\n",
    "from sklearn import metrics\n",
    "from sklearn.metrics import average_precision_score\n",
    "from sklearn.metrics import precision_recall_fscore_support\n",
    "from sklearn.svm import LinearSVC"
   ]
  },
  {
   "cell_type": "markdown",
   "metadata": {
    "collapsed": false
   },
   "source": [
    "\n",
    "### Note: We have preprocessed data.  Please download from :\n",
    "https://drive.google.com/open?id=0B6hJIF_NL2HsMk80Y0FOM3pWb3c\n"
   ]
  },
  {
   "cell_type": "code",
   "execution_count": 202,
   "metadata": {
    "collapsed": false
   },
   "outputs": [
    {
     "data": {
      "text/html": [
       "<div>\n",
       "<table border=\"1\" class=\"dataframe\">\n",
       "  <thead>\n",
       "    <tr style=\"text-align: right;\">\n",
       "      <th></th>\n",
       "      <th>Unnamed: 0</th>\n",
       "      <th>Id_x</th>\n",
       "      <th>OwnerUserId_x</th>\n",
       "      <th>CreationDate_x</th>\n",
       "      <th>ParentId</th>\n",
       "      <th>Score_x</th>\n",
       "      <th>Body_x</th>\n",
       "      <th>Class</th>\n",
       "      <th>Id_y</th>\n",
       "      <th>OwnerUserId_y</th>\n",
       "      <th>CreationDate_y</th>\n",
       "      <th>Score_y</th>\n",
       "      <th>Title</th>\n",
       "      <th>Body_y</th>\n",
       "    </tr>\n",
       "  </thead>\n",
       "  <tbody>\n",
       "    <tr>\n",
       "      <th>0</th>\n",
       "      <td>0</td>\n",
       "      <td>497</td>\n",
       "      <td>50.0</td>\n",
       "      <td>2008-08-02T16:56:53Z</td>\n",
       "      <td>469</td>\n",
       "      <td>4</td>\n",
       "      <td>&lt;p&gt;open up a terminal (Applications-&amp;gt;Utilit...</td>\n",
       "      <td>1</td>\n",
       "      <td>469</td>\n",
       "      <td>147.0</td>\n",
       "      <td>2008-08-02T15:11:16Z</td>\n",
       "      <td>21</td>\n",
       "      <td>How can I find the full path to a font from it...</td>\n",
       "      <td>&lt;p&gt;I am using the Photoshop's javascript API t...</td>\n",
       "    </tr>\n",
       "    <tr>\n",
       "      <th>1</th>\n",
       "      <td>1</td>\n",
       "      <td>518</td>\n",
       "      <td>153.0</td>\n",
       "      <td>2008-08-02T17:42:28Z</td>\n",
       "      <td>469</td>\n",
       "      <td>2</td>\n",
       "      <td>&lt;p&gt;I haven't been able to find anything that d...</td>\n",
       "      <td>1</td>\n",
       "      <td>469</td>\n",
       "      <td>147.0</td>\n",
       "      <td>2008-08-02T15:11:16Z</td>\n",
       "      <td>21</td>\n",
       "      <td>How can I find the full path to a font from it...</td>\n",
       "      <td>&lt;p&gt;I am using the Photoshop's javascript API t...</td>\n",
       "    </tr>\n",
       "    <tr>\n",
       "      <th>2</th>\n",
       "      <td>2</td>\n",
       "      <td>3040</td>\n",
       "      <td>457.0</td>\n",
       "      <td>2008-08-06T03:01:23Z</td>\n",
       "      <td>469</td>\n",
       "      <td>12</td>\n",
       "      <td>&lt;p&gt;Unfortunately the only API that isn't depre...</td>\n",
       "      <td>1</td>\n",
       "      <td>469</td>\n",
       "      <td>147.0</td>\n",
       "      <td>2008-08-02T15:11:16Z</td>\n",
       "      <td>21</td>\n",
       "      <td>How can I find the full path to a font from it...</td>\n",
       "      <td>&lt;p&gt;I am using the Photoshop's javascript API t...</td>\n",
       "    </tr>\n",
       "    <tr>\n",
       "      <th>3</th>\n",
       "      <td>3</td>\n",
       "      <td>195170</td>\n",
       "      <td>745.0</td>\n",
       "      <td>2008-10-12T07:02:40Z</td>\n",
       "      <td>469</td>\n",
       "      <td>1</td>\n",
       "      <td>&lt;p&gt;There must be a method in Cocoa to get a li...</td>\n",
       "      <td>1</td>\n",
       "      <td>469</td>\n",
       "      <td>147.0</td>\n",
       "      <td>2008-08-02T15:11:16Z</td>\n",
       "      <td>21</td>\n",
       "      <td>How can I find the full path to a font from it...</td>\n",
       "      <td>&lt;p&gt;I am using the Photoshop's javascript API t...</td>\n",
       "    </tr>\n",
       "    <tr>\n",
       "      <th>4</th>\n",
       "      <td>4</td>\n",
       "      <td>536</td>\n",
       "      <td>161.0</td>\n",
       "      <td>2008-08-02T18:49:07Z</td>\n",
       "      <td>502</td>\n",
       "      <td>9</td>\n",
       "      <td>&lt;p&gt;You can use ImageMagick's convert utility f...</td>\n",
       "      <td>1</td>\n",
       "      <td>502</td>\n",
       "      <td>147.0</td>\n",
       "      <td>2008-08-02T17:01:58Z</td>\n",
       "      <td>27</td>\n",
       "      <td>Get a preview JPEG of a PDF on Windows?</td>\n",
       "      <td>&lt;p&gt;I have a cross-platform (Python) applicatio...</td>\n",
       "    </tr>\n",
       "  </tbody>\n",
       "</table>\n",
       "</div>"
      ],
      "text/plain": [
       "   Unnamed: 0    Id_x  OwnerUserId_x        CreationDate_x  ParentId  Score_x  \\\n",
       "0           0     497           50.0  2008-08-02T16:56:53Z       469        4   \n",
       "1           1     518          153.0  2008-08-02T17:42:28Z       469        2   \n",
       "2           2    3040          457.0  2008-08-06T03:01:23Z       469       12   \n",
       "3           3  195170          745.0  2008-10-12T07:02:40Z       469        1   \n",
       "4           4     536          161.0  2008-08-02T18:49:07Z       502        9   \n",
       "\n",
       "                                              Body_x  Class  Id_y  \\\n",
       "0  <p>open up a terminal (Applications-&gt;Utilit...      1   469   \n",
       "1  <p>I haven't been able to find anything that d...      1   469   \n",
       "2  <p>Unfortunately the only API that isn't depre...      1   469   \n",
       "3  <p>There must be a method in Cocoa to get a li...      1   469   \n",
       "4  <p>You can use ImageMagick's convert utility f...      1   502   \n",
       "\n",
       "   OwnerUserId_y        CreationDate_y  Score_y  \\\n",
       "0          147.0  2008-08-02T15:11:16Z       21   \n",
       "1          147.0  2008-08-02T15:11:16Z       21   \n",
       "2          147.0  2008-08-02T15:11:16Z       21   \n",
       "3          147.0  2008-08-02T15:11:16Z       21   \n",
       "4          147.0  2008-08-02T17:01:58Z       27   \n",
       "\n",
       "                                               Title  \\\n",
       "0  How can I find the full path to a font from it...   \n",
       "1  How can I find the full path to a font from it...   \n",
       "2  How can I find the full path to a font from it...   \n",
       "3  How can I find the full path to a font from it...   \n",
       "4            Get a preview JPEG of a PDF on Windows?   \n",
       "\n",
       "                                              Body_y  \n",
       "0  <p>I am using the Photoshop's javascript API t...  \n",
       "1  <p>I am using the Photoshop's javascript API t...  \n",
       "2  <p>I am using the Photoshop's javascript API t...  \n",
       "3  <p>I am using the Photoshop's javascript API t...  \n",
       "4  <p>I have a cross-platform (Python) applicatio...  "
      ]
     },
     "execution_count": 202,
     "metadata": {},
     "output_type": "execute_result"
    }
   ],
   "source": [
    "merged_df=pd.read_csv(\"Question_answer.csv\",encoding=\"latin-1\",nrows=100000)\n",
    "merged_df.head()"
   ]
  },
  {
   "cell_type": "code",
   "execution_count": 186,
   "metadata": {
    "collapsed": false
   },
   "outputs": [
    {
     "data": {
      "text/plain": [
       "Score_x   -24\n",
       "dtype: int64"
      ]
     },
     "execution_count": 186,
     "metadata": {},
     "output_type": "execute_result"
    }
   ],
   "source": [
    "merged_df[['Score_x']].min()"
   ]
  },
  {
   "cell_type": "code",
   "execution_count": 188,
   "metadata": {
    "collapsed": false
   },
   "outputs": [
    {
     "data": {
      "text/html": [
       "<div>\n",
       "<table border=\"1\" class=\"dataframe\">\n",
       "  <thead>\n",
       "    <tr style=\"text-align: right;\">\n",
       "      <th></th>\n",
       "      <th>Unnamed: 0</th>\n",
       "      <th>Id_x</th>\n",
       "      <th>OwnerUserId_x</th>\n",
       "      <th>CreationDate_x</th>\n",
       "      <th>ParentId</th>\n",
       "      <th>Score_x</th>\n",
       "      <th>Body_x</th>\n",
       "      <th>Class</th>\n",
       "      <th>Id_y</th>\n",
       "      <th>OwnerUserId_y</th>\n",
       "      <th>CreationDate_y</th>\n",
       "      <th>Score_y</th>\n",
       "      <th>Title</th>\n",
       "      <th>Body_y</th>\n",
       "    </tr>\n",
       "  </thead>\n",
       "  <tbody>\n",
       "    <tr>\n",
       "      <th>448</th>\n",
       "      <td>448</td>\n",
       "      <td>29347</td>\n",
       "      <td>1815.0</td>\n",
       "      <td>2008-08-27T01:50:48Z</td>\n",
       "      <td>28796</td>\n",
       "      <td>-18</td>\n",
       "      <td>&lt;p&gt;Most editors support the \"whole word\" searc...</td>\n",
       "      <td>0</td>\n",
       "      <td>28796</td>\n",
       "      <td>2900.0</td>\n",
       "      <td>2008-08-26T18:26:51Z</td>\n",
       "      <td>52</td>\n",
       "      <td>What refactoring tools do you use for Python?</td>\n",
       "      <td>&lt;p&gt;I have a bunch of classes I want to rename....</td>\n",
       "    </tr>\n",
       "    <tr>\n",
       "      <th>4734</th>\n",
       "      <td>4734</td>\n",
       "      <td>188427</td>\n",
       "      <td>19435.0</td>\n",
       "      <td>2008-10-09T18:01:58Z</td>\n",
       "      <td>183042</td>\n",
       "      <td>-15</td>\n",
       "      <td>&lt;p&gt;You could try writing a &lt;a href=\"http://www...</td>\n",
       "      <td>0</td>\n",
       "      <td>183042</td>\n",
       "      <td>7883.0</td>\n",
       "      <td>2008-10-08T14:26:20Z</td>\n",
       "      <td>26</td>\n",
       "      <td>How can I use UUIDs in SQLAlchemy?</td>\n",
       "      <td>&lt;p&gt;Is there a way to define a column (primary ...</td>\n",
       "    </tr>\n",
       "    <tr>\n",
       "      <th>12713</th>\n",
       "      <td>12713</td>\n",
       "      <td>474802</td>\n",
       "      <td>10661.0</td>\n",
       "      <td>2009-01-23T22:06:27Z</td>\n",
       "      <td>473620</td>\n",
       "      <td>-23</td>\n",
       "      <td>&lt;p&gt;80% of the time, when folks say \"daemon\", t...</td>\n",
       "      <td>0</td>\n",
       "      <td>473620</td>\n",
       "      <td>2183.0</td>\n",
       "      <td>2009-01-23T16:48:06Z</td>\n",
       "      <td>185</td>\n",
       "      <td>How do you create a daemon in Python?</td>\n",
       "      <td>&lt;p&gt;&lt;a href=\"http://www.google.co.uk/search?q=p...</td>\n",
       "    </tr>\n",
       "    <tr>\n",
       "      <th>18900</th>\n",
       "      <td>18900</td>\n",
       "      <td>688266</td>\n",
       "      <td>10661.0</td>\n",
       "      <td>2009-03-27T02:02:51Z</td>\n",
       "      <td>688245</td>\n",
       "      <td>-17</td>\n",
       "      <td>&lt;p&gt;I use &lt;a href=\"http://www.activestate.com/k...</td>\n",
       "      <td>0</td>\n",
       "      <td>688245</td>\n",
       "      <td>76288.0</td>\n",
       "      <td>2009-03-27T01:57:33Z</td>\n",
       "      <td>17</td>\n",
       "      <td>Is there a better Python bundle for textmate t...</td>\n",
       "      <td>&lt;p&gt;At this time Textmate's official Python bun...</td>\n",
       "    </tr>\n",
       "    <tr>\n",
       "      <th>22117</th>\n",
       "      <td>22117</td>\n",
       "      <td>6407157</td>\n",
       "      <td>806071.0</td>\n",
       "      <td>2011-06-20T05:32:22Z</td>\n",
       "      <td>805066</td>\n",
       "      <td>-19</td>\n",
       "      <td>&lt;p&gt;This is a more abstract method:&lt;/p&gt;\\n\\n\\n\\n...</td>\n",
       "      <td>0</td>\n",
       "      <td>805066</td>\n",
       "      <td>16513.0</td>\n",
       "      <td>2009-04-30T01:52:31Z</td>\n",
       "      <td>271</td>\n",
       "      <td>Call a parent class's method from child class ...</td>\n",
       "      <td>&lt;p&gt;When creating a simple object hierarchy in ...</td>\n",
       "    </tr>\n",
       "    <tr>\n",
       "      <th>38952</th>\n",
       "      <td>38952</td>\n",
       "      <td>1410442</td>\n",
       "      <td>101588.0</td>\n",
       "      <td>2009-09-11T11:55:51Z</td>\n",
       "      <td>1408940</td>\n",
       "      <td>-16</td>\n",
       "      <td>&lt;p&gt;If you're using JQuery this should do the t...</td>\n",
       "      <td>0</td>\n",
       "      <td>1408940</td>\n",
       "      <td>114672.0</td>\n",
       "      <td>2009-09-11T04:15:15Z</td>\n",
       "      <td>16</td>\n",
       "      <td>How do I hide the field label for a HiddenInpu...</td>\n",
       "      <td>&lt;p&gt;I've got a bit of Django form code that loo...</td>\n",
       "    </tr>\n",
       "    <tr>\n",
       "      <th>75442</th>\n",
       "      <td>75442</td>\n",
       "      <td>2654175</td>\n",
       "      <td>107366.0</td>\n",
       "      <td>2010-04-16T15:27:38Z</td>\n",
       "      <td>2654149</td>\n",
       "      <td>-17</td>\n",
       "      <td>&lt;pre&gt;&lt;code&gt;import math\\ndef number_of_bits(n):...</td>\n",
       "      <td>0</td>\n",
       "      <td>2654149</td>\n",
       "      <td>288832.0</td>\n",
       "      <td>2010-04-16T15:23:27Z</td>\n",
       "      <td>17</td>\n",
       "      <td>Count bits of a integer in Python</td>\n",
       "      <td>&lt;pre&gt;&lt;code&gt;1 = 0b1 -&amp;gt; 1\\n5 = 0b101 -&amp;gt; 3\\...</td>\n",
       "    </tr>\n",
       "    <tr>\n",
       "      <th>77216</th>\n",
       "      <td>77216</td>\n",
       "      <td>2726384</td>\n",
       "      <td>84270.0</td>\n",
       "      <td>2010-04-28T02:03:19Z</td>\n",
       "      <td>2725852</td>\n",
       "      <td>-24</td>\n",
       "      <td>&lt;blockquote&gt;\\n  &lt;p&gt;I am unable to find example...</td>\n",
       "      <td>0</td>\n",
       "      <td>2725852</td>\n",
       "      <td>223912.0</td>\n",
       "      <td>2010-04-27T23:25:52Z</td>\n",
       "      <td>42</td>\n",
       "      <td>writing to existing workbook using xlwt</td>\n",
       "      <td>&lt;p&gt;I am unable to find examples where xlwt is ...</td>\n",
       "    </tr>\n",
       "  </tbody>\n",
       "</table>\n",
       "</div>"
      ],
      "text/plain": [
       "       Unnamed: 0     Id_x  OwnerUserId_x        CreationDate_x  ParentId  \\\n",
       "448           448    29347         1815.0  2008-08-27T01:50:48Z     28796   \n",
       "4734         4734   188427        19435.0  2008-10-09T18:01:58Z    183042   \n",
       "12713       12713   474802        10661.0  2009-01-23T22:06:27Z    473620   \n",
       "18900       18900   688266        10661.0  2009-03-27T02:02:51Z    688245   \n",
       "22117       22117  6407157       806071.0  2011-06-20T05:32:22Z    805066   \n",
       "38952       38952  1410442       101588.0  2009-09-11T11:55:51Z   1408940   \n",
       "75442       75442  2654175       107366.0  2010-04-16T15:27:38Z   2654149   \n",
       "77216       77216  2726384        84270.0  2010-04-28T02:03:19Z   2725852   \n",
       "\n",
       "       Score_x                                             Body_x  Class  \\\n",
       "448        -18  <p>Most editors support the \"whole word\" searc...      0   \n",
       "4734       -15  <p>You could try writing a <a href=\"http://www...      0   \n",
       "12713      -23  <p>80% of the time, when folks say \"daemon\", t...      0   \n",
       "18900      -17  <p>I use <a href=\"http://www.activestate.com/k...      0   \n",
       "22117      -19  <p>This is a more abstract method:</p>\\n\\n\\n\\n...      0   \n",
       "38952      -16  <p>If you're using JQuery this should do the t...      0   \n",
       "75442      -17  <pre><code>import math\\ndef number_of_bits(n):...      0   \n",
       "77216      -24  <blockquote>\\n  <p>I am unable to find example...      0   \n",
       "\n",
       "          Id_y  OwnerUserId_y        CreationDate_y  Score_y  \\\n",
       "448      28796         2900.0  2008-08-26T18:26:51Z       52   \n",
       "4734    183042         7883.0  2008-10-08T14:26:20Z       26   \n",
       "12713   473620         2183.0  2009-01-23T16:48:06Z      185   \n",
       "18900   688245        76288.0  2009-03-27T01:57:33Z       17   \n",
       "22117   805066        16513.0  2009-04-30T01:52:31Z      271   \n",
       "38952  1408940       114672.0  2009-09-11T04:15:15Z       16   \n",
       "75442  2654149       288832.0  2010-04-16T15:23:27Z       17   \n",
       "77216  2725852       223912.0  2010-04-27T23:25:52Z       42   \n",
       "\n",
       "                                                   Title  \\\n",
       "448        What refactoring tools do you use for Python?   \n",
       "4734                  How can I use UUIDs in SQLAlchemy?   \n",
       "12713              How do you create a daemon in Python?   \n",
       "18900  Is there a better Python bundle for textmate t...   \n",
       "22117  Call a parent class's method from child class ...   \n",
       "38952  How do I hide the field label for a HiddenInpu...   \n",
       "75442                  Count bits of a integer in Python   \n",
       "77216            writing to existing workbook using xlwt   \n",
       "\n",
       "                                                  Body_y  \n",
       "448    <p>I have a bunch of classes I want to rename....  \n",
       "4734   <p>Is there a way to define a column (primary ...  \n",
       "12713  <p><a href=\"http://www.google.co.uk/search?q=p...  \n",
       "18900  <p>At this time Textmate's official Python bun...  \n",
       "22117  <p>When creating a simple object hierarchy in ...  \n",
       "38952  <p>I've got a bit of Django form code that loo...  \n",
       "75442  <pre><code>1 = 0b1 -&gt; 1\\n5 = 0b101 -&gt; 3\\...  \n",
       "77216  <p>I am unable to find examples where xlwt is ...  "
      ]
     },
     "execution_count": 188,
     "metadata": {},
     "output_type": "execute_result"
    }
   ],
   "source": [
    "merged_df.loc[merged_df['Score_x'] <= -15]"
   ]
  },
  {
   "cell_type": "code",
   "execution_count": 143,
   "metadata": {
    "collapsed": false
   },
   "outputs": [
    {
     "data": {
      "text/plain": [
       "77216"
      ]
     },
     "execution_count": 143,
     "metadata": {},
     "output_type": "execute_result"
    }
   ],
   "source": [
    "merged_df['Score_x'].idxmin()"
   ]
  },
  {
   "cell_type": "code",
   "execution_count": 144,
   "metadata": {
    "collapsed": false
   },
   "outputs": [
    {
     "data": {
      "text/plain": [
       "Unnamed: 0                                                    77216\n",
       "Id_x                                                        2726384\n",
       "OwnerUserId_x                                                 84270\n",
       "CreationDate_x                                 2010-04-28T02:03:19Z\n",
       "ParentId                                                    2725852\n",
       "Score_x                                                         -24\n",
       "Body_x            <blockquote>\\n  <p>I am unable to find example...\n",
       "Class                                                             0\n",
       "Id_y                                                        2725852\n",
       "OwnerUserId_y                                                223912\n",
       "CreationDate_y                                 2010-04-27T23:25:52Z\n",
       "Score_y                                                          42\n",
       "Title                       writing to existing workbook using xlwt\n",
       "Body_y            <p>I am unable to find examples where xlwt is ...\n",
       "Name: 77216, dtype: object"
      ]
     },
     "execution_count": 144,
     "metadata": {},
     "output_type": "execute_result"
    }
   ],
   "source": [
    "merged_df.ix[merged_df['Score_x'].idxmin()]"
   ]
  },
  {
   "cell_type": "code",
   "execution_count": 189,
   "metadata": {
    "collapsed": false
   },
   "outputs": [
    {
     "name": "stdout",
     "output_type": "stream",
     "text": [
      "       Unnamed: 0     Id_x  OwnerUserId_x        CreationDate_x  ParentId  \\\n",
      "448           448    29347         1815.0  2008-08-27T01:50:48Z     28796   \n",
      "4734         4734   188427        19435.0  2008-10-09T18:01:58Z    183042   \n",
      "12713       12713   474802        10661.0  2009-01-23T22:06:27Z    473620   \n",
      "18900       18900   688266        10661.0  2009-03-27T02:02:51Z    688245   \n",
      "22117       22117  6407157       806071.0  2011-06-20T05:32:22Z    805066   \n",
      "\n",
      "       Score_x                                             Body_x  Class  \\\n",
      "448        -18  <p>Most editors support the \"whole word\" searc...      0   \n",
      "4734       -15  <p>You could try writing a <a href=\"http://www...      0   \n",
      "12713      -23  <p>80% of the time, when folks say \"daemon\", t...      0   \n",
      "18900      -17  <p>I use <a href=\"http://www.activestate.com/k...      0   \n",
      "22117      -19  <p>This is a more abstract method:</p>\\n\\n\\n\\n...      0   \n",
      "\n",
      "         Id_y  OwnerUserId_y        CreationDate_y  Score_y  \\\n",
      "448     28796         2900.0  2008-08-26T18:26:51Z       52   \n",
      "4734   183042         7883.0  2008-10-08T14:26:20Z       26   \n",
      "12713  473620         2183.0  2009-01-23T16:48:06Z      185   \n",
      "18900  688245        76288.0  2009-03-27T01:57:33Z       17   \n",
      "22117  805066        16513.0  2009-04-30T01:52:31Z      271   \n",
      "\n",
      "                                                   Title  \\\n",
      "448        What refactoring tools do you use for Python?   \n",
      "4734                  How can I use UUIDs in SQLAlchemy?   \n",
      "12713              How do you create a daemon in Python?   \n",
      "18900  Is there a better Python bundle for textmate t...   \n",
      "22117  Call a parent class's method from child class ...   \n",
      "\n",
      "                                                  Body_y  \n",
      "448    <p>I have a bunch of classes I want to rename....  \n",
      "4734   <p>Is there a way to define a column (primary ...  \n",
      "12713  <p><a href=\"http://www.google.co.uk/search?q=p...  \n",
      "18900  <p>At this time Textmate's official Python bun...  \n",
      "22117  <p>When creating a simple object hierarchy in ...  \n"
     ]
    }
   ],
   "source": [
    "df=merged_df.loc[merged_df['Score_x'] <= -15]\n",
    "print(df)"
   ]
  },
  {
   "cell_type": "code",
   "execution_count": 207,
   "metadata": {
    "collapsed": false
   },
   "outputs": [
    {
     "data": {
      "text/html": [
       "<div>\n",
       "<table border=\"1\" class=\"dataframe\">\n",
       "  <thead>\n",
       "    <tr style=\"text-align: right;\">\n",
       "      <th></th>\n",
       "      <th>Unnamed: 0</th>\n",
       "      <th>Id_x</th>\n",
       "      <th>OwnerUserId_x</th>\n",
       "      <th>CreationDate_x</th>\n",
       "      <th>ParentId</th>\n",
       "      <th>Score_x</th>\n",
       "      <th>Body_x</th>\n",
       "      <th>Class</th>\n",
       "      <th>Id_y</th>\n",
       "      <th>OwnerUserId_y</th>\n",
       "      <th>CreationDate_y</th>\n",
       "      <th>Score_y</th>\n",
       "      <th>Title</th>\n",
       "      <th>Body_y</th>\n",
       "    </tr>\n",
       "  </thead>\n",
       "  <tbody>\n",
       "    <tr>\n",
       "      <th>12713</th>\n",
       "      <td>12713</td>\n",
       "      <td>474802</td>\n",
       "      <td>10661.0</td>\n",
       "      <td>2009-01-23T22:06:27Z</td>\n",
       "      <td>473620</td>\n",
       "      <td>-23</td>\n",
       "      <td>&lt;p&gt;80% of the time, when folks say \"daemon\", t...</td>\n",
       "      <td>0</td>\n",
       "      <td>473620</td>\n",
       "      <td>2183.0</td>\n",
       "      <td>2009-01-23T16:48:06Z</td>\n",
       "      <td>185</td>\n",
       "      <td>How do you create a daemon in Python?</td>\n",
       "      <td>&lt;p&gt;&lt;a href=\"http://www.google.co.uk/search?q=p...</td>\n",
       "    </tr>\n",
       "  </tbody>\n",
       "</table>\n",
       "</div>"
      ],
      "text/plain": [
       "       Unnamed: 0    Id_x  OwnerUserId_x        CreationDate_x  ParentId  \\\n",
       "12713       12713  474802        10661.0  2009-01-23T22:06:27Z    473620   \n",
       "\n",
       "       Score_x                                             Body_x  Class  \\\n",
       "12713      -23  <p>80% of the time, when folks say \"daemon\", t...      0   \n",
       "\n",
       "         Id_y  OwnerUserId_y        CreationDate_y  Score_y  \\\n",
       "12713  473620         2183.0  2009-01-23T16:48:06Z      185   \n",
       "\n",
       "                                       Title  \\\n",
       "12713  How do you create a daemon in Python?   \n",
       "\n",
       "                                                  Body_y  \n",
       "12713  <p><a href=\"http://www.google.co.uk/search?q=p...  "
      ]
     },
     "execution_count": 207,
     "metadata": {},
     "output_type": "execute_result"
    }
   ],
   "source": [
    "df2=merged_df.loc[merged_df['Score_x'] == -23]\n",
    "df2"
   ]
  },
  {
   "cell_type": "code",
   "execution_count": 211,
   "metadata": {
    "collapsed": false
   },
   "outputs": [
    {
     "data": {
      "text/html": [
       "<div>\n",
       "<table border=\"1\" class=\"dataframe\">\n",
       "  <thead>\n",
       "    <tr style=\"text-align: right;\">\n",
       "      <th></th>\n",
       "      <th>Unnamed: 0</th>\n",
       "      <th>Id_x</th>\n",
       "      <th>OwnerUserId_x</th>\n",
       "      <th>CreationDate_x</th>\n",
       "      <th>ParentId</th>\n",
       "      <th>Score_x</th>\n",
       "      <th>Body_x</th>\n",
       "      <th>Class</th>\n",
       "      <th>Id_y</th>\n",
       "      <th>OwnerUserId_y</th>\n",
       "      <th>CreationDate_y</th>\n",
       "      <th>Score_y</th>\n",
       "      <th>Title</th>\n",
       "      <th>Body_y</th>\n",
       "    </tr>\n",
       "  </thead>\n",
       "  <tbody>\n",
       "    <tr>\n",
       "      <th>12713</th>\n",
       "      <td>12713</td>\n",
       "      <td>474802</td>\n",
       "      <td>10661.0</td>\n",
       "      <td>2009-01-23T22:06:27Z</td>\n",
       "      <td>473620</td>\n",
       "      <td>-23</td>\n",
       "      <td>&lt;p&gt;80% of the time, when folks say \"daemon\", they only want a server.  Since the question is perfectly unclear on this point, it's hard to say what the possible domain of answers could be.  Since a server is adequate, start there.  If an actual \"daemon\" is actually needed (this is rare), read up on &lt;code&gt;nohup&lt;/code&gt; as a way to daemonize a server.&lt;/p&gt;\\n\\n&lt;p&gt;Until such time as an actual daemon is actually required, just write a simple server.&lt;/p&gt;\\n\\n&lt;p&gt;Also look at the &lt;a href=\"http://www.python.org/doc/2.5.2/lib/module-wsgiref.html\" rel=\"nofollow\"&gt;WSGI reference&lt;/a&gt; implementation.&lt;/p&gt;\\n\\n&lt;p&gt;Also look at the &lt;a href=\"http://www.python.org/doc/2.5.2/lib/module-SimpleHTTPServer.html\" rel=\"nofollow\"&gt;Simple HTTP Server&lt;/a&gt;.&lt;/p&gt;\\n\\n&lt;p&gt;\"Are there any additional things that need to be considered? \"  Yes.  About a million things.  What protocol?  How many requests?  How long to service each request?  How frequently will they arrive?  Will you use a dedicated process?  Threads?  Subprocesses?  Writing a daemon is a big job.  &lt;/p&gt;\\n</td>\n",
       "      <td>0</td>\n",
       "      <td>473620</td>\n",
       "      <td>2183.0</td>\n",
       "      <td>2009-01-23T16:48:06Z</td>\n",
       "      <td>185</td>\n",
       "      <td>How do you create a daemon in Python?</td>\n",
       "      <td>&lt;p&gt;&lt;a href=\"http://www.google.co.uk/search?q=python+daemon\"&gt;Searching on Google&lt;/a&gt; reveals x2 code snippets. The first result is to &lt;a href=\"http://code.activestate.com/recipes/278731/\"&gt;this code recipe&lt;/a&gt; which has a lot of documentation and explanation, along with some useful discussion underneath. &lt;/p&gt;\\n\\n&lt;p&gt;However, &lt;a href=\"http://www.jejik.com/articles/2007/02/a_simple_unix_linux_daemon_in_python/\"&gt;another code sample&lt;/a&gt;, whilst not containing so much documentation, includes sample code for passing commands such as start, stop and restart. It also creates a PID file which can be handy for checking if the daemon is already running etc.&lt;/p&gt;\\n\\n&lt;p&gt;These samples both explain how to create the daemon. Are there any additional things that need to be considered? Is one sample better than the other, and why?&lt;/p&gt;\\n</td>\n",
       "    </tr>\n",
       "  </tbody>\n",
       "</table>\n",
       "</div>"
      ],
      "text/plain": [
       "       Unnamed: 0    Id_x  OwnerUserId_x        CreationDate_x  ParentId  \\\n",
       "12713       12713  474802        10661.0  2009-01-23T22:06:27Z    473620   \n",
       "\n",
       "       Score_x  \\\n",
       "12713      -23   \n",
       "\n",
       "                                                                                                                                                                                                                                                                                                                                                                                                                                                                                                                                                                                                                                                                                                                                                                                                                                                                                                                                                                                                                                                                                Body_x  \\\n",
       "12713  <p>80% of the time, when folks say \"daemon\", they only want a server.  Since the question is perfectly unclear on this point, it's hard to say what the possible domain of answers could be.  Since a server is adequate, start there.  If an actual \"daemon\" is actually needed (this is rare), read up on <code>nohup</code> as a way to daemonize a server.</p>\\n\\n<p>Until such time as an actual daemon is actually required, just write a simple server.</p>\\n\\n<p>Also look at the <a href=\"http://www.python.org/doc/2.5.2/lib/module-wsgiref.html\" rel=\"nofollow\">WSGI reference</a> implementation.</p>\\n\\n<p>Also look at the <a href=\"http://www.python.org/doc/2.5.2/lib/module-SimpleHTTPServer.html\" rel=\"nofollow\">Simple HTTP Server</a>.</p>\\n\\n<p>\"Are there any additional things that need to be considered? \"  Yes.  About a million things.  What protocol?  How many requests?  How long to service each request?  How frequently will they arrive?  Will you use a dedicated process?  Threads?  Subprocesses?  Writing a daemon is a big job.  </p>\\n   \n",
       "\n",
       "       Class    Id_y  OwnerUserId_y        CreationDate_y  Score_y  \\\n",
       "12713      0  473620         2183.0  2009-01-23T16:48:06Z      185   \n",
       "\n",
       "                                       Title  \\\n",
       "12713  How do you create a daemon in Python?   \n",
       "\n",
       "                                                                                                                                                                                                                                                                                                                                                                                                                                                                                                                                                                                                                                                                                                                                                                                                                                                           Body_y  \n",
       "12713  <p><a href=\"http://www.google.co.uk/search?q=python+daemon\">Searching on Google</a> reveals x2 code snippets. The first result is to <a href=\"http://code.activestate.com/recipes/278731/\">this code recipe</a> which has a lot of documentation and explanation, along with some useful discussion underneath. </p>\\n\\n<p>However, <a href=\"http://www.jejik.com/articles/2007/02/a_simple_unix_linux_daemon_in_python/\">another code sample</a>, whilst not containing so much documentation, includes sample code for passing commands such as start, stop and restart. It also creates a PID file which can be handy for checking if the daemon is already running etc.</p>\\n\\n<p>These samples both explain how to create the daemon. Are there any additional things that need to be considered? Is one sample better than the other, and why?</p>\\n  "
      ]
     },
     "execution_count": 211,
     "metadata": {},
     "output_type": "execute_result"
    }
   ],
   "source": [
    "pd.set_option('max_colwidth',2000)\n",
    "df2"
   ]
  },
  {
   "cell_type": "code",
   "execution_count": 190,
   "metadata": {
    "collapsed": false
   },
   "outputs": [
    {
     "data": {
      "text/html": [
       "<div>\n",
       "<table border=\"1\" class=\"dataframe\">\n",
       "  <thead>\n",
       "    <tr style=\"text-align: right;\">\n",
       "      <th></th>\n",
       "      <th>Score</th>\n",
       "      <th>Class</th>\n",
       "    </tr>\n",
       "  </thead>\n",
       "  <tbody>\n",
       "    <tr>\n",
       "      <th>448</th>\n",
       "      <td>-18</td>\n",
       "      <td>0</td>\n",
       "    </tr>\n",
       "    <tr>\n",
       "      <th>4734</th>\n",
       "      <td>-15</td>\n",
       "      <td>0</td>\n",
       "    </tr>\n",
       "    <tr>\n",
       "      <th>12713</th>\n",
       "      <td>-23</td>\n",
       "      <td>0</td>\n",
       "    </tr>\n",
       "    <tr>\n",
       "      <th>18900</th>\n",
       "      <td>-17</td>\n",
       "      <td>0</td>\n",
       "    </tr>\n",
       "    <tr>\n",
       "      <th>22117</th>\n",
       "      <td>-19</td>\n",
       "      <td>0</td>\n",
       "    </tr>\n",
       "  </tbody>\n",
       "</table>\n",
       "</div>"
      ],
      "text/plain": [
       "       Score  Class\n",
       "448      -18      0\n",
       "4734     -15      0\n",
       "12713    -23      0\n",
       "18900    -17      0\n",
       "22117    -19      0"
      ]
     },
     "execution_count": 190,
     "metadata": {},
     "output_type": "execute_result"
    }
   ],
   "source": [
    "#Pre-processing the target variable\n",
    "\n",
    "target_df=merged_df[['Score_x','Class']]\n",
    "target_df.columns=['Score','Class']\n",
    "target_df.head()\n",
    "\n",
    "t_df=df[['Score_x','Class']]\n",
    "t_df.columns=['Score','Class']\n",
    "t_df.head()"
   ]
  },
  {
   "cell_type": "code",
   "execution_count": 191,
   "metadata": {
    "collapsed": false
   },
   "outputs": [
    {
     "data": {
      "text/html": [
       "<div>\n",
       "<table border=\"1\" class=\"dataframe\">\n",
       "  <thead>\n",
       "    <tr style=\"text-align: right;\">\n",
       "      <th></th>\n",
       "      <th>Unnamed: 0</th>\n",
       "      <th>Id_x</th>\n",
       "      <th>OwnerUserId_x</th>\n",
       "      <th>CreationDate_x</th>\n",
       "      <th>ParentId</th>\n",
       "      <th>Body_x</th>\n",
       "      <th>Id_y</th>\n",
       "      <th>OwnerUserId_y</th>\n",
       "      <th>CreationDate_y</th>\n",
       "      <th>Title</th>\n",
       "      <th>Body_y</th>\n",
       "    </tr>\n",
       "  </thead>\n",
       "  <tbody>\n",
       "    <tr>\n",
       "      <th>0</th>\n",
       "      <td>0</td>\n",
       "      <td>497</td>\n",
       "      <td>50.0</td>\n",
       "      <td>2008-08-02T16:56:53Z</td>\n",
       "      <td>469</td>\n",
       "      <td>&lt;p&gt;open up a terminal (Applications-&amp;gt;Utilit...</td>\n",
       "      <td>469</td>\n",
       "      <td>147.0</td>\n",
       "      <td>2008-08-02T15:11:16Z</td>\n",
       "      <td>How can I find the full path to a font from it...</td>\n",
       "      <td>&lt;p&gt;I am using the Photoshop's javascript API t...</td>\n",
       "    </tr>\n",
       "    <tr>\n",
       "      <th>1</th>\n",
       "      <td>1</td>\n",
       "      <td>518</td>\n",
       "      <td>153.0</td>\n",
       "      <td>2008-08-02T17:42:28Z</td>\n",
       "      <td>469</td>\n",
       "      <td>&lt;p&gt;I haven't been able to find anything that d...</td>\n",
       "      <td>469</td>\n",
       "      <td>147.0</td>\n",
       "      <td>2008-08-02T15:11:16Z</td>\n",
       "      <td>How can I find the full path to a font from it...</td>\n",
       "      <td>&lt;p&gt;I am using the Photoshop's javascript API t...</td>\n",
       "    </tr>\n",
       "    <tr>\n",
       "      <th>2</th>\n",
       "      <td>2</td>\n",
       "      <td>3040</td>\n",
       "      <td>457.0</td>\n",
       "      <td>2008-08-06T03:01:23Z</td>\n",
       "      <td>469</td>\n",
       "      <td>&lt;p&gt;Unfortunately the only API that isn't depre...</td>\n",
       "      <td>469</td>\n",
       "      <td>147.0</td>\n",
       "      <td>2008-08-02T15:11:16Z</td>\n",
       "      <td>How can I find the full path to a font from it...</td>\n",
       "      <td>&lt;p&gt;I am using the Photoshop's javascript API t...</td>\n",
       "    </tr>\n",
       "    <tr>\n",
       "      <th>3</th>\n",
       "      <td>3</td>\n",
       "      <td>195170</td>\n",
       "      <td>745.0</td>\n",
       "      <td>2008-10-12T07:02:40Z</td>\n",
       "      <td>469</td>\n",
       "      <td>&lt;p&gt;There must be a method in Cocoa to get a li...</td>\n",
       "      <td>469</td>\n",
       "      <td>147.0</td>\n",
       "      <td>2008-08-02T15:11:16Z</td>\n",
       "      <td>How can I find the full path to a font from it...</td>\n",
       "      <td>&lt;p&gt;I am using the Photoshop's javascript API t...</td>\n",
       "    </tr>\n",
       "    <tr>\n",
       "      <th>4</th>\n",
       "      <td>4</td>\n",
       "      <td>536</td>\n",
       "      <td>161.0</td>\n",
       "      <td>2008-08-02T18:49:07Z</td>\n",
       "      <td>502</td>\n",
       "      <td>&lt;p&gt;You can use ImageMagick's convert utility f...</td>\n",
       "      <td>502</td>\n",
       "      <td>147.0</td>\n",
       "      <td>2008-08-02T17:01:58Z</td>\n",
       "      <td>Get a preview JPEG of a PDF on Windows?</td>\n",
       "      <td>&lt;p&gt;I have a cross-platform (Python) applicatio...</td>\n",
       "    </tr>\n",
       "  </tbody>\n",
       "</table>\n",
       "</div>"
      ],
      "text/plain": [
       "   Unnamed: 0    Id_x  OwnerUserId_x        CreationDate_x  ParentId  \\\n",
       "0           0     497           50.0  2008-08-02T16:56:53Z       469   \n",
       "1           1     518          153.0  2008-08-02T17:42:28Z       469   \n",
       "2           2    3040          457.0  2008-08-06T03:01:23Z       469   \n",
       "3           3  195170          745.0  2008-10-12T07:02:40Z       469   \n",
       "4           4     536          161.0  2008-08-02T18:49:07Z       502   \n",
       "\n",
       "                                              Body_x  Id_y  OwnerUserId_y  \\\n",
       "0  <p>open up a terminal (Applications-&gt;Utilit...   469          147.0   \n",
       "1  <p>I haven't been able to find anything that d...   469          147.0   \n",
       "2  <p>Unfortunately the only API that isn't depre...   469          147.0   \n",
       "3  <p>There must be a method in Cocoa to get a li...   469          147.0   \n",
       "4  <p>You can use ImageMagick's convert utility f...   502          147.0   \n",
       "\n",
       "         CreationDate_y                                              Title  \\\n",
       "0  2008-08-02T15:11:16Z  How can I find the full path to a font from it...   \n",
       "1  2008-08-02T15:11:16Z  How can I find the full path to a font from it...   \n",
       "2  2008-08-02T15:11:16Z  How can I find the full path to a font from it...   \n",
       "3  2008-08-02T15:11:16Z  How can I find the full path to a font from it...   \n",
       "4  2008-08-02T17:01:58Z            Get a preview JPEG of a PDF on Windows?   \n",
       "\n",
       "                                              Body_y  \n",
       "0  <p>I am using the Photoshop's javascript API t...  \n",
       "1  <p>I am using the Photoshop's javascript API t...  \n",
       "2  <p>I am using the Photoshop's javascript API t...  \n",
       "3  <p>I am using the Photoshop's javascript API t...  \n",
       "4  <p>I have a cross-platform (Python) applicatio...  "
      ]
     },
     "execution_count": 191,
     "metadata": {},
     "output_type": "execute_result"
    }
   ],
   "source": [
    "arr=[\"Score_y\",\"Score_x\",\"Class\"]\n",
    "merged_df=merged_df.drop(\"Score_y\",1)\n",
    "merged_df=merged_df.drop(\"Score_x\",1)\n",
    "merged_df=merged_df.drop(\"Class\",1)\n",
    "merged_df.head()"
   ]
  },
  {
   "cell_type": "code",
   "execution_count": 193,
   "metadata": {
    "collapsed": false
   },
   "outputs": [
    {
     "ename": "ValueError",
     "evalue": "labels ['Score_y'] not contained in axis",
     "output_type": "error",
     "traceback": [
      "\u001b[0;31m---------------------------------------------------------------------------\u001b[0m",
      "\u001b[0;31mValueError\u001b[0m                                Traceback (most recent call last)",
      "\u001b[0;32m<ipython-input-193-11d6f8c1ccd8>\u001b[0m in \u001b[0;36m<module>\u001b[0;34m()\u001b[0m\n\u001b[1;32m      1\u001b[0m \u001b[0marr\u001b[0m\u001b[0;34m=\u001b[0m\u001b[0;34m[\u001b[0m\u001b[0;34m\"Score_y\"\u001b[0m\u001b[0;34m,\u001b[0m\u001b[0;34m\"Score_x\"\u001b[0m\u001b[0;34m,\u001b[0m\u001b[0;34m\"Class\"\u001b[0m\u001b[0;34m]\u001b[0m\u001b[0;34m\u001b[0m\u001b[0m\n\u001b[0;32m----> 2\u001b[0;31m \u001b[0mdf\u001b[0m\u001b[0;34m=\u001b[0m\u001b[0mdf\u001b[0m\u001b[0;34m.\u001b[0m\u001b[0mdrop\u001b[0m\u001b[0;34m(\u001b[0m\u001b[0;34m\"Score_y\"\u001b[0m\u001b[0;34m,\u001b[0m\u001b[0;36m1\u001b[0m\u001b[0;34m)\u001b[0m\u001b[0;34m\u001b[0m\u001b[0m\n\u001b[0m\u001b[1;32m      3\u001b[0m \u001b[0mdf\u001b[0m\u001b[0;34m=\u001b[0m\u001b[0mdf\u001b[0m\u001b[0;34m.\u001b[0m\u001b[0mdrop\u001b[0m\u001b[0;34m(\u001b[0m\u001b[0;34m\"Score_x\"\u001b[0m\u001b[0;34m,\u001b[0m\u001b[0;36m1\u001b[0m\u001b[0;34m)\u001b[0m\u001b[0;34m\u001b[0m\u001b[0m\n\u001b[1;32m      4\u001b[0m \u001b[0mdf\u001b[0m\u001b[0;34m=\u001b[0m\u001b[0mdf\u001b[0m\u001b[0;34m.\u001b[0m\u001b[0mdrop\u001b[0m\u001b[0;34m(\u001b[0m\u001b[0;34m\"Class\"\u001b[0m\u001b[0;34m,\u001b[0m\u001b[0;36m1\u001b[0m\u001b[0;34m)\u001b[0m\u001b[0;34m\u001b[0m\u001b[0m\n\u001b[1;32m      5\u001b[0m \u001b[0mdf\u001b[0m\u001b[0;34m\u001b[0m\u001b[0m\n",
      "\u001b[0;32m/Library/Frameworks/Python.framework/Versions/3.5/lib/python3.5/site-packages/pandas/core/generic.py\u001b[0m in \u001b[0;36mdrop\u001b[0;34m(self, labels, axis, level, inplace, errors)\u001b[0m\n\u001b[1;32m   1905\u001b[0m                 \u001b[0mnew_axis\u001b[0m \u001b[0;34m=\u001b[0m \u001b[0maxis\u001b[0m\u001b[0;34m.\u001b[0m\u001b[0mdrop\u001b[0m\u001b[0;34m(\u001b[0m\u001b[0mlabels\u001b[0m\u001b[0;34m,\u001b[0m \u001b[0mlevel\u001b[0m\u001b[0;34m=\u001b[0m\u001b[0mlevel\u001b[0m\u001b[0;34m,\u001b[0m \u001b[0merrors\u001b[0m\u001b[0;34m=\u001b[0m\u001b[0merrors\u001b[0m\u001b[0;34m)\u001b[0m\u001b[0;34m\u001b[0m\u001b[0m\n\u001b[1;32m   1906\u001b[0m             \u001b[0;32melse\u001b[0m\u001b[0;34m:\u001b[0m\u001b[0;34m\u001b[0m\u001b[0m\n\u001b[0;32m-> 1907\u001b[0;31m                 \u001b[0mnew_axis\u001b[0m \u001b[0;34m=\u001b[0m \u001b[0maxis\u001b[0m\u001b[0;34m.\u001b[0m\u001b[0mdrop\u001b[0m\u001b[0;34m(\u001b[0m\u001b[0mlabels\u001b[0m\u001b[0;34m,\u001b[0m \u001b[0merrors\u001b[0m\u001b[0;34m=\u001b[0m\u001b[0merrors\u001b[0m\u001b[0;34m)\u001b[0m\u001b[0;34m\u001b[0m\u001b[0m\n\u001b[0m\u001b[1;32m   1908\u001b[0m             \u001b[0mdropped\u001b[0m \u001b[0;34m=\u001b[0m \u001b[0mself\u001b[0m\u001b[0;34m.\u001b[0m\u001b[0mreindex\u001b[0m\u001b[0;34m(\u001b[0m\u001b[0;34m**\u001b[0m\u001b[0;34m{\u001b[0m\u001b[0maxis_name\u001b[0m\u001b[0;34m:\u001b[0m \u001b[0mnew_axis\u001b[0m\u001b[0;34m}\u001b[0m\u001b[0;34m)\u001b[0m\u001b[0;34m\u001b[0m\u001b[0m\n\u001b[1;32m   1909\u001b[0m             \u001b[0;32mtry\u001b[0m\u001b[0;34m:\u001b[0m\u001b[0;34m\u001b[0m\u001b[0m\n",
      "\u001b[0;32m/Library/Frameworks/Python.framework/Versions/3.5/lib/python3.5/site-packages/pandas/indexes/base.py\u001b[0m in \u001b[0;36mdrop\u001b[0;34m(self, labels, errors)\u001b[0m\n\u001b[1;32m   3225\u001b[0m             \u001b[0;32mif\u001b[0m \u001b[0merrors\u001b[0m \u001b[0;34m!=\u001b[0m \u001b[0;34m'ignore'\u001b[0m\u001b[0;34m:\u001b[0m\u001b[0;34m\u001b[0m\u001b[0m\n\u001b[1;32m   3226\u001b[0m                 raise ValueError('labels %s not contained in axis' %\n\u001b[0;32m-> 3227\u001b[0;31m                                  labels[mask])\n\u001b[0m\u001b[1;32m   3228\u001b[0m             \u001b[0mindexer\u001b[0m \u001b[0;34m=\u001b[0m \u001b[0mindexer\u001b[0m\u001b[0;34m[\u001b[0m\u001b[0;34m~\u001b[0m\u001b[0mmask\u001b[0m\u001b[0;34m]\u001b[0m\u001b[0;34m\u001b[0m\u001b[0m\n\u001b[1;32m   3229\u001b[0m         \u001b[0;32mreturn\u001b[0m \u001b[0mself\u001b[0m\u001b[0;34m.\u001b[0m\u001b[0mdelete\u001b[0m\u001b[0;34m(\u001b[0m\u001b[0mindexer\u001b[0m\u001b[0;34m)\u001b[0m\u001b[0;34m\u001b[0m\u001b[0m\n",
      "\u001b[0;31mValueError\u001b[0m: labels ['Score_y'] not contained in axis"
     ]
    }
   ],
   "source": [
    "arr=[\"Score_y\",\"Score_x\",\"Class\"]\n",
    "df=df.drop(\"Score_y\",1)\n",
    "df=df.drop(\"Score_x\",1)\n",
    "df=df.drop(\"Class\",1)\n"
   ]
  },
  {
   "cell_type": "code",
   "execution_count": 194,
   "metadata": {
    "collapsed": true
   },
   "outputs": [],
   "source": [
    "merged_df=merged_df[['Title','Body_y','Body_x','CreationDate_x']]\n",
    "merged_df.columns=['Question_title','Question_body','Answer','Creation_date']"
   ]
  },
  {
   "cell_type": "code",
   "execution_count": 195,
   "metadata": {
    "collapsed": true
   },
   "outputs": [],
   "source": [
    "df=df[['Title','Body_y','Body_x','CreationDate_x']]\n",
    "df.columns=['Question_title','Question_body','Answer','Creation_date']\n"
   ]
  },
  {
   "cell_type": "code",
   "execution_count": 6,
   "metadata": {
    "collapsed": false
   },
   "outputs": [
    {
     "name": "stdout",
     "output_type": "stream",
     "text": [
      "Train size is :  67000\n",
      "Test size is :  33000\n"
     ]
    }
   ],
   "source": [
    "\n",
    "\n",
    "X_train, X_test, y_train, y_test = train_test_split(merged_df, target_df, test_size=0.33, random_state=42)\n",
    "\n",
    "target_train_df=y_train\n",
    "target_test_df=y_test\n",
    "input_train_df=X_train\n",
    "input_test_df=X_test\n",
    "\n",
    "#Size of train and test set\n",
    "\n",
    "print(\"Train size is : \",len(input_train_df))\n",
    "print(\"Test size is : \",len(input_test_df))"
   ]
  },
  {
   "cell_type": "code",
   "execution_count": 7,
   "metadata": {
    "collapsed": false
   },
   "outputs": [
    {
     "name": "stdout",
     "output_type": "stream",
     "text": [
      "Mean = 9.28914925373\n",
      "Variance= 4146.02136318\n"
     ]
    }
   ],
   "source": [
    "#Mean Score for the Target training set\n",
    "\n",
    "print(\"Mean =\",target_train_df['Score'].mean())\n",
    "print(\"Variance=\",target_train_df['Score'].var())"
   ]
  },
  {
   "cell_type": "code",
   "execution_count": 8,
   "metadata": {
    "collapsed": true
   },
   "outputs": [],
   "source": [
    "#function to tokenize and remove the stop words\n",
    "\n",
    "stop = stopwords.words('english') \n",
    "\n",
    "def tokenize(text):\n",
    "    tokens =[]\n",
    "    tokens = re.sub('\\W+', ' ', text.lower()).split() \n",
    "    tokens = [x for x in tokens if ((x not in stop) and len(x)>2)]\n",
    "    return ' '.join(x for x in tokens)\n"
   ]
  },
  {
   "cell_type": "code",
   "execution_count": 197,
   "metadata": {
    "collapsed": false
   },
   "outputs": [],
   "source": [
    "#Merging questions and answers and tokenizing\n",
    "\n",
    "cl_df=[tokenize(x) for x in (merged_df['Question_body']+ merged_df['Answer'])] "
   ]
  },
  {
   "cell_type": "code",
   "execution_count": null,
   "metadata": {
    "collapsed": true
   },
   "outputs": [],
   "source": []
  },
  {
   "cell_type": "code",
   "execution_count": 171,
   "metadata": {
    "collapsed": false
   },
   "outputs": [
    {
     "name": "stdout",
     "output_type": "stream",
     "text": [
      "(67000,)\n"
     ]
    }
   ],
   "source": [
    "X_train, X_test, y_train, y_test = train_test_split((merged_df['Question_body']+ merged_df['Answer']), target_df['Class'], test_size=0.33, random_state=42)\n",
    "print(X_train.shape)\n"
   ]
  },
  {
   "cell_type": "code",
   "execution_count": null,
   "metadata": {
    "collapsed": false
   },
   "outputs": [],
   "source": [
    "\n"
   ]
  },
  {
   "cell_type": "code",
   "execution_count": 174,
   "metadata": {
    "collapsed": false
   },
   "outputs": [
    {
     "data": {
      "text/plain": [
       "77214    <p>I am unable to find examples where xlwt is ...\n",
       "77215    <p>I am unable to find examples where xlwt is ...\n",
       "77216    <p>I am unable to find examples where xlwt is ...\n",
       "77217    <p>I am unable to find examples where xlwt is ...\n",
       "77218    <p>I am unable to find examples where xlwt is ...\n",
       "dtype: object"
      ]
     },
     "execution_count": 174,
     "metadata": {},
     "output_type": "execute_result"
    }
   ],
   "source": [
    "(df['Question_body']+ df['Answer'])"
   ]
  },
  {
   "cell_type": "code",
   "execution_count": 176,
   "metadata": {
    "collapsed": false
   },
   "outputs": [
    {
     "name": "stdout",
     "output_type": "stream",
     "text": [
      "(67002,)\n"
     ]
    }
   ],
   "source": [
    "X_train=X_train+(df['Question_body']+ df['Answer'])\n",
    "print(X_train.shape)"
   ]
  },
  {
   "cell_type": "code",
   "execution_count": 163,
   "metadata": {
    "collapsed": true
   },
   "outputs": [],
   "source": [
    "X1=X_train+df"
   ]
  },
  {
   "cell_type": "code",
   "execution_count": null,
   "metadata": {
    "collapsed": true
   },
   "outputs": [],
   "source": []
  },
  {
   "cell_type": "code",
   "execution_count": 196,
   "metadata": {
    "collapsed": true
   },
   "outputs": [],
   "source": [
    "cl_df1=[tokenize(x) for x in (df['Question_body']+ df['Answer'])] "
   ]
  },
  {
   "cell_type": "code",
   "execution_count": 198,
   "metadata": {
    "collapsed": false
   },
   "outputs": [
    {
     "name": "stdout",
     "output_type": "stream",
     "text": [
      "Shape of the input matrix is :  (100000, 229608)\n"
     ]
    }
   ],
   "source": [
    "#Creating the CountVectorizer\n",
    "#vectorizer = TfidfVectorizer()\n",
    "vec = TfidfVectorizer()\n",
    "X_mtrx = vec.fit_transform(cl_df)\n",
    "print(\"Shape of the input matrix is : \", X_mtrx.shape)\n",
    "\n",
    "#Splitting the data into traina nd test\n",
    "\n",
    "X_train, X_test, y_train, y_test = train_test_split(X_mtrx, target_df['Class'], test_size=0.33, random_state=42)\n",
    "\n"
   ]
  },
  {
   "cell_type": "code",
   "execution_count": 199,
   "metadata": {
    "collapsed": false
   },
   "outputs": [
    {
     "name": "stdout",
     "output_type": "stream",
     "text": [
      "Shape of the input matrix is :  (8, 229608)\n"
     ]
    }
   ],
   "source": [
    "#vec = CountVectorizer(input='content',binary=False)\n",
    "X_mtrx1 = vec.transform(cl_df1)\n",
    "print(\"Shape of the input matrix is : \", X_mtrx1.shape)\n"
   ]
  },
  {
   "cell_type": "markdown",
   "metadata": {},
   "source": [
    "# Performance Measure :  Precision \n",
    "\n",
    "The precision is the ratio tp / (tp + fp) where tp is the number of true positives and fp the number of false positives. The precision is intuitively the ability of the classifier not to label as positive a sample that is negative.\n",
    "\n",
    "#### Classfication Report\n",
    "We are also printing the classification report for each setting\n",
    "\n",
    "#### Matthews correlation coefficient (MCC)\n",
    "\n",
    "The Matthews correlation coefficient is used in machine learning as a measure of the quality of binary (two-class) classifications. It takes into account true and false positives and negatives and is generally regarded as a balanced measure which can be used even if the classes are of very different sizes. The MCC is in essence a correlation coefficient value between -1 and +1. A coefficient of +1 represents a perfect prediction, 0 an average random prediction and -1 an inverse prediction. The statistic is also known as the phi coefficient.\n",
    "\n",
    "Since our data is skewed, we decided to print the Matthews correlation coefficient (MCC).\n"
   ]
  },
  {
   "cell_type": "code",
   "execution_count": 11,
   "metadata": {
    "collapsed": true
   },
   "outputs": [],
   "source": [
    "#perf_scores is a dictionary to store the scores. \n",
    "\n",
    "perf_scores={}"
   ]
  },
  {
   "cell_type": "markdown",
   "metadata": {},
   "source": [
    "# Baseline Settings "
   ]
  },
  {
   "cell_type": "markdown",
   "metadata": {},
   "source": [
    "### Baseline 1"
   ]
  },
  {
   "cell_type": "code",
   "execution_count": 12,
   "metadata": {
    "collapsed": false
   },
   "outputs": [
    {
     "data": {
      "text/plain": [
       "DummyClassifier(constant=None, random_state=None, strategy='uniform')"
      ]
     },
     "execution_count": 12,
     "metadata": {},
     "output_type": "execute_result"
    }
   ],
   "source": [
    "## Baseline Classifier predicting the random class \n",
    "\n",
    "clf=DummyClassifier(strategy=\"uniform\")\n",
    "clf.fit(X_train,y_train)"
   ]
  },
  {
   "cell_type": "code",
   "execution_count": 13,
   "metadata": {
    "collapsed": false
   },
   "outputs": [
    {
     "name": "stdout",
     "output_type": "stream",
     "text": [
      "Accuracy of trained model: 0.500 \n",
      "10 fold Precsion_score of trained model: 0.769 \n",
      "10 fold Accuracy_score of trained model: 0.502 \n"
     ]
    }
   ],
   "source": [
    "print(\"Accuracy of trained model: %0.3f \"%clf.score(X_train,y_train))\n",
    "\n",
    "scores = cross_val_score(clf, X_train, y_train, cv=10, scoring ='precision')\n",
    "print(\"10 fold Precsion_score of trained model: %0.3f \"% (np.mean(scores)))\n",
    "\n",
    "scores = cross_val_score(clf, X_train, y_train, cv=10, scoring='accuracy')\n",
    "print(\"10 fold Accuracy_score of trained model: %0.3f \"% (np.mean(scores)))\n"
   ]
  },
  {
   "cell_type": "code",
   "execution_count": 14,
   "metadata": {
    "collapsed": false
   },
   "outputs": [
    {
     "name": "stdout",
     "output_type": "stream",
     "text": [
      "Accuracy of test model: 0.503 \n",
      "\n",
      "Classification Report \n",
      "\n",
      "             precision    recall  f1-score   support\n",
      "\n",
      "          0       0.23      0.50      0.31      7577\n",
      "          1       0.77      0.50      0.60     25423\n",
      "\n",
      "avg / total       0.65      0.50      0.54     33000\n",
      "\n"
     ]
    }
   ],
   "source": [
    "pred_test =  clf.predict(X_test)\n",
    "print(\"Accuracy of test model: %0.3f \\n\"%clf.score(X_test, y_test))\n",
    "\n",
    "print(\"Classification Report \\n\")\n",
    "print(classification_report(y_test, pred_test))"
   ]
  },
  {
   "cell_type": "code",
   "execution_count": 15,
   "metadata": {
    "collapsed": false
   },
   "outputs": [
    {
     "name": "stdout",
     "output_type": "stream",
     "text": [
      "-0.00186831340794\n"
     ]
    }
   ],
   "source": [
    "print(matthews_corrcoef(y_test, pred_test))\n",
    "baseline1=precision_recall_fscore_support(y_test, pred_test, average = 'weighted')[0]"
   ]
  },
  {
   "cell_type": "markdown",
   "metadata": {},
   "source": [
    "### Baseline 2"
   ]
  },
  {
   "cell_type": "code",
   "execution_count": 16,
   "metadata": {
    "collapsed": false
   },
   "outputs": [
    {
     "data": {
      "text/plain": [
       "DummyClassifier(constant=None, random_state=None, strategy='most_frequent')"
      ]
     },
     "execution_count": 16,
     "metadata": {},
     "output_type": "execute_result"
    }
   ],
   "source": [
    "#Predicting the accuracy if predicted the majority class  \n",
    "\n",
    "clf=DummyClassifier(strategy=\"most_frequent\")\n",
    "clf.fit(X_train,y_train)"
   ]
  },
  {
   "cell_type": "code",
   "execution_count": 17,
   "metadata": {
    "collapsed": false
   },
   "outputs": [
    {
     "name": "stdout",
     "output_type": "stream",
     "text": [
      "Accuracy of trained model: 0.772 \n",
      "10 fold Precsion_score of trained model: 0.772 \n",
      "10 fold Accuracy_score of trained model: 0.772 \n"
     ]
    }
   ],
   "source": [
    "print(\"Accuracy of trained model: %0.3f \"%clf.score(X_train,y_train))\n",
    "\n",
    "scores = cross_val_score(clf,X_train ,y_train, cv=10,scoring='precision')\n",
    "print(\"10 fold Precsion_score of trained model: %0.3f \"% (np.mean(scores)))\n",
    "\n",
    "scores = cross_val_score(clf,X_train ,y_train, cv=10,scoring='accuracy')\n",
    "print(\"10 fold Accuracy_score of trained model: %0.3f \"% (np.mean(scores)))"
   ]
  },
  {
   "cell_type": "code",
   "execution_count": 18,
   "metadata": {
    "collapsed": false
   },
   "outputs": [
    {
     "name": "stdout",
     "output_type": "stream",
     "text": [
      "Accuracy of test model: 0.770 \n",
      "Classification Report \n",
      "\n",
      "             precision    recall  f1-score   support\n",
      "\n",
      "          0       0.00      0.00      0.00      7577\n",
      "          1       0.77      1.00      0.87     25423\n",
      "\n",
      "avg / total       0.59      0.77      0.67     33000\n",
      "\n"
     ]
    },
    {
     "name": "stderr",
     "output_type": "stream",
     "text": [
      "/Library/Frameworks/Python.framework/Versions/3.5/lib/python3.5/site-packages/sklearn/metrics/classification.py:1113: UndefinedMetricWarning: Precision and F-score are ill-defined and being set to 0.0 in labels with no predicted samples.\n",
      "  'precision', 'predicted', average, warn_for)\n"
     ]
    }
   ],
   "source": [
    "pred_test=clf.predict(X_test)\n",
    "print(\"Accuracy of test model: %0.3f \"%clf.score(X_test,y_test))\n",
    "\n",
    "print(\"Classification Report \\n\")\n",
    "print(classification_report(y_test, pred_test))"
   ]
  },
  {
   "cell_type": "code",
   "execution_count": 19,
   "metadata": {
    "collapsed": false
   },
   "outputs": [
    {
     "name": "stdout",
     "output_type": "stream",
     "text": [
      "0.0\n"
     ]
    },
    {
     "name": "stderr",
     "output_type": "stream",
     "text": [
      "/Library/Frameworks/Python.framework/Versions/3.5/lib/python3.5/site-packages/sklearn/metrics/classification.py:516: RuntimeWarning: invalid value encountered in double_scalars\n",
      "  mcc = cov_ytyp / np.sqrt(var_yt * var_yp)\n",
      "/Library/Frameworks/Python.framework/Versions/3.5/lib/python3.5/site-packages/sklearn/metrics/classification.py:1113: UndefinedMetricWarning: Precision and F-score are ill-defined and being set to 0.0 in labels with no predicted samples.\n",
      "  'precision', 'predicted', average, warn_for)\n"
     ]
    }
   ],
   "source": [
    "print(matthews_corrcoef(y_test, pred_test))\n",
    "baseline2=precision_recall_fscore_support(y_test, pred_test, average = 'weighted')[0]"
   ]
  },
  {
   "cell_type": "markdown",
   "metadata": {
    "collapsed": true
   },
   "source": [
    "# Model Evalution"
   ]
  },
  {
   "cell_type": "markdown",
   "metadata": {},
   "source": [
    "## 1. Logistic Regression "
   ]
  },
  {
   "cell_type": "markdown",
   "metadata": {},
   "source": [
    "### 1.1 Default Setting"
   ]
  },
  {
   "cell_type": "code",
   "execution_count": 20,
   "metadata": {
    "collapsed": false
   },
   "outputs": [
    {
     "data": {
      "text/plain": [
       "LogisticRegression(C=1.0, class_weight=None, dual=False, fit_intercept=True,\n",
       "          intercept_scaling=1, max_iter=100, multi_class='ovr', n_jobs=1,\n",
       "          penalty='l2', random_state=None, solver='liblinear', tol=0.0001,\n",
       "          verbose=0, warm_start=False)"
      ]
     },
     "execution_count": 20,
     "metadata": {},
     "output_type": "execute_result"
    }
   ],
   "source": [
    "#Logistic Regression \n",
    "clf = LogisticRegression()\n",
    "clf.fit(X_train, y_train)"
   ]
  },
  {
   "cell_type": "code",
   "execution_count": 21,
   "metadata": {
    "collapsed": false
   },
   "outputs": [
    {
     "name": "stdout",
     "output_type": "stream",
     "text": [
      "Accuracy of trained model: 0.773 \n",
      "10 fold Precsion_score of trained model: 0.773 \n",
      "10 fold Accuracy_score of trained model: 0.771 \n"
     ]
    }
   ],
   "source": [
    "print(\"Accuracy of trained model: %0.3f \"%clf.score(X_train,y_train))\n",
    "\n",
    "scores = cross_val_score(clf,X_train ,y_train, cv=10,scoring='precision')\n",
    "print(\"10 fold Precsion_score of trained model: %0.3f \"% (np.mean(scores)))\n",
    "\n",
    "scores = cross_val_score(clf,X_train ,y_train, cv=10,scoring='accuracy')\n",
    "print(\"10 fold Accuracy_score of trained model: %0.3f \"% (np.mean(scores)))"
   ]
  },
  {
   "cell_type": "code",
   "execution_count": 22,
   "metadata": {
    "collapsed": false
   },
   "outputs": [
    {
     "name": "stdout",
     "output_type": "stream",
     "text": [
      "Accuracy of test set: 0.770 \n",
      "Classification Report for predicted test set\n",
      "\n",
      "             precision    recall  f1-score   support\n",
      "\n",
      "          0       0.45      0.01      0.01      7577\n",
      "          1       0.77      1.00      0.87     25423\n",
      "\n",
      "avg / total       0.70      0.77      0.67     33000\n",
      "\n"
     ]
    }
   ],
   "source": [
    "#Predicting for the Test set\n",
    "\n",
    "pred_test = clf.predict(X_test)\n",
    "print(\"Accuracy of test set: %0.3f \"%clf.score(X_test,y_test))\n",
    "\n",
    "print(\"Classification Report for predicted test set\\n\")\n",
    "print(classification_report(y_test, pred_test))"
   ]
  },
  {
   "cell_type": "code",
   "execution_count": 23,
   "metadata": {
    "collapsed": false
   },
   "outputs": [
    {
     "name": "stdout",
     "output_type": "stream",
     "text": [
      "0.0301292014617\n"
     ]
    }
   ],
   "source": [
    "print(matthews_corrcoef(y_test, pred_test))"
   ]
  },
  {
   "cell_type": "markdown",
   "metadata": {},
   "source": [
    "### 1.2 Logistic Regression with different parameter settings"
   ]
  },
  {
   "cell_type": "code",
   "execution_count": 24,
   "metadata": {
    "collapsed": false,
    "scrolled": false
   },
   "outputs": [
    {
     "name": "stdout",
     "output_type": "stream",
     "text": [
      "Classification Report for train set with class weight : balanced C : 0.100000 random_state : 20 \n",
      "             precision    recall  f1-score   support\n",
      "\n",
      "          0       0.59      0.90      0.72     15268\n",
      "          1       0.97      0.82      0.89     51732\n",
      "\n",
      "avg / total       0.88      0.84      0.85     67000\n",
      "\n",
      "Classification Report for test set with class weight : balanced C : 0.100000 random_state : 20\n",
      "             precision    recall  f1-score   support\n",
      "\n",
      "          0       0.30      0.45      0.36      7577\n",
      "          1       0.81      0.69      0.75     25423\n",
      "\n",
      "avg / total       0.69      0.64      0.66     33000\n",
      "\n",
      "____________________________________________________________\n",
      "Classification Report for train set with class weight : balanced C : 0.100000 random_state : 42 \n",
      "             precision    recall  f1-score   support\n",
      "\n",
      "          0       0.59      0.90      0.72     15268\n",
      "          1       0.97      0.82      0.89     51732\n",
      "\n",
      "avg / total       0.88      0.84      0.85     67000\n",
      "\n",
      "Classification Report for test set with class weight : balanced C : 0.100000 random_state : 42\n",
      "             precision    recall  f1-score   support\n",
      "\n",
      "          0       0.30      0.45      0.36      7577\n",
      "          1       0.81      0.69      0.75     25423\n",
      "\n",
      "avg / total       0.69      0.64      0.66     33000\n",
      "\n",
      "____________________________________________________________\n",
      "Classification Report for train set with class weight : balanced C : 1.000000 random_state : 20 \n",
      "             precision    recall  f1-score   support\n",
      "\n",
      "          0       0.51      0.84      0.63     15268\n",
      "          1       0.94      0.76      0.84     51732\n",
      "\n",
      "avg / total       0.84      0.78      0.79     67000\n",
      "\n",
      "Classification Report for test set with class weight : balanced C : 1.000000 random_state : 20\n",
      "             precision    recall  f1-score   support\n",
      "\n",
      "          0       0.30      0.48      0.37      7577\n",
      "          1       0.81      0.66      0.73     25423\n",
      "\n",
      "avg / total       0.69      0.62      0.65     33000\n",
      "\n",
      "____________________________________________________________\n",
      "Classification Report for train set with class weight : balanced C : 1.000000 random_state : 42 \n",
      "             precision    recall  f1-score   support\n",
      "\n",
      "          0       0.51      0.84      0.63     15268\n",
      "          1       0.94      0.76      0.84     51732\n",
      "\n",
      "avg / total       0.84      0.78      0.79     67000\n",
      "\n",
      "Classification Report for test set with class weight : balanced C : 1.000000 random_state : 42\n",
      "             precision    recall  f1-score   support\n",
      "\n",
      "          0       0.30      0.48      0.37      7577\n",
      "          1       0.81      0.66      0.73     25423\n",
      "\n",
      "avg / total       0.69      0.62      0.65     33000\n",
      "\n",
      "____________________________________________________________\n",
      "Classification Report for train set with class weight : None C : 0.100000 random_state : 20 \n",
      "             precision    recall  f1-score   support\n",
      "\n",
      "          0       0.72      0.01      0.03     15268\n",
      "          1       0.77      1.00      0.87     51732\n",
      "\n",
      "avg / total       0.76      0.77      0.68     67000\n",
      "\n",
      "Classification Report for test set with class weight : None C : 0.100000 random_state : 20\n",
      "             precision    recall  f1-score   support\n",
      "\n",
      "          0       0.45      0.01      0.02      7577\n",
      "          1       0.77      1.00      0.87     25423\n",
      "\n",
      "avg / total       0.70      0.77      0.67     33000\n",
      "\n",
      "____________________________________________________________\n",
      "Classification Report for train set with class weight : None C : 0.100000 random_state : 42 \n",
      "             precision    recall  f1-score   support\n",
      "\n",
      "          0       0.72      0.01      0.03     15268\n",
      "          1       0.77      1.00      0.87     51732\n",
      "\n",
      "avg / total       0.76      0.77      0.68     67000\n",
      "\n",
      "Classification Report for test set with class weight : None C : 0.100000 random_state : 42\n",
      "             precision    recall  f1-score   support\n",
      "\n",
      "          0       0.45      0.01      0.02      7577\n",
      "          1       0.77      1.00      0.87     25423\n",
      "\n",
      "avg / total       0.70      0.77      0.67     33000\n",
      "\n",
      "____________________________________________________________\n",
      "Classification Report for train set with class weight : None C : 1.000000 random_state : 20 \n",
      "             precision    recall  f1-score   support\n",
      "\n",
      "          0       0.72      0.01      0.02     15268\n",
      "          1       0.77      1.00      0.87     51732\n",
      "\n",
      "avg / total       0.76      0.77      0.68     67000\n",
      "\n",
      "Classification Report for test set with class weight : None C : 1.000000 random_state : 20\n",
      "             precision    recall  f1-score   support\n",
      "\n",
      "          0       0.45      0.01      0.01      7577\n",
      "          1       0.77      1.00      0.87     25423\n",
      "\n",
      "avg / total       0.70      0.77      0.67     33000\n",
      "\n",
      "____________________________________________________________\n",
      "Classification Report for train set with class weight : None C : 1.000000 random_state : 42 \n",
      "             precision    recall  f1-score   support\n",
      "\n",
      "          0       0.72      0.01      0.02     15268\n",
      "          1       0.77      1.00      0.87     51732\n",
      "\n",
      "avg / total       0.76      0.77      0.68     67000\n",
      "\n",
      "Classification Report for test set with class weight : None C : 1.000000 random_state : 42\n",
      "             precision    recall  f1-score   support\n",
      "\n",
      "          0       0.45      0.01      0.01      7577\n",
      "          1       0.77      1.00      0.87     25423\n",
      "\n",
      "avg / total       0.70      0.77      0.67     33000\n",
      "\n",
      "____________________________________________________________\n"
     ]
    }
   ],
   "source": [
    "lr_measure=[]\n",
    "def classifier_combinations(cw,cval,rs):\n",
    "    \n",
    "    clf=LogisticRegression(class_weight=cw,C=cval,random_state=rs)\n",
    "    clf.fit(X_train, y_train)\n",
    "    pred_train=clf.predict(X_train)\n",
    "    \n",
    "    print(\"Classification Report for train set with class weight : %s C : %f random_state : %d \"%(cw,cval,rs))\n",
    "    print(classification_report(y_train, pred_train))\n",
    "    \n",
    "    pred_test=clf.predict(X_test)\n",
    "    print(\"Classification Report for test set with class weight : %s C : %f random_state : %d\"%(cw,cval,rs))\n",
    "    print(classification_report(y_test, pred_test))\n",
    "    \n",
    "    lr_measure.append(precision_recall_fscore_support(y_test, pred_test, average='weighted'))\n",
    "    print(\"___\"*20)\n",
    "\n",
    "##params\n",
    "clas_weight=[\"balanced\",None]\n",
    "C_value=[0.1,1.0]\n",
    "random_state=[20,42]\n",
    "\n",
    "iterations=product(clas_weight,C_value,random_state)\n",
    "for opt in iterations: \n",
    "    classifier_combinations(*opt)\n",
    "\n",
    "## adding to performance dictionary\n",
    "perf_scores[\"LR\"]=lr_measure\n",
    "    "
   ]
  },
  {
   "cell_type": "code",
   "execution_count": 25,
   "metadata": {
    "collapsed": false,
    "scrolled": false
   },
   "outputs": [
    {
     "data": {
      "image/png": "[encoded data removed]",
      "text/plain": [
       "<matplotlib.figure.Figure at 0x1136c9470>"
      ]
     },
     "metadata": {},
     "output_type": "display_data"
    }
   ],
   "source": [
    "#Graph plotting different combination settings with precision values\n",
    "\n",
    "x=[i for i in range(len(lr_measure))]\n",
    "y=[i[0] for i in lr_measure]\n",
    "\n",
    "yb1 = [baseline1]*len(x)\n",
    "yb2 = [baseline2]*len(x)\n",
    "\n",
    "plt.figure(figsize=(10,5)) \n",
    "plt.plot(x, y,'go-',label='Models') \n",
    "plt.plot(x, yb1, 'r-',label='Baseline1') \n",
    "plt.plot(x,yb2,'b-',label='Baseline2')\n",
    "plt.xticks(x)\n",
    "plt.grid() \n",
    "plt.title(\"Logistic Regression model performances vs Baselines\") \n",
    "plt.xlabel('Logistic Regression Models') \n",
    "plt.ylabel('Average Precision') \n",
    "plt.legend(loc=\"lower right\")\n",
    "plt.show()"
   ]
  },
  {
   "cell_type": "markdown",
   "metadata": {},
   "source": [
    "## 1.3 Best setting"
   ]
  },
  {
   "cell_type": "code",
   "execution_count": 26,
   "metadata": {
    "collapsed": false
   },
   "outputs": [
    {
     "data": {
      "text/plain": [
       "LogisticRegression(C=1.0, class_weight=None, dual=False, fit_intercept=True,\n",
       "          intercept_scaling=1, max_iter=100, multi_class='ovr', n_jobs=1,\n",
       "          penalty='l2', random_state=None, solver='liblinear', tol=0.0001,\n",
       "          verbose=0, warm_start=False)"
      ]
     },
     "execution_count": 26,
     "metadata": {},
     "output_type": "execute_result"
    }
   ],
   "source": [
    "#Best logistic regression Model\n",
    "\n",
    "clf = LogisticRegression()\n",
    "clf.fit(X_train, y_train)"
   ]
  },
  {
   "cell_type": "code",
   "execution_count": 27,
   "metadata": {
    "collapsed": false
   },
   "outputs": [
    {
     "name": "stdout",
     "output_type": "stream",
     "text": [
      "10 fold Precsion_score of trained model: 0.773 \n",
      "10 fold Accuracy_score of trained model: 0.771 \n"
     ]
    }
   ],
   "source": [
    "scores = cross_val_score(clf,X_train ,y_train, cv=10,scoring='precision')\n",
    "print(\"10 fold Precsion_score of trained model: %0.3f \"% (np.mean(scores)))\n",
    "\n",
    "scores = cross_val_score(clf,X_train ,y_train, cv=10,scoring='accuracy')\n",
    "print(\"10 fold Accuracy_score of trained model: %0.3f \"% (np.mean(scores)))"
   ]
  },
  {
   "cell_type": "code",
   "execution_count": 28,
   "metadata": {
    "collapsed": false
   },
   "outputs": [
    {
     "name": "stdout",
     "output_type": "stream",
     "text": [
      "Accuracy of test set: 0.770 \n",
      "Classification Report for predicted test set\n",
      "\n",
      "             precision    recall  f1-score   support\n",
      "\n",
      "          0       0.45      0.01      0.01      7577\n",
      "          1       0.77      1.00      0.87     25423\n",
      "\n",
      "avg / total       0.70      0.77      0.67     33000\n",
      "\n",
      "0.0301292014617\n"
     ]
    }
   ],
   "source": [
    "#Predicting for the Test set\n",
    "\n",
    "pred_test=clf.predict(X_test)\n",
    "print(\"Accuracy of test set: %0.3f \"%clf.score(X_test,y_test))\n",
    "\n",
    "print(\"Classification Report for predicted test set\\n\")\n",
    "print(classification_report(y_test, pred_test))\n",
    "print(matthews_corrcoef(y_test, pred_test))"
   ]
  },
  {
   "cell_type": "markdown",
   "metadata": {},
   "source": [
    "# 2. Logistic regression using TF-IDF vectorizer "
   ]
  },
  {
   "cell_type": "markdown",
   "metadata": {
    "collapsed": true
   },
   "source": [
    "### 2.1 Default Setting"
   ]
  },
  {
   "cell_type": "code",
   "execution_count": 155,
   "metadata": {
    "collapsed": false
   },
   "outputs": [],
   "source": [
    "#Logistic regression using TFIDF vectorizer\n",
    "vectorizer = TfidfVectorizer()\n",
    "X = vectorizer.fit_transform(cl_df)"
   ]
  },
  {
   "cell_type": "code",
   "execution_count": 156,
   "metadata": {
    "collapsed": true
   },
   "outputs": [],
   "source": [
    "X_train, X_test, y_train, y_test = train_test_split(X, target_df['Class'], test_size=0.33, random_state=42)"
   ]
  },
  {
   "cell_type": "code",
   "execution_count": 31,
   "metadata": {
    "collapsed": false
   },
   "outputs": [
    {
     "name": "stdout",
     "output_type": "stream",
     "text": [
      "Accuracy of trained model: 0.772 \n",
      "10 fold Precsion_score of trained model: 0.774 \n",
      "10 fold Accuracy_score of trained model: 0.771 \n"
     ]
    }
   ],
   "source": [
    "print(\"Accuracy of trained model: %0.3f \"%clf.score(X_train,y_train))\n",
    "\n",
    "scores = cross_val_score(clf,X_train ,y_train, cv=10,scoring='precision')\n",
    "print(\"10 fold Precsion_score of trained model: %0.3f \"% (np.mean(scores)))\n",
    "\n",
    "scores = cross_val_score(clf,X_train ,y_train, cv=10,scoring='accuracy')\n",
    "print(\"10 fold Accuracy_score of trained model: %0.3f \"% (np.mean(scores)))"
   ]
  },
  {
   "cell_type": "code",
   "execution_count": 32,
   "metadata": {
    "collapsed": false
   },
   "outputs": [
    {
     "name": "stdout",
     "output_type": "stream",
     "text": [
      "Accuracy of test set: 0.770 \n",
      "Classification Report for predicted test set\n",
      "\n",
      "             precision    recall  f1-score   support\n",
      "\n",
      "          0       0.00      0.00      0.00      7577\n",
      "          1       0.77      1.00      0.87     25423\n",
      "\n",
      "avg / total       0.59      0.77      0.67     33000\n",
      "\n"
     ]
    },
    {
     "name": "stderr",
     "output_type": "stream",
     "text": [
      "/Library/Frameworks/Python.framework/Versions/3.5/lib/python3.5/site-packages/sklearn/metrics/classification.py:1113: UndefinedMetricWarning: Precision and F-score are ill-defined and being set to 0.0 in labels with no predicted samples.\n",
      "  'precision', 'predicted', average, warn_for)\n"
     ]
    }
   ],
   "source": [
    "#Predicting for the Test set\n",
    "\n",
    "pred_test = clf.predict(X_test)\n",
    "print(\"Accuracy of test set: %0.3f \"%clf.score(X_test,y_test))\n",
    "\n",
    "print(\"Classification Report for predicted test set\\n\")\n",
    "print(classification_report(y_test, pred_test))"
   ]
  },
  {
   "cell_type": "code",
   "execution_count": 33,
   "metadata": {
    "collapsed": false
   },
   "outputs": [
    {
     "name": "stdout",
     "output_type": "stream",
     "text": [
      "0.0\n"
     ]
    },
    {
     "name": "stderr",
     "output_type": "stream",
     "text": [
      "/Library/Frameworks/Python.framework/Versions/3.5/lib/python3.5/site-packages/sklearn/metrics/classification.py:516: RuntimeWarning: invalid value encountered in double_scalars\n",
      "  mcc = cov_ytyp / np.sqrt(var_yt * var_yp)\n"
     ]
    }
   ],
   "source": [
    "print(matthews_corrcoef(y_test, pred_test))"
   ]
  },
  {
   "cell_type": "markdown",
   "metadata": {},
   "source": [
    "### 2.2 Logistic Regression Tf-idf with different parameter settings"
   ]
  },
  {
   "cell_type": "code",
   "execution_count": 34,
   "metadata": {
    "collapsed": false,
    "scrolled": false
   },
   "outputs": [
    {
     "name": "stdout",
     "output_type": "stream",
     "text": [
      "Classification Report for train set with class weight : balanced C : 0.100000 random_state : 20 \n",
      "             precision    recall  f1-score   support\n",
      "\n",
      "          0       0.35      0.70      0.46     15268\n",
      "          1       0.87      0.61      0.72     51732\n",
      "\n",
      "avg / total       0.75      0.63      0.66     67000\n",
      "\n",
      "Classification Report for test set with class weight : balanced C : 0.100000 random_state : 20\n",
      "             precision    recall  f1-score   support\n",
      "\n",
      "          0       0.30      0.59      0.40      7577\n",
      "          1       0.83      0.58      0.68     25423\n",
      "\n",
      "avg / total       0.71      0.59      0.62     33000\n",
      "\n",
      "____________________________________________________________\n",
      "Classification Report for train set with class weight : balanced C : 0.100000 random_state : 42 \n",
      "             precision    recall  f1-score   support\n",
      "\n",
      "          0       0.35      0.70      0.46     15268\n",
      "          1       0.87      0.61      0.72     51732\n",
      "\n",
      "avg / total       0.75      0.63      0.66     67000\n",
      "\n",
      "Classification Report for test set with class weight : balanced C : 0.100000 random_state : 42\n",
      "             precision    recall  f1-score   support\n",
      "\n",
      "          0       0.30      0.59      0.40      7577\n",
      "          1       0.83      0.58      0.68     25423\n",
      "\n",
      "avg / total       0.71      0.59      0.62     33000\n",
      "\n",
      "____________________________________________________________\n",
      "Classification Report for train set with class weight : balanced C : 1.000000 random_state : 20 \n",
      "             precision    recall  f1-score   support\n",
      "\n",
      "          0       0.48      0.80      0.60     15268\n",
      "          1       0.93      0.75      0.83     51732\n",
      "\n",
      "avg / total       0.83      0.76      0.78     67000\n",
      "\n",
      "Classification Report for test set with class weight : balanced C : 1.000000 random_state : 20\n",
      "             precision    recall  f1-score   support\n",
      "\n",
      "          0       0.31      0.50      0.38      7577\n",
      "          1       0.82      0.66      0.73     25423\n",
      "\n",
      "avg / total       0.70      0.63      0.65     33000\n",
      "\n",
      "____________________________________________________________\n",
      "Classification Report for train set with class weight : balanced C : 1.000000 random_state : 42 \n",
      "             precision    recall  f1-score   support\n",
      "\n",
      "          0       0.48      0.80      0.60     15268\n",
      "          1       0.93      0.75      0.83     51732\n",
      "\n",
      "avg / total       0.83      0.76      0.78     67000\n",
      "\n",
      "Classification Report for test set with class weight : balanced C : 1.000000 random_state : 42\n",
      "             precision    recall  f1-score   support\n",
      "\n",
      "          0       0.31      0.50      0.38      7577\n",
      "          1       0.82      0.66      0.73     25423\n",
      "\n",
      "avg / total       0.70      0.63      0.65     33000\n",
      "\n",
      "____________________________________________________________\n",
      "Classification Report for train set with class weight : None C : 0.100000 random_state : 20 \n",
      "             precision    recall  f1-score   support\n",
      "\n",
      "          0       0.00      0.00      0.00     15268\n",
      "          1       0.77      1.00      0.87     51732\n",
      "\n",
      "avg / total       0.60      0.77      0.67     67000\n",
      "\n",
      "Classification Report for test set with class weight : None C : 0.100000 random_state : 20\n",
      "             precision    recall  f1-score   support\n",
      "\n",
      "          0       0.00      0.00      0.00      7577\n",
      "          1       0.77      1.00      0.87     25423\n",
      "\n",
      "avg / total       0.59      0.77      0.67     33000\n",
      "\n",
      "____________________________________________________________\n"
     ]
    },
    {
     "name": "stderr",
     "output_type": "stream",
     "text": [
      "/Library/Frameworks/Python.framework/Versions/3.5/lib/python3.5/site-packages/sklearn/metrics/classification.py:1113: UndefinedMetricWarning: Precision and F-score are ill-defined and being set to 0.0 in labels with no predicted samples.\n",
      "  'precision', 'predicted', average, warn_for)\n"
     ]
    },
    {
     "name": "stdout",
     "output_type": "stream",
     "text": [
      "Classification Report for train set with class weight : None C : 0.100000 random_state : 42 \n",
      "             precision    recall  f1-score   support\n",
      "\n",
      "          0       0.00      0.00      0.00     15268\n",
      "          1       0.77      1.00      0.87     51732\n",
      "\n",
      "avg / total       0.60      0.77      0.67     67000\n",
      "\n",
      "Classification Report for test set with class weight : None C : 0.100000 random_state : 42\n",
      "             precision    recall  f1-score   support\n",
      "\n",
      "          0       0.00      0.00      0.00      7577\n",
      "          1       0.77      1.00      0.87     25423\n",
      "\n",
      "avg / total       0.59      0.77      0.67     33000\n",
      "\n",
      "____________________________________________________________\n",
      "Classification Report for train set with class weight : None C : 1.000000 random_state : 20 \n",
      "             precision    recall  f1-score   support\n",
      "\n",
      "          0       0.87      0.05      0.10     15268\n",
      "          1       0.78      1.00      0.88     51732\n",
      "\n",
      "avg / total       0.80      0.78      0.70     67000\n",
      "\n",
      "Classification Report for test set with class weight : None C : 1.000000 random_state : 20\n",
      "             precision    recall  f1-score   support\n",
      "\n",
      "          0       0.47      0.02      0.04      7577\n",
      "          1       0.77      0.99      0.87     25423\n",
      "\n",
      "avg / total       0.70      0.77      0.68     33000\n",
      "\n",
      "____________________________________________________________\n",
      "Classification Report for train set with class weight : None C : 1.000000 random_state : 42 \n",
      "             precision    recall  f1-score   support\n",
      "\n",
      "          0       0.87      0.05      0.10     15268\n",
      "          1       0.78      1.00      0.88     51732\n",
      "\n",
      "avg / total       0.80      0.78      0.70     67000\n",
      "\n",
      "Classification Report for test set with class weight : None C : 1.000000 random_state : 42\n",
      "             precision    recall  f1-score   support\n",
      "\n",
      "          0       0.47      0.02      0.04      7577\n",
      "          1       0.77      0.99      0.87     25423\n",
      "\n",
      "avg / total       0.70      0.77      0.68     33000\n",
      "\n",
      "____________________________________________________________\n"
     ]
    }
   ],
   "source": [
    "lr_measure=[]\n",
    "clas_weight=[\"balanced\",None]\n",
    "C_value=[0.1,1.0]\n",
    "random_state=[20,42]\n",
    "\n",
    "argnames=[\"Class weight: \", \"C :\", \"random_state :\"]\n",
    "iterations=product(clas_weight,C_value,random_state)\n",
    "for opt in iterations: \n",
    "    classifier_combinations(*opt)\n",
    "perf_scores[\"LR_tfidf\"]=lr_measure"
   ]
  },
  {
   "cell_type": "code",
   "execution_count": 35,
   "metadata": {
    "collapsed": false
   },
   "outputs": [
    {
     "data": {
      "image/png": "[encoded data removed]",
      "text/plain": [
       "<matplotlib.figure.Figure at 0x112f30cc0>"
      ]
     },
     "metadata": {},
     "output_type": "display_data"
    }
   ],
   "source": [
    "#Graph plotting different combination settings with precision values\n",
    "x=[i for i in range(len(lr_measure))]\n",
    "y=[i[0] for i in lr_measure]\n",
    "\n",
    "yb1 = [baseline1]*len(x)\n",
    "yb2 = [baseline2]*len(x)\n",
    "\n",
    "plt.figure(figsize=(10,5)) \n",
    "plt.plot(x, y,'go-',label='Models') \n",
    "plt.plot(x, yb1, 'r-',label='Baseline1') \n",
    "plt.plot(x,yb2,'b-',label='Baseline2')\n",
    "plt.xticks(x)\n",
    "plt.grid() \n",
    "plt.title(\"Logistic Regression with tf-idf model performances vs Baselines\") \n",
    "plt.xlabel('Logistic Regression Models (tf-idf)') \n",
    "plt.ylabel('Average Precision') \n",
    "plt.legend(loc=\"lower right\")\n",
    "plt.show()"
   ]
  },
  {
   "cell_type": "markdown",
   "metadata": {},
   "source": [
    "### 2.3 Best Setting"
   ]
  },
  {
   "cell_type": "code",
   "execution_count": 36,
   "metadata": {
    "collapsed": false
   },
   "outputs": [
    {
     "data": {
      "text/plain": [
       "LogisticRegression(C=0.1, class_weight='balanced', dual=False,\n",
       "          fit_intercept=True, intercept_scaling=1, max_iter=100,\n",
       "          multi_class='ovr', n_jobs=1, penalty='l2', random_state=None,\n",
       "          solver='liblinear', tol=0.0001, verbose=0, warm_start=False)"
      ]
     },
     "execution_count": 36,
     "metadata": {},
     "output_type": "execute_result"
    }
   ],
   "source": [
    "#Best model for logistic regression with tf-idf\n",
    "#Specfication : class weight : balanced C : 0.100000 random_state : 42\n",
    "\n",
    "clf = LogisticRegression(class_weight=\"balanced\", C=0.100000)\n",
    "clf.fit(X_train, y_train)"
   ]
  },
  {
   "cell_type": "code",
   "execution_count": 37,
   "metadata": {
    "collapsed": false
   },
   "outputs": [
    {
     "name": "stdout",
     "output_type": "stream",
     "text": [
      "10 fold Precsion_score of trained model: 0.831 \n",
      "10 fold Accuracy_score of trained model: 0.583 \n"
     ]
    }
   ],
   "source": [
    "scores = cross_val_score(clf,X_train ,y_train, cv=10,scoring='precision')\n",
    "print(\"10 fold Precsion_score of trained model: %0.3f \"% (np.mean(scores)))\n",
    "scores = cross_val_score(clf,X_train ,y_train, cv=10,scoring='accuracy')\n",
    "print(\"10 fold Accuracy_score of trained model: %0.3f \"% (np.mean(scores)))"
   ]
  },
  {
   "cell_type": "code",
   "execution_count": 38,
   "metadata": {
    "collapsed": false
   },
   "outputs": [
    {
     "name": "stdout",
     "output_type": "stream",
     "text": [
      "Accuracy of test set: 0.586 \n",
      "Classification Report for predicted test set\n",
      "\n",
      "             precision    recall  f1-score   support\n",
      "\n",
      "          0       0.30      0.59      0.40      7577\n",
      "          1       0.83      0.58      0.68     25423\n",
      "\n",
      "avg / total       0.71      0.59      0.62     33000\n",
      "\n",
      "0.150714875718\n"
     ]
    }
   ],
   "source": [
    "#Predicting for the Test set\n",
    "\n",
    "pred_test=clf.predict(X_test)\n",
    "print(\"Accuracy of test set: %0.3f \"%clf.score(X_test,y_test))\n",
    "print(\"Classification Report for predicted test set\\n\")\n",
    "print(classification_report(y_test, pred_test))\n",
    "print(matthews_corrcoef(y_test, pred_test))"
   ]
  },
  {
   "cell_type": "markdown",
   "metadata": {},
   "source": [
    "## 3. Naive Bayes"
   ]
  },
  {
   "cell_type": "markdown",
   "metadata": {},
   "source": [
    "### 3.1 Default Setting"
   ]
  },
  {
   "cell_type": "code",
   "execution_count": 39,
   "metadata": {
    "collapsed": false
   },
   "outputs": [
    {
     "data": {
      "text/plain": [
       "MultinomialNB(alpha=1.0, class_prior=None, fit_prior=True)"
      ]
     },
     "execution_count": 39,
     "metadata": {},
     "output_type": "execute_result"
    }
   ],
   "source": [
    "#Naive Bayes Classifier\n",
    "\n",
    "clf=MultinomialNB()\n",
    "clf.fit(X_train, y_train)"
   ]
  },
  {
   "cell_type": "code",
   "execution_count": 40,
   "metadata": {
    "collapsed": false
   },
   "outputs": [
    {
     "name": "stdout",
     "output_type": "stream",
     "text": [
      "10 fold Precsion_score of trained model: 0.772 \n",
      "10 fold Accuracy_score of trained model: 0.772 \n"
     ]
    }
   ],
   "source": [
    "scores = cross_val_score(clf,X_train ,y_train, cv=10,scoring='precision')\n",
    "print(\"10 fold Precsion_score of trained model: %0.3f \"% (np.mean(scores)))\n",
    "scores = cross_val_score(clf,X_train ,y_train, cv=10,scoring='accuracy')\n",
    "print(\"10 fold Accuracy_score of trained model: %0.3f \"% (np.mean(scores)))"
   ]
  },
  {
   "cell_type": "code",
   "execution_count": 41,
   "metadata": {
    "collapsed": false
   },
   "outputs": [
    {
     "name": "stdout",
     "output_type": "stream",
     "text": [
      "Accuracy of test set: 0.770 \n",
      "Classification Report for predicted test set\n",
      "\n",
      "             precision    recall  f1-score   support\n",
      "\n",
      "          0       0.50      0.00      0.00      7577\n",
      "          1       0.77      1.00      0.87     25423\n",
      "\n",
      "avg / total       0.71      0.77      0.67     33000\n",
      "\n"
     ]
    }
   ],
   "source": [
    "#Predicting for the Test set\n",
    "\n",
    "pred_test=clf.predict(X_test)\n",
    "print(\"Accuracy of test set: %0.3f \"%clf.score(X_test,y_test))\n",
    "print(\"Classification Report for predicted test set\\n\")\n",
    "print(classification_report(y_test, pred_test))"
   ]
  },
  {
   "cell_type": "markdown",
   "metadata": {},
   "source": [
    "### 3.2 Naive Bayes with different parameter settings"
   ]
  },
  {
   "cell_type": "code",
   "execution_count": 42,
   "metadata": {
    "collapsed": false,
    "scrolled": true
   },
   "outputs": [
    {
     "name": "stdout",
     "output_type": "stream",
     "text": [
      "\n",
      " Classification Report for train set with alpha : 0.100 fit_prior : True \n",
      "             precision    recall  f1-score   support\n",
      "\n",
      "          0       0.89      0.27      0.41     15268\n",
      "          1       0.82      0.99      0.90     51732\n",
      "\n",
      "avg / total       0.84      0.83      0.79     67000\n",
      "\n",
      "Accuracy of trained model: 0.826 \n",
      "Confusion Matrix \n",
      " [[ 4078 11190]\n",
      " [  489 51243]]\n",
      "\n",
      " Classification Report for test set with alpha : 0.100 fit_prior : True \n",
      "             precision    recall  f1-score   support\n",
      "\n",
      "          0       0.33      0.09      0.14      7577\n",
      "          1       0.78      0.95      0.85     25423\n",
      "\n",
      "avg / total       0.68      0.75      0.69     33000\n",
      "\n",
      "Accuracy of test set: 0.751 \n",
      "Confusion Matrix \n",
      " [[  653  6924]\n",
      " [ 1306 24117]]\n",
      "____________________________________________________________\n",
      "\n",
      " Classification Report for train set with alpha : 0.100 fit_prior : False \n",
      "             precision    recall  f1-score   support\n",
      "\n",
      "          0       0.74      0.60      0.66     15268\n",
      "          1       0.89      0.94      0.91     51732\n",
      "\n",
      "avg / total       0.85      0.86      0.86     67000\n",
      "\n",
      "Accuracy of trained model: 0.861 \n",
      "Confusion Matrix \n",
      " [[ 9124  6144]\n",
      " [ 3175 48557]]\n",
      "\n",
      " Classification Report for test set with alpha : 0.100 fit_prior : False \n",
      "             precision    recall  f1-score   support\n",
      "\n",
      "          0       0.29      0.30      0.30      7577\n",
      "          1       0.79      0.78      0.78     25423\n",
      "\n",
      "avg / total       0.67      0.67      0.67     33000\n",
      "\n",
      "Accuracy of test set: 0.669 \n",
      "Confusion Matrix \n",
      " [[ 2296  5281]\n",
      " [ 5656 19767]]\n",
      "____________________________________________________________\n",
      "\n",
      " Classification Report for train set with alpha : 1.000 fit_prior : True \n",
      "             precision    recall  f1-score   support\n",
      "\n",
      "          0       0.63      0.00      0.00     15268\n",
      "          1       0.77      1.00      0.87     51732\n",
      "\n",
      "avg / total       0.74      0.77      0.67     67000\n",
      "\n",
      "Accuracy of trained model: 0.772 \n",
      "Confusion Matrix \n",
      " [[   34 15234]\n",
      " [   20 51712]]\n",
      "\n",
      " Classification Report for test set with alpha : 1.000 fit_prior : True \n",
      "             precision    recall  f1-score   support\n",
      "\n",
      "          0       0.50      0.00      0.00      7577\n",
      "          1       0.77      1.00      0.87     25423\n",
      "\n",
      "avg / total       0.71      0.77      0.67     33000\n",
      "\n",
      "Accuracy of test set: 0.770 \n",
      "Confusion Matrix \n",
      " [[   11  7566]\n",
      " [   11 25412]]\n",
      "____________________________________________________________\n",
      "\n",
      " Classification Report for train set with alpha : 1.000 fit_prior : False \n",
      "             precision    recall  f1-score   support\n",
      "\n",
      "          0       0.78      0.02      0.04     15268\n",
      "          1       0.78      1.00      0.87     51732\n",
      "\n",
      "avg / total       0.78      0.78      0.68     67000\n",
      "\n",
      "Accuracy of trained model: 0.776 \n",
      "Confusion Matrix \n",
      " [[  317 14951]\n",
      " [   87 51645]]\n",
      "\n",
      " Classification Report for test set with alpha : 1.000 fit_prior : False \n",
      "             precision    recall  f1-score   support\n",
      "\n",
      "          0       0.36      0.01      0.02      7577\n",
      "          1       0.77      1.00      0.87     25423\n",
      "\n",
      "avg / total       0.68      0.77      0.67     33000\n",
      "\n",
      "Accuracy of test set: 0.769 \n",
      "Confusion Matrix \n",
      " [[   61  7516]\n",
      " [  110 25313]]\n",
      "____________________________________________________________\n",
      "\n",
      " Classification Report for train set with alpha : 2.000 fit_prior : True \n",
      "             precision    recall  f1-score   support\n",
      "\n",
      "          0       0.44      0.00      0.00     15268\n",
      "          1       0.77      1.00      0.87     51732\n",
      "\n",
      "avg / total       0.70      0.77      0.67     67000\n",
      "\n",
      "Accuracy of trained model: 0.772 \n",
      "Confusion Matrix \n",
      " [[    7 15261]\n",
      " [    9 51723]]\n",
      "\n",
      " Classification Report for test set with alpha : 2.000 fit_prior : True \n",
      "             precision    recall  f1-score   support\n",
      "\n",
      "          0       0.45      0.00      0.00      7577\n",
      "          1       0.77      1.00      0.87     25423\n",
      "\n",
      "avg / total       0.70      0.77      0.67     33000\n",
      "\n",
      "Accuracy of test set: 0.770 \n",
      "Confusion Matrix \n",
      " [[    5  7572]\n",
      " [    6 25417]]\n",
      "____________________________________________________________\n",
      "\n",
      " Classification Report for train set with alpha : 2.000 fit_prior : False \n",
      "             precision    recall  f1-score   support\n",
      "\n",
      "          0       0.55      0.00      0.00     15268\n",
      "          1       0.77      1.00      0.87     51732\n",
      "\n",
      "avg / total       0.72      0.77      0.67     67000\n",
      "\n",
      "Accuracy of trained model: 0.772 \n",
      "Confusion Matrix \n",
      " [[   36 15232]\n",
      " [   30 51702]]\n",
      "\n",
      " Classification Report for test set with alpha : 2.000 fit_prior : False \n",
      "             precision    recall  f1-score   support\n",
      "\n",
      "          0       0.46      0.00      0.00      7577\n",
      "          1       0.77      1.00      0.87     25423\n",
      "\n",
      "avg / total       0.70      0.77      0.67     33000\n",
      "\n",
      "Accuracy of test set: 0.770 \n",
      "Confusion Matrix \n",
      " [[   16  7561]\n",
      " [   19 25404]]\n",
      "____________________________________________________________\n"
     ]
    }
   ],
   "source": [
    "nb_measure=[]\n",
    "def classifier_combinations(al,fp):\n",
    "    clf=MultinomialNB(alpha=al,fit_prior=fp)\n",
    "    clf.fit(X_train, y_train)\n",
    "    pred_train=clf.predict(X_train)\n",
    "    print(\"\\n Classification Report for train set with alpha : %0.3f fit_prior : %s \"%(al,fp))\n",
    "    print(classification_report(y_train, pred_train))\n",
    "    print(\"Accuracy of trained model: %0.3f \"%clf.score(X_train,y_train))\n",
    "    print(\"Confusion Matrix \\n\" ,confusion_matrix(y_train,pred_train,[0,1]))\n",
    "    pred_test=clf.predict(X_test)\n",
    "    print(\"\\n Classification Report for test set with alpha : %0.3f fit_prior : %s \"%(al,fp))\n",
    "    print(classification_report(y_test, pred_test))\n",
    "    print(\"Accuracy of test set: %0.3f \"%clf.score(X_test,y_test))\n",
    "    print(\"Confusion Matrix \\n\" ,confusion_matrix(y_test,pred_test,[0,1]))\n",
    "    nb_measure.append(precision_recall_fscore_support(y_test, pred_test, average='weighted'))\n",
    "    print(\"___\"*20)\n",
    "\n",
    "## params\n",
    "alpha=[.1,1,2]\n",
    "fit_p=[True,False]\n",
    "iterations=product(alpha,fit_p)\n",
    "\n",
    "for opt in iterations: \n",
    "    classifier_combinations(*opt)\n",
    "    \n",
    "## add to dictionary\n",
    "perf_scores[\"MNB\"]=nb_measure"
   ]
  },
  {
   "cell_type": "code",
   "execution_count": 43,
   "metadata": {
    "collapsed": false
   },
   "outputs": [
    {
     "data": {
      "image/png": "[encoded data removed]",
      "text/plain": [
       "<matplotlib.figure.Figure at 0x112f30710>"
      ]
     },
     "metadata": {},
     "output_type": "display_data"
    }
   ],
   "source": [
    "#Graph plotting different combination settings with precision values\n",
    "x=[i for i in range(len(nb_measure))]\n",
    "y=[i[0] for i in nb_measure]\n",
    "\n",
    "yb1 = [baseline1]*len(x)\n",
    "yb2 = [baseline2]*len(x)\n",
    "\n",
    "plt.figure(figsize=(10,5)) \n",
    "plt.plot(x, y,'go-',label='Models') \n",
    "plt.plot(x, yb1, 'r-',label='Baseline1') \n",
    "plt.plot(x,yb2,'b-',label='Baseline2')\n",
    "plt.xticks(x)\n",
    "plt.grid() \n",
    "plt.title(\"Naive Bayes model performances vs Baselines\") \n",
    "plt.xlabel('Naive Bayes Models') \n",
    "plt.ylabel('Average Precision') \n",
    "plt.legend(loc=\"lower right\")\n",
    "plt.show()"
   ]
  },
  {
   "cell_type": "markdown",
   "metadata": {},
   "source": [
    "### 3.3 Best Setting"
   ]
  },
  {
   "cell_type": "code",
   "execution_count": 44,
   "metadata": {
    "collapsed": false
   },
   "outputs": [
    {
     "data": {
      "text/plain": [
       "MultinomialNB(alpha=1.0, class_prior=None, fit_prior=True)"
      ]
     },
     "execution_count": 44,
     "metadata": {},
     "output_type": "execute_result"
    }
   ],
   "source": [
    "#Best Model settings\n",
    "\n",
    "clf=MultinomialNB(alpha=1.000,fit_prior=True)\n",
    "clf.fit(X_train, y_train)"
   ]
  },
  {
   "cell_type": "code",
   "execution_count": 45,
   "metadata": {
    "collapsed": false
   },
   "outputs": [
    {
     "name": "stdout",
     "output_type": "stream",
     "text": [
      "10 fold Precsion_score of trained model: 0.772 \n",
      "10 fold Accuracy_score of trained model: 0.772 \n"
     ]
    }
   ],
   "source": [
    "scores = cross_val_score(clf,X_train ,y_train, cv=10,scoring='precision')\n",
    "print(\"10 fold Precsion_score of trained model: %0.3f \"% (np.mean(scores)))\n",
    "scores = cross_val_score(clf,X_train ,y_train, cv=10,scoring='accuracy')\n",
    "print(\"10 fold Accuracy_score of trained model: %0.3f \"% (np.mean(scores)))"
   ]
  },
  {
   "cell_type": "code",
   "execution_count": 46,
   "metadata": {
    "collapsed": false
   },
   "outputs": [
    {
     "name": "stdout",
     "output_type": "stream",
     "text": [
      "Accuracy of test set: 0.770 \n",
      "Classification Report for predicted test set\n",
      "\n",
      "             precision    recall  f1-score   support\n",
      "\n",
      "          0       0.50      0.00      0.00      7577\n",
      "          1       0.77      1.00      0.87     25423\n",
      "\n",
      "avg / total       0.71      0.77      0.67     33000\n",
      "\n",
      "0.016605350012\n"
     ]
    }
   ],
   "source": [
    "#Predicting for the Test set\n",
    "\n",
    "pred_test=clf.predict(X_test)\n",
    "print(\"Accuracy of test set: %0.3f \"%clf.score(X_test,y_test))\n",
    "print(\"Classification Report for predicted test set\\n\")\n",
    "print(classification_report(y_test, pred_test))\n",
    "print(matthews_corrcoef(y_test, pred_test))"
   ]
  },
  {
   "cell_type": "markdown",
   "metadata": {},
   "source": [
    "## 4. Stochastic Gradient Descent Model "
   ]
  },
  {
   "cell_type": "markdown",
   "metadata": {},
   "source": [
    "### 4.1 Default Setting"
   ]
  },
  {
   "cell_type": "code",
   "execution_count": 47,
   "metadata": {
    "collapsed": false
   },
   "outputs": [
    {
     "data": {
      "text/plain": [
       "SGDClassifier(alpha=0.0001, average=False, class_weight=None, epsilon=0.1,\n",
       "       eta0=0.0, fit_intercept=True, l1_ratio=0.15,\n",
       "       learning_rate='optimal', loss='hinge', n_iter=5, n_jobs=1,\n",
       "       penalty='l2', power_t=0.5, random_state=None, shuffle=True,\n",
       "       verbose=0, warm_start=False)"
      ]
     },
     "execution_count": 47,
     "metadata": {},
     "output_type": "execute_result"
    }
   ],
   "source": [
    "clf_sgd = linear_model.SGDClassifier()\n",
    "clf_sgd.fit(X_train, y_train)"
   ]
  },
  {
   "cell_type": "code",
   "execution_count": 48,
   "metadata": {
    "collapsed": false
   },
   "outputs": [
    {
     "name": "stdout",
     "output_type": "stream",
     "text": [
      "Shape of the input matrix is :  (100000, 229608)\n"
     ]
    }
   ],
   "source": [
    "vec = CountVectorizer(input='content',binary=False)\n",
    "X_mtrx = vec.fit_transform(cl_df)\n",
    "print(\"Shape of the input matrix is : \", X_mtrx.shape)"
   ]
  },
  {
   "cell_type": "code",
   "execution_count": 49,
   "metadata": {
    "collapsed": true
   },
   "outputs": [],
   "source": [
    "#Splitting the data into traina nd test\n",
    "\n",
    "X_train, X_test, y_train, y_test = train_test_split(X_mtrx, target_df['Class'], test_size=0.33, random_state=42)"
   ]
  },
  {
   "cell_type": "code",
   "execution_count": 50,
   "metadata": {
    "collapsed": false
   },
   "outputs": [
    {
     "name": "stdout",
     "output_type": "stream",
     "text": [
      "10 fold Precsion_score of trained model: 0.787 \n",
      "10 fold Accuracy_score of trained model: 0.713 \n"
     ]
    }
   ],
   "source": [
    "scores = cross_val_score(clf,X_train ,y_train, cv=10,scoring='precision')\n",
    "print(\"10 fold Precsion_score of trained model: %0.3f \"% (np.mean(scores)))\n",
    "scores = cross_val_score(clf,X_train ,y_train, cv=10,scoring='accuracy')\n",
    "print(\"10 fold Accuracy_score of trained model: %0.3f \"% (np.mean(scores)))"
   ]
  },
  {
   "cell_type": "code",
   "execution_count": 51,
   "metadata": {
    "collapsed": false,
    "scrolled": true
   },
   "outputs": [
    {
     "name": "stdout",
     "output_type": "stream",
     "text": [
      "Accuracy of test set: 0.770 \n",
      "Classification Report for predicted test set\n",
      "\n",
      "             precision    recall  f1-score   support\n",
      "\n",
      "          0       0.44      0.00      0.00      7577\n",
      "          1       0.77      1.00      0.87     25423\n",
      "\n",
      "avg / total       0.69      0.77      0.67     33000\n",
      "\n"
     ]
    }
   ],
   "source": [
    "#Predicting for the Test set\n",
    "\n",
    "pred_test=clf.predict(X_test)\n",
    "print(\"Accuracy of test set: %0.3f \"%clf.score(X_test,y_test))\n",
    "print(\"Classification Report for predicted test set\\n\")\n",
    "print(classification_report(y_test, pred_test))"
   ]
  },
  {
   "cell_type": "markdown",
   "metadata": {
    "collapsed": false
   },
   "source": [
    "### 4.2 SGD with different parameter settings"
   ]
  },
  {
   "cell_type": "code",
   "execution_count": 52,
   "metadata": {
    "collapsed": false,
    "scrolled": false
   },
   "outputs": [
    {
     "name": "stdout",
     "output_type": "stream",
     "text": [
      "\n",
      " Classification Report for train set with alpha : 0.000 loss : hinge class_weight : None \n",
      "             precision    recall  f1-score   support\n",
      "\n",
      "          0       0.51      0.34      0.40     15268\n",
      "          1       0.82      0.90      0.86     51732\n",
      "\n",
      "avg / total       0.75      0.77      0.76     67000\n",
      "\n",
      "Accuracy of trained model: 0.774 \n",
      "Confusion Matrix \n",
      " [[ 5149 10119]\n",
      " [ 5046 46686]]\n",
      "\n",
      " Classification Report for train set with alpha : 0.000 loss : hinge class_weight : None \n",
      "             precision    recall  f1-score   support\n",
      "\n",
      "          0       0.31      0.20      0.24      7577\n",
      "          1       0.78      0.87      0.82     25423\n",
      "\n",
      "avg / total       0.67      0.71      0.69     33000\n",
      "\n",
      "Accuracy of test set: 0.712 \n",
      "Confusion Matrix \n",
      " [[ 1505  6072]\n",
      " [ 3420 22003]]\n",
      "____________________________________________________________\n",
      "\n",
      " Classification Report for train set with alpha : 0.000 loss : hinge class_weight : balanced \n",
      "             precision    recall  f1-score   support\n",
      "\n",
      "          0       0.33      0.79      0.46     15268\n",
      "          1       0.89      0.51      0.65     51732\n",
      "\n",
      "avg / total       0.76      0.58      0.61     67000\n",
      "\n",
      "Accuracy of trained model: 0.578 \n",
      "Confusion Matrix \n",
      " [[12126  3142]\n",
      " [25102 26630]]\n",
      "\n",
      " Classification Report for train set with alpha : 0.000 loss : hinge class_weight : balanced \n",
      "             precision    recall  f1-score   support\n",
      "\n",
      "          0       0.26      0.63      0.37      7577\n",
      "          1       0.81      0.47      0.60     25423\n",
      "\n",
      "avg / total       0.68      0.51      0.54     33000\n",
      "\n",
      "Accuracy of test set: 0.508 \n",
      "Confusion Matrix \n",
      " [[ 4781  2796]\n",
      " [13438 11985]]\n",
      "____________________________________________________________\n",
      "\n",
      " Classification Report for train set with alpha : 0.000 loss : modified_huber class_weight : None \n",
      "             precision    recall  f1-score   support\n",
      "\n",
      "          0       0.49      0.32      0.39     15268\n",
      "          1       0.82      0.90      0.86     51732\n",
      "\n",
      "avg / total       0.74      0.77      0.75     67000\n",
      "\n",
      "Accuracy of trained model: 0.770 \n",
      "Confusion Matrix \n",
      " [[ 4943 10325]\n",
      " [ 5053 46679]]\n",
      "\n",
      " Classification Report for train set with alpha : 0.000 loss : modified_huber class_weight : None \n",
      "             precision    recall  f1-score   support\n",
      "\n",
      "          0       0.31      0.20      0.24      7577\n",
      "          1       0.78      0.87      0.83     25423\n",
      "\n",
      "avg / total       0.68      0.72      0.69     33000\n",
      "\n",
      "Accuracy of test set: 0.717 \n",
      "Confusion Matrix \n",
      " [[ 1495  6082]\n",
      " [ 3259 22164]]\n",
      "____________________________________________________________\n",
      "\n",
      " Classification Report for train set with alpha : 0.000 loss : modified_huber class_weight : balanced \n",
      "             precision    recall  f1-score   support\n",
      "\n",
      "          0       0.30      0.75      0.43     15268\n",
      "          1       0.87      0.47      0.61     51732\n",
      "\n",
      "avg / total       0.74      0.54      0.57     67000\n",
      "\n",
      "Accuracy of trained model: 0.537 \n",
      "Confusion Matrix \n",
      " [[11484  3784]\n",
      " [27226 24506]]\n",
      "\n",
      " Classification Report for train set with alpha : 0.000 loss : modified_huber class_weight : balanced \n",
      "             precision    recall  f1-score   support\n",
      "\n",
      "          0       0.24      0.61      0.35      7577\n",
      "          1       0.79      0.43      0.56     25423\n",
      "\n",
      "avg / total       0.66      0.47      0.51     33000\n",
      "\n",
      "Accuracy of test set: 0.471 \n",
      "Confusion Matrix \n",
      " [[ 4622  2955]\n",
      " [14511 10912]]\n",
      "____________________________________________________________\n",
      "\n",
      " Classification Report for train set with alpha : 0.000 loss : perceptron class_weight : None \n",
      "             precision    recall  f1-score   support\n",
      "\n",
      "          0       0.47      0.38      0.42     15268\n",
      "          1       0.83      0.87      0.85     51732\n",
      "\n",
      "avg / total       0.75      0.76      0.75     67000\n",
      "\n",
      "Accuracy of trained model: 0.761 \n",
      "Confusion Matrix \n",
      " [[ 5858  9410]\n",
      " [ 6595 45137]]\n",
      "\n",
      " Classification Report for train set with alpha : 0.000 loss : perceptron class_weight : None \n",
      "             precision    recall  f1-score   support\n",
      "\n",
      "          0       0.30      0.24      0.26      7577\n",
      "          1       0.79      0.83      0.81     25423\n",
      "\n",
      "avg / total       0.67      0.70      0.68     33000\n",
      "\n",
      "Accuracy of test set: 0.696 \n",
      "Confusion Matrix \n",
      " [[ 1793  5784]\n",
      " [ 4259 21164]]\n",
      "____________________________________________________________\n",
      "\n",
      " Classification Report for train set with alpha : 0.000 loss : perceptron class_weight : balanced \n",
      "             precision    recall  f1-score   support\n",
      "\n",
      "          0       0.38      0.71      0.49     15268\n",
      "          1       0.88      0.65      0.75     51732\n",
      "\n",
      "avg / total       0.77      0.67      0.69     67000\n",
      "\n",
      "Accuracy of trained model: 0.667 \n",
      "Confusion Matrix \n",
      " [[10808  4460]\n",
      " [17880 33852]]\n",
      "\n",
      " Classification Report for train set with alpha : 0.000 loss : perceptron class_weight : balanced \n",
      "             precision    recall  f1-score   support\n",
      "\n",
      "          0       0.28      0.52      0.36      7577\n",
      "          1       0.81      0.60      0.69     25423\n",
      "\n",
      "avg / total       0.69      0.58      0.61     33000\n",
      "\n",
      "Accuracy of test set: 0.583 \n",
      "Confusion Matrix \n",
      " [[ 3939  3638]\n",
      " [10129 15294]]\n",
      "____________________________________________________________\n",
      "\n",
      " Classification Report for train set with alpha : 0.001 loss : hinge class_weight : None \n",
      "             precision    recall  f1-score   support\n",
      "\n",
      "          0       0.58      0.19      0.28     15268\n",
      "          1       0.80      0.96      0.87     51732\n",
      "\n",
      "avg / total       0.75      0.78      0.74     67000\n",
      "\n",
      "Accuracy of trained model: 0.784 \n",
      "Confusion Matrix \n",
      " [[ 2873 12395]\n",
      " [ 2070 49662]]\n",
      "\n",
      " Classification Report for train set with alpha : 0.001 loss : hinge class_weight : None \n",
      "             precision    recall  f1-score   support\n",
      "\n",
      "          0       0.34      0.10      0.16      7577\n",
      "          1       0.78      0.94      0.85     25423\n",
      "\n",
      "avg / total       0.68      0.75      0.69     33000\n",
      "\n",
      "Accuracy of test set: 0.747 \n",
      "Confusion Matrix \n",
      " [[  795  6782]\n",
      " [ 1556 23867]]\n",
      "____________________________________________________________\n",
      "\n",
      " Classification Report for train set with alpha : 0.001 loss : hinge class_weight : balanced \n",
      "             precision    recall  f1-score   support\n",
      "\n",
      "          0       0.30      0.89      0.45     15268\n",
      "          1       0.92      0.40      0.56     51732\n",
      "\n",
      "avg / total       0.78      0.51      0.53     67000\n",
      "\n",
      "Accuracy of trained model: 0.510 \n",
      "Confusion Matrix \n",
      " [[13571  1697]\n",
      " [31125 20607]]\n",
      "\n",
      " Classification Report for train set with alpha : 0.001 loss : hinge class_weight : balanced \n",
      "             precision    recall  f1-score   support\n",
      "\n",
      "          0       0.26      0.76      0.38      7577\n",
      "          1       0.83      0.35      0.49     25423\n",
      "\n",
      "avg / total       0.70      0.44      0.47     33000\n",
      "\n",
      "Accuracy of test set: 0.444 \n",
      "Confusion Matrix \n",
      " [[ 5726  1851]\n",
      " [16507  8916]]\n",
      "____________________________________________________________\n",
      "\n",
      " Classification Report for train set with alpha : 0.001 loss : modified_huber class_weight : None \n",
      "             precision    recall  f1-score   support\n",
      "\n",
      "          0       0.45      0.38      0.41     15268\n",
      "          1       0.83      0.86      0.84     51732\n",
      "\n",
      "avg / total       0.74      0.75      0.75     67000\n",
      "\n",
      "Accuracy of trained model: 0.752 \n",
      "Confusion Matrix \n",
      " [[ 5862  9406]\n",
      " [ 7180 44552]]\n",
      "\n",
      " Classification Report for train set with alpha : 0.001 loss : modified_huber class_weight : None \n",
      "             precision    recall  f1-score   support\n",
      "\n",
      "          0       0.29      0.24      0.26      7577\n",
      "          1       0.78      0.82      0.80     25423\n",
      "\n",
      "avg / total       0.67      0.69      0.68     33000\n",
      "\n",
      "Accuracy of test set: 0.688 \n",
      "Confusion Matrix \n",
      " [[ 1835  5742]\n",
      " [ 4546 20877]]\n",
      "____________________________________________________________\n",
      "\n",
      " Classification Report for train set with alpha : 0.001 loss : modified_huber class_weight : balanced \n",
      "             precision    recall  f1-score   support\n",
      "\n",
      "          0       0.27      0.92      0.42     15268\n",
      "          1       0.92      0.27      0.42     51732\n",
      "\n",
      "avg / total       0.77      0.42      0.42     67000\n",
      "\n",
      "Accuracy of trained model: 0.420 \n",
      "Confusion Matrix \n",
      " [[14010  1258]\n",
      " [37615 14117]]\n",
      "\n",
      " Classification Report for train set with alpha : 0.001 loss : modified_huber class_weight : balanced \n",
      "             precision    recall  f1-score   support\n",
      "\n",
      "          0       0.24      0.82      0.38      7577\n",
      "          1       0.82      0.24      0.37     25423\n",
      "\n",
      "avg / total       0.69      0.38      0.37     33000\n",
      "\n",
      "Accuracy of test set: 0.375 \n",
      "Confusion Matrix \n",
      " [[ 6235  1342]\n",
      " [19273  6150]]\n",
      "____________________________________________________________\n",
      "\n",
      " Classification Report for train set with alpha : 0.001 loss : perceptron class_weight : None \n",
      "             precision    recall  f1-score   support\n",
      "\n",
      "          0       0.37      0.62      0.46     15268\n",
      "          1       0.86      0.69      0.77     51732\n",
      "\n",
      "avg / total       0.75      0.68      0.70     67000\n",
      "\n",
      "Accuracy of trained model: 0.676 \n",
      "Confusion Matrix \n",
      " [[ 9423  5845]\n",
      " [15893 35839]]\n",
      "\n",
      " Classification Report for train set with alpha : 0.001 loss : perceptron class_weight : None \n",
      "             precision    recall  f1-score   support\n",
      "\n",
      "          0       0.27      0.44      0.33      7577\n",
      "          1       0.79      0.64      0.71     25423\n",
      "\n",
      "avg / total       0.67      0.59      0.62     33000\n",
      "\n",
      "Accuracy of test set: 0.594 \n",
      "Confusion Matrix \n",
      " [[ 3337  4240]\n",
      " [ 9170 16253]]\n",
      "____________________________________________________________\n",
      "\n",
      " Classification Report for train set with alpha : 0.001 loss : perceptron class_weight : balanced \n",
      "             precision    recall  f1-score   support\n",
      "\n",
      "          0       0.36      0.68      0.47     15268\n",
      "          1       0.87      0.64      0.74     51732\n",
      "\n",
      "avg / total       0.75      0.65      0.68     67000\n",
      "\n",
      "Accuracy of trained model: 0.651 \n",
      "Confusion Matrix \n",
      " [[10327  4941]\n",
      " [18412 33320]]\n",
      "\n",
      " Classification Report for train set with alpha : 0.001 loss : perceptron class_weight : balanced \n",
      "             precision    recall  f1-score   support\n",
      "\n",
      "          0       0.29      0.53      0.37      7577\n",
      "          1       0.81      0.61      0.70     25423\n",
      "\n",
      "avg / total       0.69      0.59      0.62     33000\n",
      "\n",
      "Accuracy of test set: 0.590 \n",
      "Confusion Matrix \n",
      " [[ 3998  3579]\n",
      " [ 9959 15464]]\n",
      "____________________________________________________________\n",
      "\n",
      " Classification Report for train set with alpha : 0.100 loss : hinge class_weight : None \n",
      "             precision    recall  f1-score   support\n",
      "\n",
      "          0       0.71      0.00      0.01     15268\n",
      "          1       0.77      1.00      0.87     51732\n",
      "\n",
      "avg / total       0.76      0.77      0.67     67000\n",
      "\n",
      "Accuracy of trained model: 0.773 \n",
      "Confusion Matrix \n",
      " [[   48 15220]\n",
      " [   20 51712]]\n",
      "\n",
      " Classification Report for train set with alpha : 0.100 loss : hinge class_weight : None \n",
      "             precision    recall  f1-score   support\n",
      "\n",
      "          0       0.48      0.00      0.00      7577\n",
      "          1       0.77      1.00      0.87     25423\n",
      "\n",
      "avg / total       0.71      0.77      0.67     33000\n",
      "\n",
      "Accuracy of test set: 0.770 \n",
      "Confusion Matrix \n",
      " [[   16  7561]\n",
      " [   17 25406]]\n",
      "____________________________________________________________\n",
      "\n",
      " Classification Report for train set with alpha : 0.100 loss : hinge class_weight : balanced \n",
      "             precision    recall  f1-score   support\n",
      "\n",
      "          0       0.31      0.65      0.42     15268\n",
      "          1       0.85      0.58      0.69     51732\n",
      "\n",
      "avg / total       0.73      0.60      0.63     67000\n",
      "\n",
      "Accuracy of trained model: 0.599 \n",
      "Confusion Matrix \n",
      " [[ 9861  5407]\n",
      " [21492 30240]]\n",
      "\n",
      " Classification Report for train set with alpha : 0.100 loss : hinge class_weight : balanced \n",
      "             precision    recall  f1-score   support\n",
      "\n",
      "          0       0.30      0.60      0.40      7577\n",
      "          1       0.83      0.58      0.68     25423\n",
      "\n",
      "avg / total       0.71      0.58      0.61     33000\n",
      "\n",
      "Accuracy of test set: 0.581 \n",
      "Confusion Matrix \n",
      " [[ 4537  3040]\n",
      " [10800 14623]]\n",
      "____________________________________________________________\n",
      "\n",
      " Classification Report for train set with alpha : 0.100 loss : modified_huber class_weight : None \n",
      "             precision    recall  f1-score   support\n",
      "\n",
      "          0       0.59      0.05      0.08     15268\n",
      "          1       0.78      0.99      0.87     51732\n",
      "\n",
      "avg / total       0.74      0.78      0.69     67000\n",
      "\n",
      "Accuracy of trained model: 0.775 \n",
      "Confusion Matrix \n",
      " [[  695 14573]\n",
      " [  477 51255]]\n",
      "\n",
      " Classification Report for train set with alpha : 0.100 loss : modified_huber class_weight : None \n",
      "             precision    recall  f1-score   support\n",
      "\n",
      "          0       0.41      0.03      0.05      7577\n",
      "          1       0.77      0.99      0.87     25423\n",
      "\n",
      "avg / total       0.69      0.77      0.68     33000\n",
      "\n",
      "Accuracy of test set: 0.768 \n",
      "Confusion Matrix \n",
      " [[  209  7368]\n",
      " [  302 25121]]\n",
      "____________________________________________________________\n",
      "\n",
      " Classification Report for train set with alpha : 0.100 loss : modified_huber class_weight : balanced \n",
      "             precision    recall  f1-score   support\n",
      "\n",
      "          0       0.34      0.71      0.46     15268\n",
      "          1       0.88      0.60      0.71     51732\n",
      "\n",
      "avg / total       0.75      0.63      0.66     67000\n",
      "\n",
      "Accuracy of trained model: 0.625 \n",
      "Confusion Matrix \n",
      " [[10846  4422]\n",
      " [20671 31061]]\n",
      "\n",
      " Classification Report for train set with alpha : 0.100 loss : modified_huber class_weight : balanced \n",
      "             precision    recall  f1-score   support\n",
      "\n",
      "          0       0.29      0.60      0.39      7577\n",
      "          1       0.83      0.57      0.68     25423\n",
      "\n",
      "avg / total       0.70      0.58      0.61     33000\n",
      "\n",
      "Accuracy of test set: 0.580 \n",
      "Confusion Matrix \n",
      " [[ 4518  3059]\n",
      " [10817 14606]]\n",
      "____________________________________________________________\n",
      "\n",
      " Classification Report for train set with alpha : 0.100 loss : perceptron class_weight : None \n",
      "             precision    recall  f1-score   support\n",
      "\n",
      "          0       0.51      0.22      0.31     15268\n",
      "          1       0.80      0.94      0.87     51732\n",
      "\n",
      "avg / total       0.74      0.77      0.74     67000\n",
      "\n",
      "Accuracy of trained model: 0.775 \n",
      "Confusion Matrix \n",
      " [[ 3395 11873]\n",
      " [ 3206 48526]]\n",
      "\n",
      " Classification Report for train set with alpha : 0.100 loss : perceptron class_weight : None \n",
      "             precision    recall  f1-score   support\n",
      "\n",
      "          0       0.31      0.13      0.18      7577\n",
      "          1       0.78      0.92      0.84     25423\n",
      "\n",
      "avg / total       0.67      0.74      0.69     33000\n",
      "\n",
      "Accuracy of test set: 0.736 \n",
      "Confusion Matrix \n",
      " [[  974  6603]\n",
      " [ 2122 23301]]\n",
      "____________________________________________________________\n",
      "\n",
      " Classification Report for train set with alpha : 0.100 loss : perceptron class_weight : balanced \n",
      "             precision    recall  f1-score   support\n",
      "\n",
      "          0       0.35      0.63      0.45     15268\n",
      "          1       0.86      0.65      0.74     51732\n",
      "\n",
      "avg / total       0.74      0.64      0.67     67000\n",
      "\n",
      "Accuracy of trained model: 0.643 \n",
      "Confusion Matrix \n",
      " [[ 9689  5579]\n",
      " [18354 33378]]\n",
      "\n",
      " Classification Report for train set with alpha : 0.100 loss : perceptron class_weight : balanced \n",
      "             precision    recall  f1-score   support\n",
      "\n",
      "          0       0.28      0.51      0.36      7577\n",
      "          1       0.81      0.61      0.69     25423\n",
      "\n",
      "avg / total       0.68      0.59      0.62     33000\n",
      "\n",
      "Accuracy of test set: 0.585 \n",
      "Confusion Matrix \n",
      " [[ 3846  3731]\n",
      " [ 9961 15462]]\n",
      "____________________________________________________________\n"
     ]
    }
   ],
   "source": [
    "sgd_measure=[]\n",
    "def classifier_combinations(al,lo,cw):\n",
    "    clf=linear_model.SGDClassifier(alpha=al, loss=lo,class_weight=cw)\n",
    "    clf.fit(X_train, y_train)\n",
    "    pred_train=clf.predict(X_train)\n",
    "    print(\"\\n Classification Report for train set with alpha : %0.3f loss : %s class_weight : %s \"%(al,lo,cw))\n",
    "    print(classification_report(y_train, pred_train))\n",
    "    print(\"Accuracy of trained model: %0.3f \"%clf.score(X_train,y_train))\n",
    "    print(\"Confusion Matrix \\n\" ,confusion_matrix(y_train,pred_train,[0,1]))\n",
    "    pred_test=clf.predict(X_test)\n",
    "    print(\"\\n Classification Report for train set with alpha : %0.3f loss : %s class_weight : %s \"%(al,lo,cw))\n",
    "    print(classification_report(y_test, pred_test))\n",
    "    print(\"Accuracy of test set: %0.3f \"%clf.score(X_test,y_test))\n",
    "    print(\"Confusion Matrix \\n\" ,confusion_matrix(y_test,pred_test,[0,1]))\n",
    "    sgd_measure.append(precision_recall_fscore_support(y_test, pred_test, average='weighted'))\n",
    "    print(\"___\"*20)\n",
    "\n",
    "##params\n",
    "alpha=[.0001,.001,.1]\n",
    "loss=[\"hinge\",\"modified_huber\",\"perceptron\"]\n",
    "class_weight=[None, \"balanced\"]\n",
    "\n",
    "\n",
    "iterations=product(alpha,loss,class_weight)\n",
    "for opt in iterations: \n",
    "    classifier_combinations(*opt)\n",
    "    \n",
    "##add to dictionary    \n",
    "perf_scores[\"SGD\"]=sgd_measure"
   ]
  },
  {
   "cell_type": "code",
   "execution_count": 53,
   "metadata": {
    "collapsed": false,
    "scrolled": false
   },
   "outputs": [
    {
     "data": {
      "image/png": "[encoded data removed]",
      "text/plain": [
       "<matplotlib.figure.Figure at 0x11e5bc358>"
      ]
     },
     "metadata": {},
     "output_type": "display_data"
    }
   ],
   "source": [
    "#Graph plotting different combination settings with precision values\n",
    "x=[i for i in range(len(sgd_measure))]\n",
    "y=[i[0] for i in sgd_measure]\n",
    "\n",
    "yb1 = [baseline1]*len(x)\n",
    "yb2 = [baseline2]*len(x)\n",
    "\n",
    "plt.figure(figsize=(10,5)) \n",
    "plt.plot(x, y,'go-',label='Models') \n",
    "plt.plot(x, yb1, 'r-',label='Baseline1') \n",
    "plt.plot(x,yb2,'b-',label='Baseline2')\n",
    "plt.xticks(x)\n",
    "plt.grid() \n",
    "plt.title(\"Stochastic Gradient Descent model performances vs Baselines\") \n",
    "plt.xlabel('Stochastic Gradient Descent Models') \n",
    "plt.ylabel('Average Precision') \n",
    "plt.legend(loc=\"lower right\")\n",
    "plt.show()"
   ]
  },
  {
   "cell_type": "markdown",
   "metadata": {},
   "source": [
    "### 4.3 Best Setting"
   ]
  },
  {
   "cell_type": "code",
   "execution_count": 54,
   "metadata": {
    "collapsed": false
   },
   "outputs": [
    {
     "data": {
      "text/plain": [
       "SGDClassifier(alpha=0.1, average=False, class_weight=None, epsilon=0.1,\n",
       "       eta0=0.0, fit_intercept=True, l1_ratio=0.15,\n",
       "       learning_rate='optimal', loss='modified_huber', n_iter=5, n_jobs=1,\n",
       "       penalty='l2', power_t=0.5, random_state=None, shuffle=True,\n",
       "       verbose=0, warm_start=False)"
      ]
     },
     "execution_count": 54,
     "metadata": {},
     "output_type": "execute_result"
    }
   ],
   "source": [
    "#Best Model settings\n",
    "\n",
    "clf=linear_model.SGDClassifier(alpha=0.100, loss=\"modified_huber\")\n",
    "clf.fit(X_train, y_train)"
   ]
  },
  {
   "cell_type": "code",
   "execution_count": 55,
   "metadata": {
    "collapsed": false
   },
   "outputs": [
    {
     "name": "stdout",
     "output_type": "stream",
     "text": [
      "10 fold Precsion_score of trained model: 0.774 \n",
      "10 fold Accuracy_score of trained model: 0.771 \n"
     ]
    }
   ],
   "source": [
    "scores = cross_val_score(clf,X_train ,y_train, cv=10,scoring='precision')\n",
    "print(\"10 fold Precsion_score of trained model: %0.3f \"% (np.mean(scores)))\n",
    "scores = cross_val_score(clf,X_train ,y_train, cv=10,scoring='accuracy')\n",
    "print(\"10 fold Accuracy_score of trained model: %0.3f \"% (np.mean(scores)))"
   ]
  },
  {
   "cell_type": "code",
   "execution_count": 56,
   "metadata": {
    "collapsed": false
   },
   "outputs": [
    {
     "name": "stdout",
     "output_type": "stream",
     "text": [
      "Accuracy of test set: 0.769 \n",
      "Classification Report for predicted test set\n",
      "\n",
      "             precision    recall  f1-score   support\n",
      "\n",
      "          0       0.36      0.01      0.02      7577\n",
      "          1       0.77      0.99      0.87     25423\n",
      "\n",
      "avg / total       0.68      0.77      0.67     33000\n",
      "\n",
      "0.0239370357658\n"
     ]
    }
   ],
   "source": [
    "#Predicting for the Test set\n",
    "\n",
    "pred_test=clf.predict(X_test)\n",
    "print(\"Accuracy of test set: %0.3f \"%clf.score(X_test,y_test))\n",
    "print(\"Classification Report for predicted test set\\n\")\n",
    "print(classification_report(y_test, pred_test))\n",
    "print(matthews_corrcoef(y_test, pred_test))"
   ]
  },
  {
   "cell_type": "markdown",
   "metadata": {},
   "source": [
    "## 5.Support Vector Machines"
   ]
  },
  {
   "cell_type": "markdown",
   "metadata": {},
   "source": [
    "### 5.1 Default Setting"
   ]
  },
  {
   "cell_type": "code",
   "execution_count": 57,
   "metadata": {
    "collapsed": false
   },
   "outputs": [
    {
     "data": {
      "text/plain": [
       "LinearSVC(C=1.0, class_weight=None, dual=True, fit_intercept=True,\n",
       "     intercept_scaling=1, loss='squared_hinge', max_iter=1000,\n",
       "     multi_class='ovr', penalty='l2', random_state=None, tol=0.0001,\n",
       "     verbose=0)"
      ]
     },
     "execution_count": 57,
     "metadata": {},
     "output_type": "execute_result"
    }
   ],
   "source": [
    "clf = LinearSVC()\n",
    "clf.fit(X_train, y_train)"
   ]
  },
  {
   "cell_type": "code",
   "execution_count": 58,
   "metadata": {
    "collapsed": false
   },
   "outputs": [
    {
     "name": "stdout",
     "output_type": "stream",
     "text": [
      "             precision    recall  f1-score   support\n",
      "\n",
      "          0       0.98      0.94      0.96     15268\n",
      "          1       0.98      0.99      0.99     51732\n",
      "\n",
      "avg / total       0.98      0.98      0.98     67000\n",
      "\n",
      "Accuracy of trained model: 0.983 \n"
     ]
    }
   ],
   "source": [
    "pred_train=clf.predict(X_train)\n",
    "print(classification_report(y_train, pred_train))\n",
    "print(\"Accuracy of trained model: %0.3f \"%clf.score(X_train,y_train))"
   ]
  },
  {
   "cell_type": "code",
   "execution_count": 59,
   "metadata": {
    "collapsed": false
   },
   "outputs": [
    {
     "name": "stdout",
     "output_type": "stream",
     "text": [
      "             precision    recall  f1-score   support\n",
      "\n",
      "          0       0.30      0.31      0.31      7577\n",
      "          1       0.79      0.78      0.79     25423\n",
      "\n",
      "avg / total       0.68      0.67      0.68     33000\n",
      "\n",
      "Accuracy of test set: 0.674 \n",
      "0.0920335846656\n"
     ]
    }
   ],
   "source": [
    "#Predicting for the Test set\n",
    "\n",
    "pred_test=clf.predict(X_test)\n",
    "print(classification_report(y_test, pred_test))\n",
    "print(\"Accuracy of test set: %0.3f \"%clf.score(X_test,y_test))\n",
    "print(matthews_corrcoef(y_test, pred_test))"
   ]
  },
  {
   "cell_type": "markdown",
   "metadata": {},
   "source": [
    "### 5.2 Support Vector Machine with different parameter settings"
   ]
  },
  {
   "cell_type": "code",
   "execution_count": 60,
   "metadata": {
    "collapsed": false,
    "scrolled": false
   },
   "outputs": [
    {
     "name": "stdout",
     "output_type": "stream",
     "text": [
      "Model Setting: 1 \n",
      "\n",
      "C: 1.000000 class_weight: balanced max_iter :1000 loss :hinge \n",
      "\n",
      "\n",
      " Classification Report for train set with\n",
      "             precision    recall  f1-score   support\n",
      "\n",
      "          0       0.85      0.98      0.91     15268\n",
      "          1       0.99      0.95      0.97     51732\n",
      "\n",
      "avg / total       0.96      0.96      0.96     67000\n",
      "\n",
      "Accuracy of trained model: 0.955 \n",
      "\n",
      " Classification Report for test set \n",
      "             precision    recall  f1-score   support\n",
      "\n",
      "          0       0.30      0.37      0.33      7577\n",
      "          1       0.80      0.74      0.77     25423\n",
      "\n",
      "avg / total       0.68      0.65      0.66     33000\n",
      "\n",
      "Accuracy of test set: 0.652 \n",
      "\n",
      "____________________________________________________________\n",
      "Model Setting: 2 \n",
      "\n",
      "C: 1.000000 class_weight: balanced max_iter :1000 loss :squared_hinge \n",
      "\n",
      "\n",
      " Classification Report for train set with\n",
      "             precision    recall  f1-score   support\n",
      "\n",
      "          0       0.93      0.98      0.95     15268\n",
      "          1       0.99      0.98      0.99     51732\n",
      "\n",
      "avg / total       0.98      0.98      0.98     67000\n",
      "\n",
      "Accuracy of trained model: 0.978 \n",
      "\n",
      " Classification Report for test set \n",
      "             precision    recall  f1-score   support\n",
      "\n",
      "          0       0.30      0.34      0.32      7577\n",
      "          1       0.79      0.76      0.78     25423\n",
      "\n",
      "avg / total       0.68      0.66      0.67     33000\n",
      "\n",
      "Accuracy of test set: 0.664 \n",
      "\n",
      "____________________________________________________________\n",
      "Model Setting: 3 \n",
      "\n",
      "C: 1.000000 class_weight: balanced max_iter :10000 loss :hinge \n",
      "\n",
      "\n",
      " Classification Report for train set with\n",
      "             precision    recall  f1-score   support\n",
      "\n",
      "          0       0.84      0.98      0.91     15268\n",
      "          1       1.00      0.95      0.97     51732\n",
      "\n",
      "avg / total       0.96      0.96      0.96     67000\n",
      "\n",
      "Accuracy of trained model: 0.955 \n",
      "\n",
      " Classification Report for test set \n",
      "             precision    recall  f1-score   support\n",
      "\n",
      "          0       0.30      0.37      0.33      7577\n",
      "          1       0.80      0.74      0.77     25423\n",
      "\n",
      "avg / total       0.68      0.65      0.67     33000\n",
      "\n",
      "Accuracy of test set: 0.652 \n",
      "\n",
      "____________________________________________________________\n",
      "Model Setting: 4 \n",
      "\n",
      "C: 1.000000 class_weight: balanced max_iter :10000 loss :squared_hinge \n",
      "\n",
      "\n",
      " Classification Report for train set with\n",
      "             precision    recall  f1-score   support\n",
      "\n",
      "          0       0.92      0.99      0.95     15268\n",
      "          1       1.00      0.97      0.99     51732\n",
      "\n",
      "avg / total       0.98      0.98      0.98     67000\n",
      "\n",
      "Accuracy of trained model: 0.978 \n",
      "\n",
      " Classification Report for test set \n",
      "             precision    recall  f1-score   support\n",
      "\n",
      "          0       0.30      0.36      0.33      7577\n",
      "          1       0.80      0.75      0.77     25423\n",
      "\n",
      "avg / total       0.68      0.66      0.67     33000\n",
      "\n",
      "Accuracy of test set: 0.658 \n",
      "\n",
      "____________________________________________________________\n",
      "Model Setting: 5 \n",
      "\n",
      "C: 0.100000 class_weight: balanced max_iter :1000 loss :hinge \n",
      "\n",
      "\n",
      " Classification Report for train set with\n",
      "             precision    recall  f1-score   support\n",
      "\n",
      "          0       0.64      0.94      0.76     15268\n",
      "          1       0.98      0.84      0.91     51732\n",
      "\n",
      "avg / total       0.90      0.86      0.87     67000\n",
      "\n",
      "Accuracy of trained model: 0.864 \n",
      "\n",
      " Classification Report for test set \n",
      "             precision    recall  f1-score   support\n",
      "\n",
      "          0       0.30      0.45      0.36      7577\n",
      "          1       0.81      0.69      0.74     25423\n",
      "\n",
      "avg / total       0.69      0.63      0.65     33000\n",
      "\n",
      "Accuracy of test set: 0.632 \n",
      "\n",
      "____________________________________________________________\n",
      "Model Setting: 6 \n",
      "\n",
      "C: 0.100000 class_weight: balanced max_iter :1000 loss :squared_hinge \n",
      "\n",
      "\n",
      " Classification Report for train set with\n",
      "             precision    recall  f1-score   support\n",
      "\n",
      "          0       0.78      0.97      0.86     15268\n",
      "          1       0.99      0.92      0.95     51732\n",
      "\n",
      "avg / total       0.94      0.93      0.93     67000\n",
      "\n",
      "Accuracy of trained model: 0.930 \n",
      "\n",
      " Classification Report for test set \n",
      "             precision    recall  f1-score   support\n",
      "\n",
      "          0       0.30      0.39      0.34      7577\n",
      "          1       0.80      0.73      0.76     25423\n",
      "\n",
      "avg / total       0.69      0.65      0.67     33000\n",
      "\n",
      "Accuracy of test set: 0.652 \n",
      "\n",
      "____________________________________________________________\n",
      "Model Setting: 7 \n",
      "\n",
      "C: 0.100000 class_weight: balanced max_iter :10000 loss :hinge \n",
      "\n",
      "\n",
      " Classification Report for train set with\n",
      "             precision    recall  f1-score   support\n",
      "\n",
      "          0       0.64      0.94      0.76     15268\n",
      "          1       0.98      0.84      0.91     51732\n",
      "\n",
      "avg / total       0.90      0.86      0.87     67000\n",
      "\n",
      "Accuracy of trained model: 0.864 \n",
      "\n",
      " Classification Report for test set \n",
      "             precision    recall  f1-score   support\n",
      "\n",
      "          0       0.30      0.45      0.36      7577\n",
      "          1       0.81      0.69      0.74     25423\n",
      "\n",
      "avg / total       0.69      0.63      0.65     33000\n",
      "\n",
      "Accuracy of test set: 0.632 \n",
      "\n",
      "____________________________________________________________\n",
      "Model Setting: 8 \n",
      "\n",
      "C: 0.100000 class_weight: balanced max_iter :10000 loss :squared_hinge \n",
      "\n",
      "\n",
      " Classification Report for train set with\n",
      "             precision    recall  f1-score   support\n",
      "\n",
      "          0       0.78      0.97      0.86     15268\n",
      "          1       0.99      0.92      0.95     51732\n",
      "\n",
      "avg / total       0.94      0.93      0.93     67000\n",
      "\n",
      "Accuracy of trained model: 0.930 \n",
      "\n",
      " Classification Report for test set \n",
      "             precision    recall  f1-score   support\n",
      "\n",
      "          0       0.30      0.39      0.34      7577\n",
      "          1       0.80      0.73      0.76     25423\n",
      "\n",
      "avg / total       0.69      0.65      0.67     33000\n",
      "\n",
      "Accuracy of test set: 0.652 \n",
      "\n",
      "____________________________________________________________\n",
      "Model Setting: 9 \n",
      "\n",
      "C: 0.010000 class_weight: balanced max_iter :1000 loss :hinge \n",
      "\n",
      "\n",
      " Classification Report for train set with\n",
      "             precision    recall  f1-score   support\n",
      "\n",
      "          0       0.44      0.86      0.58     15268\n",
      "          1       0.94      0.67      0.79     51732\n",
      "\n",
      "avg / total       0.83      0.72      0.74     67000\n",
      "\n",
      "Accuracy of trained model: 0.716 \n",
      "\n",
      " Classification Report for test set \n",
      "             precision    recall  f1-score   support\n",
      "\n",
      "          0       0.29      0.58      0.39      7577\n",
      "          1       0.82      0.59      0.69     25423\n",
      "\n",
      "avg / total       0.70      0.59      0.62     33000\n",
      "\n",
      "Accuracy of test set: 0.585 \n",
      "\n",
      "____________________________________________________________\n",
      "Model Setting: 10 \n",
      "\n",
      "C: 0.010000 class_weight: balanced max_iter :1000 loss :squared_hinge \n",
      "\n",
      "\n",
      " Classification Report for train set with\n",
      "             precision    recall  f1-score   support\n",
      "\n",
      "          0       0.59      0.90      0.71     15268\n",
      "          1       0.97      0.81      0.88     51732\n",
      "\n",
      "avg / total       0.88      0.83      0.84     67000\n",
      "\n",
      "Accuracy of trained model: 0.834 \n",
      "\n",
      " Classification Report for test set \n",
      "             precision    recall  f1-score   support\n",
      "\n",
      "          0       0.30      0.46      0.36      7577\n",
      "          1       0.81      0.69      0.74     25423\n",
      "\n",
      "avg / total       0.69      0.63      0.66     33000\n",
      "\n",
      "Accuracy of test set: 0.633 \n",
      "\n",
      "____________________________________________________________\n",
      "Model Setting: 11 \n",
      "\n",
      "C: 0.010000 class_weight: balanced max_iter :10000 loss :hinge \n",
      "\n",
      "\n",
      " Classification Report for train set with\n",
      "             precision    recall  f1-score   support\n",
      "\n",
      "          0       0.44      0.86      0.58     15268\n",
      "          1       0.94      0.67      0.79     51732\n",
      "\n",
      "avg / total       0.83      0.72      0.74     67000\n",
      "\n",
      "Accuracy of trained model: 0.716 \n",
      "\n",
      " Classification Report for test set \n",
      "             precision    recall  f1-score   support\n",
      "\n",
      "          0       0.29      0.58      0.39      7577\n",
      "          1       0.82      0.59      0.69     25423\n",
      "\n",
      "avg / total       0.70      0.58      0.62     33000\n",
      "\n",
      "Accuracy of test set: 0.585 \n",
      "\n",
      "____________________________________________________________\n",
      "Model Setting: 12 \n",
      "\n",
      "C: 0.010000 class_weight: balanced max_iter :10000 loss :squared_hinge \n",
      "\n",
      "\n",
      " Classification Report for train set with\n",
      "             precision    recall  f1-score   support\n",
      "\n",
      "          0       0.59      0.90      0.71     15268\n",
      "          1       0.97      0.81      0.88     51732\n",
      "\n",
      "avg / total       0.88      0.83      0.84     67000\n",
      "\n",
      "Accuracy of trained model: 0.834 \n",
      "\n",
      " Classification Report for test set \n",
      "             precision    recall  f1-score   support\n",
      "\n",
      "          0       0.30      0.46      0.36      7577\n",
      "          1       0.81      0.69      0.74     25423\n",
      "\n",
      "avg / total       0.69      0.63      0.65     33000\n",
      "\n",
      "Accuracy of test set: 0.633 \n",
      "\n",
      "____________________________________________________________\n"
     ]
    }
   ],
   "source": [
    "svm_measure=[]\n",
    "i=1\n",
    "def classifier_combinations(c,cw,mi,lo):\n",
    "    clf=LinearSVC(C=c,class_weight=cw,max_iter=mi,loss=lo)\n",
    "    clf.fit(X_train, y_train)\n",
    "    pred_train=clf.predict(X_train)\n",
    "    global i\n",
    "    print(\"Model Setting: %d \\n\"%i)\n",
    "    i+=1\n",
    "    print(\"C: %f class_weight: %s max_iter :%d loss :%s \\n\"%(c,cw,mi,lo))\n",
    "    print(\"\\n Classification Report for train set with\")\n",
    "    print(classification_report(y_train, pred_train))\n",
    "    print(\"Accuracy of trained model: %0.3f \"%clf.score(X_train,y_train))\n",
    "    pred_test=clf.predict(X_test)\n",
    "    print(\"\\n Classification Report for test set \")\n",
    "    print(classification_report(y_test, pred_test))\n",
    "    print(\"Accuracy of test set: %0.3f \\n\"%clf.score(X_test,y_test))\n",
    "    svm_measure.append(precision_recall_fscore_support(y_test, pred_test, average='weighted'))\n",
    "    print(\"___\"*20)\n",
    "\n",
    "#params\n",
    "C=[1.0,0.1,.01]\n",
    "class_weight=[\"balanced\"]\n",
    "max_iter=[1000,10000]\n",
    "loss=[\"hinge\",\"squared_hinge\"]\n",
    "\n",
    "\n",
    "iterations=product(C,class_weight,max_iter,loss)\n",
    "for opt in iterations: \n",
    "    classifier_combinations(*opt)\n",
    "    \n",
    "##add to dictionary\n",
    "perf_scores[\"SVM\"]=svm_measure"
   ]
  },
  {
   "cell_type": "code",
   "execution_count": 61,
   "metadata": {
    "collapsed": false
   },
   "outputs": [
    {
     "data": {
      "image/png": "[encoded data removed]",
      "text/plain": [
       "<matplotlib.figure.Figure at 0x112a8a588>"
      ]
     },
     "metadata": {},
     "output_type": "display_data"
    }
   ],
   "source": [
    "#Graph plotting different combination settings with precision values\n",
    "x=[i for i in range(len(svm_measure))]\n",
    "y=[i[0] for i in svm_measure]\n",
    "\n",
    "yb1 = [baseline1]*len(x)\n",
    "yb2 = [baseline2]*len(x)\n",
    "\n",
    "plt.figure(figsize=(10,5)) \n",
    "plt.plot(x, y,'go-',label='Models') \n",
    "plt.plot(x, yb1, 'r-',label='Baseline1') \n",
    "plt.plot(x,yb2,'b-',label='Baseline2')\n",
    "plt.xticks(x)\n",
    "plt.grid() \n",
    "plt.title(\"Support Vector Machine model performances vs Baselines\") \n",
    "plt.xlabel('Support Vector Machine Models') \n",
    "plt.ylabel('Average Precision') \n",
    "plt.legend(loc=\"lower right\")\n",
    "plt.show()"
   ]
  },
  {
   "cell_type": "markdown",
   "metadata": {},
   "source": [
    "### 5.3 Best Setting"
   ]
  },
  {
   "cell_type": "code",
   "execution_count": 62,
   "metadata": {
    "collapsed": false
   },
   "outputs": [
    {
     "data": {
      "text/plain": [
       "LinearSVC(C=0.01, class_weight='balanced', dual=True, fit_intercept=True,\n",
       "     intercept_scaling=1, loss='hinge', max_iter=10000, multi_class='ovr',\n",
       "     penalty='l2', random_state=None, tol=0.0001, verbose=0)"
      ]
     },
     "execution_count": 62,
     "metadata": {},
     "output_type": "execute_result"
    }
   ],
   "source": [
    "clf = LinearSVC(C=0.01, class_weight=\"balanced\", max_iter=10000, loss=\"hinge\")\n",
    "clf.fit(X_train, y_train)"
   ]
  },
  {
   "cell_type": "code",
   "execution_count": 63,
   "metadata": {
    "collapsed": false,
    "scrolled": true
   },
   "outputs": [
    {
     "name": "stdout",
     "output_type": "stream",
     "text": [
      "10 fold Precsion_score of trained model: 0.827 \n",
      "10 fold Accuracy_score of trained model: 0.586 \n"
     ]
    }
   ],
   "source": [
    "#This will take some considerable amount of time to run\n",
    "scores = cross_val_score(clf,X_train ,y_train, cv=10,scoring='precision')\n",
    "print(\"10 fold Precsion_score of trained model: %0.3f \"% (np.mean(scores)))\n",
    "scores = cross_val_score(clf,X_train ,y_train, cv=10,scoring='accuracy')\n",
    "print(\"10 fold Accuracy_score of trained model: %0.3f \"% (np.mean(scores)))"
   ]
  },
  {
   "cell_type": "code",
   "execution_count": 64,
   "metadata": {
    "collapsed": false
   },
   "outputs": [
    {
     "name": "stdout",
     "output_type": "stream",
     "text": [
      "             precision    recall  f1-score   support\n",
      "\n",
      "          0       0.29      0.58      0.39      7577\n",
      "          1       0.82      0.59      0.69     25423\n",
      "\n",
      "avg / total       0.70      0.58      0.62     33000\n",
      "\n",
      "Accuracy of test set: 0.585 \n",
      "0.138335069469\n"
     ]
    }
   ],
   "source": [
    "#Predicting for the Test set\n",
    "\n",
    "pred_test=clf.predict(X_test)\n",
    "print(classification_report(y_test, pred_test))\n",
    "print(\"Accuracy of test set: %0.3f \"%clf.score(X_test,y_test))\n",
    "print(matthews_corrcoef(y_test, pred_test))"
   ]
  },
  {
   "cell_type": "markdown",
   "metadata": {
    "collapsed": true
   },
   "source": [
    "## 6. Neural Network Model \n"
   ]
  },
  {
   "cell_type": "markdown",
   "metadata": {},
   "source": [
    "### 6.1 Default Setting"
   ]
  },
  {
   "cell_type": "markdown",
   "metadata": {},
   "source": [
    "Warning 1: The neural network (MLPClassifier) takes time to run and sometikmes you might want to click the stop button to print the result. As per our observation it proccesses but is not able to output the result. Once you click the stop you can see the result below the cell.\n",
    "\n",
    "Warning 2: For the differnt settings you might have to click the stop button 16 times (since there are 16 different parameter combinations we are trying to run)"
   ]
  },
  {
   "cell_type": "code",
   "execution_count": 65,
   "metadata": {
    "collapsed": false
   },
   "outputs": [
    {
     "data": {
      "text/plain": [
       "MLPClassifier(activation='relu', alpha=0.0001, batch_size='auto', beta_1=0.9,\n",
       "       beta_2=0.999, early_stopping=False, epsilon=1e-08,\n",
       "       hidden_layer_sizes=(100,), learning_rate='constant',\n",
       "       learning_rate_init=0.001, max_iter=200, momentum=0.9,\n",
       "       nesterovs_momentum=True, power_t=0.5, random_state=None,\n",
       "       shuffle=True, solver='adam', tol=0.0001, validation_fraction=0.1,\n",
       "       verbose=False, warm_start=False)"
      ]
     },
     "execution_count": 65,
     "metadata": {},
     "output_type": "execute_result"
    }
   ],
   "source": [
    "clf = MLPClassifier()\n",
    "clf.fit(X_train, y_train)"
   ]
  },
  {
   "cell_type": "code",
   "execution_count": 66,
   "metadata": {
    "collapsed": false
   },
   "outputs": [
    {
     "name": "stdout",
     "output_type": "stream",
     "text": [
      "             precision    recall  f1-score   support\n",
      "\n",
      "          0       0.84      0.49      0.62     15268\n",
      "          1       0.87      0.97      0.92     51732\n",
      "\n",
      "avg / total       0.86      0.86      0.85     67000\n",
      "\n",
      "Accuracy of trained model: 0.862 \n"
     ]
    }
   ],
   "source": [
    "pred_train=clf.predict(X_train)\n",
    "print(classification_report(y_train, pred_train))\n",
    "print(\"Accuracy of trained model: %0.3f \"%clf.score(X_train,y_train))"
   ]
  },
  {
   "cell_type": "code",
   "execution_count": 67,
   "metadata": {
    "collapsed": false
   },
   "outputs": [
    {
     "name": "stdout",
     "output_type": "stream",
     "text": [
      "             precision    recall  f1-score   support\n",
      "\n",
      "          0       0.34      0.14      0.20      7577\n",
      "          1       0.78      0.92      0.84     25423\n",
      "\n",
      "avg / total       0.68      0.74      0.70     33000\n",
      "\n",
      "Accuracy of test set: 0.739 \n"
     ]
    }
   ],
   "source": [
    "#Predicting for the Test set\n",
    "\n",
    "pred_test=clf.predict(X_test)\n",
    "print(classification_report(y_test, pred_test))\n",
    "print(\"Accuracy of test set: %0.3f \"%clf.score(X_test,y_test))"
   ]
  },
  {
   "cell_type": "markdown",
   "metadata": {},
   "source": [
    "### 6.2 Neural Network with different parameter settings"
   ]
  },
  {
   "cell_type": "code",
   "execution_count": 79,
   "metadata": {
    "collapsed": false,
    "scrolled": false
   },
   "outputs": [
    {
     "name": "stdout",
     "output_type": "stream",
     "text": [
      "\n",
      " Classification Report for train set with hidden_layer :  (100,)\n",
      "activation_fn : identity learning_rate : 0.001000 \n",
      "             precision    recall  f1-score   support\n",
      "\n",
      "          0       1.00      0.00      0.00     15268\n",
      "          1       0.77      1.00      0.87     51732\n",
      "\n",
      "avg / total       0.82      0.77      0.67     67000\n",
      "\n",
      "Accuracy of trained model: 0.772 \n"
     ]
    },
    {
     "ename": "KeyboardInterrupt",
     "evalue": "",
     "output_type": "error",
     "traceback": [
      "\u001b[0;31m---------------------------------------------------------------------------\u001b[0m",
      "\u001b[0;31mKeyboardInterrupt\u001b[0m                         Traceback (most recent call last)",
      "\u001b[0;32m<ipython-input-79-b2359b678ce5>\u001b[0m in \u001b[0;36m<module>\u001b[0;34m()\u001b[0m\n\u001b[1;32m     24\u001b[0m \u001b[0miterations\u001b[0m\u001b[0;34m=\u001b[0m\u001b[0mproduct\u001b[0m\u001b[0;34m(\u001b[0m\u001b[0mhidden_layer\u001b[0m\u001b[0;34m,\u001b[0m\u001b[0mactivation_fn\u001b[0m\u001b[0;34m,\u001b[0m\u001b[0mlearning_rate\u001b[0m\u001b[0;34m)\u001b[0m\u001b[0;34m\u001b[0m\u001b[0m\n\u001b[1;32m     25\u001b[0m \u001b[0;32mfor\u001b[0m \u001b[0mopt\u001b[0m \u001b[0;32min\u001b[0m \u001b[0miterations\u001b[0m\u001b[0;34m:\u001b[0m\u001b[0;34m\u001b[0m\u001b[0m\n\u001b[0;32m---> 26\u001b[0;31m     \u001b[0mclassifier_combinations\u001b[0m\u001b[0;34m(\u001b[0m\u001b[0;34m*\u001b[0m\u001b[0mopt\u001b[0m\u001b[0;34m)\u001b[0m\u001b[0;34m\u001b[0m\u001b[0m\n\u001b[0m\u001b[1;32m     27\u001b[0m \u001b[0;34m\u001b[0m\u001b[0m\n\u001b[1;32m     28\u001b[0m \u001b[0;31m##add to dictionary\u001b[0m\u001b[0;34m\u001b[0m\u001b[0;34m\u001b[0m\u001b[0m\n",
      "\u001b[0;32m<ipython-input-79-b2359b678ce5>\u001b[0m in \u001b[0;36mclassifier_combinations\u001b[0;34m(hl, av, lr)\u001b[0m\n\u001b[1;32m      8\u001b[0m     \u001b[0mprint\u001b[0m\u001b[0;34m(\u001b[0m\u001b[0mclassification_report\u001b[0m\u001b[0;34m(\u001b[0m\u001b[0my_train\u001b[0m\u001b[0;34m,\u001b[0m \u001b[0mpred_train\u001b[0m\u001b[0;34m)\u001b[0m\u001b[0;34m)\u001b[0m\u001b[0;34m\u001b[0m\u001b[0m\n\u001b[1;32m      9\u001b[0m     \u001b[0mprint\u001b[0m\u001b[0;34m(\u001b[0m\u001b[0;34m\"Accuracy of trained model: %0.3f \"\u001b[0m\u001b[0;34m%\u001b[0m\u001b[0mclf\u001b[0m\u001b[0;34m.\u001b[0m\u001b[0mscore\u001b[0m\u001b[0;34m(\u001b[0m\u001b[0mX_train\u001b[0m\u001b[0;34m,\u001b[0m\u001b[0my_train\u001b[0m\u001b[0;34m)\u001b[0m\u001b[0;34m)\u001b[0m\u001b[0;34m\u001b[0m\u001b[0m\n\u001b[0;32m---> 10\u001b[0;31m     \u001b[0mpred_test\u001b[0m\u001b[0;34m=\u001b[0m\u001b[0mclf\u001b[0m\u001b[0;34m.\u001b[0m\u001b[0mpredict\u001b[0m\u001b[0;34m(\u001b[0m\u001b[0mX_test\u001b[0m\u001b[0;34m)\u001b[0m\u001b[0;34m\u001b[0m\u001b[0m\n\u001b[0m\u001b[1;32m     11\u001b[0m     \u001b[0mprint\u001b[0m\u001b[0;34m(\u001b[0m\u001b[0;34m\"\\n Classification Report for test set with hidden_layer : \"\u001b[0m\u001b[0;34m,\u001b[0m\u001b[0mhl\u001b[0m\u001b[0;34m)\u001b[0m\u001b[0;34m\u001b[0m\u001b[0m\n\u001b[1;32m     12\u001b[0m     \u001b[0mprint\u001b[0m\u001b[0;34m(\u001b[0m\u001b[0;34m\"activation_fn : %s learning_rate : %f \"\u001b[0m\u001b[0;34m%\u001b[0m\u001b[0;34m(\u001b[0m\u001b[0mav\u001b[0m\u001b[0;34m,\u001b[0m\u001b[0mlr\u001b[0m\u001b[0;34m)\u001b[0m\u001b[0;34m)\u001b[0m\u001b[0;34m\u001b[0m\u001b[0m\n",
      "\u001b[0;32m/Library/Frameworks/Python.framework/Versions/3.5/lib/python3.5/site-packages/sklearn/neural_network/multilayer_perceptron.py\u001b[0m in \u001b[0;36mpredict\u001b[0;34m(self, X)\u001b[0m\n\u001b[1;32m    932\u001b[0m         \"\"\"\n\u001b[1;32m    933\u001b[0m         \u001b[0mcheck_is_fitted\u001b[0m\u001b[0;34m(\u001b[0m\u001b[0mself\u001b[0m\u001b[0;34m,\u001b[0m \u001b[0;34m\"coefs_\"\u001b[0m\u001b[0;34m)\u001b[0m\u001b[0;34m\u001b[0m\u001b[0m\n\u001b[0;32m--> 934\u001b[0;31m         \u001b[0my_pred\u001b[0m \u001b[0;34m=\u001b[0m \u001b[0mself\u001b[0m\u001b[0;34m.\u001b[0m\u001b[0m_predict\u001b[0m\u001b[0;34m(\u001b[0m\u001b[0mX\u001b[0m\u001b[0;34m)\u001b[0m\u001b[0;34m\u001b[0m\u001b[0m\n\u001b[0m\u001b[1;32m    935\u001b[0m \u001b[0;34m\u001b[0m\u001b[0m\n\u001b[1;32m    936\u001b[0m         \u001b[0;32mif\u001b[0m \u001b[0mself\u001b[0m\u001b[0;34m.\u001b[0m\u001b[0mn_outputs_\u001b[0m \u001b[0;34m==\u001b[0m \u001b[0;36m1\u001b[0m\u001b[0;34m:\u001b[0m\u001b[0;34m\u001b[0m\u001b[0m\n",
      "\u001b[0;32m/Library/Frameworks/Python.framework/Versions/3.5/lib/python3.5/site-packages/sklearn/neural_network/multilayer_perceptron.py\u001b[0m in \u001b[0;36m_predict\u001b[0;34m(self, X)\u001b[0m\n\u001b[1;32m    674\u001b[0m                                          layer_units[i + 1])))\n\u001b[1;32m    675\u001b[0m         \u001b[0;31m# forward propagate\u001b[0m\u001b[0;34m\u001b[0m\u001b[0;34m\u001b[0m\u001b[0m\n\u001b[0;32m--> 676\u001b[0;31m         \u001b[0mself\u001b[0m\u001b[0;34m.\u001b[0m\u001b[0m_forward_pass\u001b[0m\u001b[0;34m(\u001b[0m\u001b[0mactivations\u001b[0m\u001b[0;34m)\u001b[0m\u001b[0;34m\u001b[0m\u001b[0m\n\u001b[0m\u001b[1;32m    677\u001b[0m         \u001b[0my_pred\u001b[0m \u001b[0;34m=\u001b[0m \u001b[0mactivations\u001b[0m\u001b[0;34m[\u001b[0m\u001b[0;34m-\u001b[0m\u001b[0;36m1\u001b[0m\u001b[0;34m]\u001b[0m\u001b[0;34m\u001b[0m\u001b[0m\n\u001b[1;32m    678\u001b[0m \u001b[0;34m\u001b[0m\u001b[0m\n",
      "\u001b[0;32m/Library/Frameworks/Python.framework/Versions/3.5/lib/python3.5/site-packages/sklearn/neural_network/multilayer_perceptron.py\u001b[0m in \u001b[0;36m_forward_pass\u001b[0;34m(self, activations)\u001b[0m\n\u001b[1;32m    102\u001b[0m         \u001b[0;32mfor\u001b[0m \u001b[0mi\u001b[0m \u001b[0;32min\u001b[0m \u001b[0mrange\u001b[0m\u001b[0;34m(\u001b[0m\u001b[0mself\u001b[0m\u001b[0;34m.\u001b[0m\u001b[0mn_layers_\u001b[0m \u001b[0;34m-\u001b[0m \u001b[0;36m1\u001b[0m\u001b[0;34m)\u001b[0m\u001b[0;34m:\u001b[0m\u001b[0;34m\u001b[0m\u001b[0m\n\u001b[1;32m    103\u001b[0m             activations[i + 1] = safe_sparse_dot(activations[i],\n\u001b[0;32m--> 104\u001b[0;31m                                                  self.coefs_[i])\n\u001b[0m\u001b[1;32m    105\u001b[0m             \u001b[0mactivations\u001b[0m\u001b[0;34m[\u001b[0m\u001b[0mi\u001b[0m \u001b[0;34m+\u001b[0m \u001b[0;36m1\u001b[0m\u001b[0;34m]\u001b[0m \u001b[0;34m+=\u001b[0m \u001b[0mself\u001b[0m\u001b[0;34m.\u001b[0m\u001b[0mintercepts_\u001b[0m\u001b[0;34m[\u001b[0m\u001b[0mi\u001b[0m\u001b[0;34m]\u001b[0m\u001b[0;34m\u001b[0m\u001b[0m\n\u001b[1;32m    106\u001b[0m \u001b[0;34m\u001b[0m\u001b[0m\n",
      "\u001b[0;32m/Library/Frameworks/Python.framework/Versions/3.5/lib/python3.5/site-packages/sklearn/utils/extmath.py\u001b[0m in \u001b[0;36msafe_sparse_dot\u001b[0;34m(a, b, dense_output)\u001b[0m\n\u001b[1;32m    182\u001b[0m     \"\"\"\n\u001b[1;32m    183\u001b[0m     \u001b[0;32mif\u001b[0m \u001b[0missparse\u001b[0m\u001b[0;34m(\u001b[0m\u001b[0ma\u001b[0m\u001b[0;34m)\u001b[0m \u001b[0;32mor\u001b[0m \u001b[0missparse\u001b[0m\u001b[0;34m(\u001b[0m\u001b[0mb\u001b[0m\u001b[0;34m)\u001b[0m\u001b[0;34m:\u001b[0m\u001b[0;34m\u001b[0m\u001b[0m\n\u001b[0;32m--> 184\u001b[0;31m         \u001b[0mret\u001b[0m \u001b[0;34m=\u001b[0m \u001b[0ma\u001b[0m \u001b[0;34m*\u001b[0m \u001b[0mb\u001b[0m\u001b[0;34m\u001b[0m\u001b[0m\n\u001b[0m\u001b[1;32m    185\u001b[0m         \u001b[0;32mif\u001b[0m \u001b[0mdense_output\u001b[0m \u001b[0;32mand\u001b[0m \u001b[0mhasattr\u001b[0m\u001b[0;34m(\u001b[0m\u001b[0mret\u001b[0m\u001b[0;34m,\u001b[0m \u001b[0;34m\"toarray\"\u001b[0m\u001b[0;34m)\u001b[0m\u001b[0;34m:\u001b[0m\u001b[0;34m\u001b[0m\u001b[0m\n\u001b[1;32m    186\u001b[0m             \u001b[0mret\u001b[0m \u001b[0;34m=\u001b[0m \u001b[0mret\u001b[0m\u001b[0;34m.\u001b[0m\u001b[0mtoarray\u001b[0m\u001b[0;34m(\u001b[0m\u001b[0;34m)\u001b[0m\u001b[0;34m\u001b[0m\u001b[0m\n",
      "\u001b[0;32m/Library/Frameworks/Python.framework/Versions/3.5/lib/python3.5/site-packages/scipy/sparse/base.py\u001b[0m in \u001b[0;36m__mul__\u001b[0;34m(self, other)\u001b[0m\n\u001b[1;32m    342\u001b[0m                 \u001b[0;32mreturn\u001b[0m \u001b[0mself\u001b[0m\u001b[0;34m.\u001b[0m\u001b[0m_mul_vector\u001b[0m\u001b[0;34m(\u001b[0m\u001b[0mother\u001b[0m\u001b[0;34m.\u001b[0m\u001b[0mravel\u001b[0m\u001b[0;34m(\u001b[0m\u001b[0;34m)\u001b[0m\u001b[0;34m)\u001b[0m\u001b[0;34m.\u001b[0m\u001b[0mreshape\u001b[0m\u001b[0;34m(\u001b[0m\u001b[0mM\u001b[0m\u001b[0;34m,\u001b[0m \u001b[0;36m1\u001b[0m\u001b[0;34m)\u001b[0m\u001b[0;34m\u001b[0m\u001b[0m\n\u001b[1;32m    343\u001b[0m             \u001b[0;32melif\u001b[0m \u001b[0mother\u001b[0m\u001b[0;34m.\u001b[0m\u001b[0mndim\u001b[0m \u001b[0;34m==\u001b[0m \u001b[0;36m2\u001b[0m \u001b[0;32mand\u001b[0m \u001b[0mother\u001b[0m\u001b[0;34m.\u001b[0m\u001b[0mshape\u001b[0m\u001b[0;34m[\u001b[0m\u001b[0;36m0\u001b[0m\u001b[0;34m]\u001b[0m \u001b[0;34m==\u001b[0m \u001b[0mN\u001b[0m\u001b[0;34m:\u001b[0m\u001b[0;34m\u001b[0m\u001b[0m\n\u001b[0;32m--> 344\u001b[0;31m                 \u001b[0;32mreturn\u001b[0m \u001b[0mself\u001b[0m\u001b[0;34m.\u001b[0m\u001b[0m_mul_multivector\u001b[0m\u001b[0;34m(\u001b[0m\u001b[0mother\u001b[0m\u001b[0;34m)\u001b[0m\u001b[0;34m\u001b[0m\u001b[0m\n\u001b[0m\u001b[1;32m    345\u001b[0m \u001b[0;34m\u001b[0m\u001b[0m\n\u001b[1;32m    346\u001b[0m         \u001b[0;32mif\u001b[0m \u001b[0misscalarlike\u001b[0m\u001b[0;34m(\u001b[0m\u001b[0mother\u001b[0m\u001b[0;34m)\u001b[0m\u001b[0;34m:\u001b[0m\u001b[0;34m\u001b[0m\u001b[0m\n",
      "\u001b[0;32m/Library/Frameworks/Python.framework/Versions/3.5/lib/python3.5/site-packages/scipy/sparse/compressed.py\u001b[0m in \u001b[0;36m_mul_multivector\u001b[0;34m(self, other)\u001b[0m\n\u001b[1;32m    465\u001b[0m         \u001b[0;31m# csr_matvecs or csc_matvecs\u001b[0m\u001b[0;34m\u001b[0m\u001b[0;34m\u001b[0m\u001b[0m\n\u001b[1;32m    466\u001b[0m         \u001b[0mfn\u001b[0m \u001b[0;34m=\u001b[0m \u001b[0mgetattr\u001b[0m\u001b[0;34m(\u001b[0m\u001b[0m_sparsetools\u001b[0m\u001b[0;34m,\u001b[0m\u001b[0mself\u001b[0m\u001b[0;34m.\u001b[0m\u001b[0mformat\u001b[0m \u001b[0;34m+\u001b[0m \u001b[0;34m'_matvecs'\u001b[0m\u001b[0;34m)\u001b[0m\u001b[0;34m\u001b[0m\u001b[0m\n\u001b[0;32m--> 467\u001b[0;31m         \u001b[0mfn\u001b[0m\u001b[0;34m(\u001b[0m\u001b[0mM\u001b[0m\u001b[0;34m,\u001b[0m \u001b[0mN\u001b[0m\u001b[0;34m,\u001b[0m \u001b[0mn_vecs\u001b[0m\u001b[0;34m,\u001b[0m \u001b[0mself\u001b[0m\u001b[0;34m.\u001b[0m\u001b[0mindptr\u001b[0m\u001b[0;34m,\u001b[0m \u001b[0mself\u001b[0m\u001b[0;34m.\u001b[0m\u001b[0mindices\u001b[0m\u001b[0;34m,\u001b[0m \u001b[0mself\u001b[0m\u001b[0;34m.\u001b[0m\u001b[0mdata\u001b[0m\u001b[0;34m,\u001b[0m \u001b[0mother\u001b[0m\u001b[0;34m.\u001b[0m\u001b[0mravel\u001b[0m\u001b[0;34m(\u001b[0m\u001b[0;34m)\u001b[0m\u001b[0;34m,\u001b[0m \u001b[0mresult\u001b[0m\u001b[0;34m.\u001b[0m\u001b[0mravel\u001b[0m\u001b[0;34m(\u001b[0m\u001b[0;34m)\u001b[0m\u001b[0;34m)\u001b[0m\u001b[0;34m\u001b[0m\u001b[0m\n\u001b[0m\u001b[1;32m    468\u001b[0m \u001b[0;34m\u001b[0m\u001b[0m\n\u001b[1;32m    469\u001b[0m         \u001b[0;32mreturn\u001b[0m \u001b[0mresult\u001b[0m\u001b[0;34m\u001b[0m\u001b[0m\n",
      "\u001b[0;31mKeyboardInterrupt\u001b[0m: "
     ]
    }
   ],
   "source": [
    "nn_measure=[]\n",
    "def classifier_combinations(hl,av,lr):\n",
    "    clf=MLPClassifier(hidden_layer_sizes=hl,activation=av,learning_rate_init=lr)\n",
    "    clf.fit(X_train, y_train)\n",
    "    pred_train=clf.predict(X_train)\n",
    "    print(\"\\n Classification Report for train set with hidden_layer : \",hl)\n",
    "    print(\"activation_fn : %s learning_rate : %f \"%(av,lr))\n",
    "    print(classification_report(y_train, pred_train))\n",
    "    print(\"Accuracy of trained model: %0.3f \"%clf.score(X_train,y_train))\n",
    "    pred_test=clf.predict(X_test)\n",
    "    print(\"\\n Classification Report for test set with hidden_layer : \",hl)\n",
    "    print(\"activation_fn : %s learning_rate : %f \"%(av,lr))\n",
    "    print(classification_report(y_test, pred_test))\n",
    "    print(\"Accuracy of test set: %0.3f \"%clf.score(X_test,y_test))\n",
    "    nn_measure.append(precision_recall_fscore_support(y_test, pred_test, average='weighted'))\n",
    "    print(\"___\"*20)\n",
    "\n",
    "##params\n",
    "hidden_layer=[(100,),(2,)]\n",
    "activation_fn=[\"identity\",\"logistic\",\"tanh\",\"relu\"]\n",
    "learning_rate=[0.001,0.1]\n",
    "\n",
    "\n",
    "iterations=product(hidden_layer,activation_fn,learning_rate)\n",
    "for opt in iterations: \n",
    "    classifier_combinations(*opt)\n",
    "    \n",
    "##add to dictionary\n",
    "perf_scores[\"NNMLP\"]=nn_measure"
   ]
  },
  {
   "cell_type": "code",
   "execution_count": 69,
   "metadata": {
    "collapsed": false
   },
   "outputs": [
    {
     "data": {
      "image/png": "[encoded data removed]",
      "text/plain": [
       "<matplotlib.figure.Figure at 0x11062fb38>"
      ]
     },
     "metadata": {},
     "output_type": "display_data"
    }
   ],
   "source": [
    "#Graph plotting different combination settings with precision values\n",
    "x=[i for i in range(len(nn_measure))]\n",
    "y=[i[0] for i in nn_measure]\n",
    "\n",
    "yb1 = [baseline1]*len(x)\n",
    "yb2 = [baseline2]*len(x)\n",
    "\n",
    "plt.figure(figsize=(10,5)) \n",
    "plt.plot(x, y,'go-',label='Models') \n",
    "plt.plot(x, yb1, 'r-',label='Baseline1') \n",
    "plt.plot(x,yb2,'b-',label='Baseline2')\n",
    "plt.xticks(x)\n",
    "plt.grid() \n",
    "plt.title(\"Neural Network model performances vs Baselines\") \n",
    "plt.xlabel('Neural Network Models') \n",
    "plt.ylabel('Average Precision') \n",
    "plt.legend(loc=\"lower right\")\n",
    "plt.show()"
   ]
  },
  {
   "cell_type": "markdown",
   "metadata": {},
   "source": [
    "### 6.3 Best Setting"
   ]
  },
  {
   "cell_type": "code",
   "execution_count": 70,
   "metadata": {
    "collapsed": false
   },
   "outputs": [
    {
     "data": {
      "text/plain": [
       "MLPClassifier(activation='identity', alpha=0.0001, batch_size='auto',\n",
       "       beta_1=0.9, beta_2=0.999, early_stopping=False, epsilon=1e-08,\n",
       "       hidden_layer_sizes=(2,), learning_rate='constant',\n",
       "       learning_rate_init=0.001, max_iter=200, momentum=0.9,\n",
       "       nesterovs_momentum=True, power_t=0.5, random_state=None,\n",
       "       shuffle=True, solver='adam', tol=0.0001, validation_fraction=0.1,\n",
       "       verbose=False, warm_start=False)"
      ]
     },
     "execution_count": 70,
     "metadata": {},
     "output_type": "execute_result"
    }
   ],
   "source": [
    "clf = MLPClassifier(hidden_layer_sizes=(2,),activation=\"identity\",learning_rate_init=0.001)\n",
    "clf.fit(X_train, y_train)"
   ]
  },
  {
   "cell_type": "code",
   "execution_count": 71,
   "metadata": {
    "collapsed": false
   },
   "outputs": [
    {
     "name": "stdout",
     "output_type": "stream",
     "text": [
      "             precision    recall  f1-score   support\n",
      "\n",
      "          0       0.29      0.30      0.30      7577\n",
      "          1       0.79      0.78      0.78     25423\n",
      "\n",
      "avg / total       0.68      0.67      0.67     33000\n",
      "\n",
      "Accuracy of test set: 0.670 \n",
      "0.0823316614893\n"
     ]
    }
   ],
   "source": [
    "#Predicting for the Test set\n",
    "\n",
    "pred_test=clf.predict(X_test)\n",
    "print(classification_report(y_test, pred_test))\n",
    "print(\"Accuracy of test set: %0.3f \"%clf.score(X_test,y_test))\n",
    "print(matthews_corrcoef(y_test, pred_test))"
   ]
  },
  {
   "cell_type": "markdown",
   "metadata": {},
   "source": [
    "# Performance comparison of all the models"
   ]
  },
  {
   "cell_type": "code",
   "execution_count": 72,
   "metadata": {
    "collapsed": false
   },
   "outputs": [],
   "source": [
    "import collections\n",
    "settings_per_model = collections.OrderedDict()\n",
    "\n",
    "measure=[]\n",
    "for k in perf_scores.keys():\n",
    "    settings_per_model[k]=(len(perf_scores.get(k)))\n",
    "    for each in perf_scores[k]:\n",
    "        measure.append(each)\n",
    "        \n",
    "perf_meas =[]\n",
    "  \n",
    "for i in (measure):\n",
    "    if i != None:\n",
    "        if not(isinstance(i, float)) :\n",
    "            val = i[0]\n",
    "            perf_meas.append(val)\n",
    "        else:\n",
    "            perf_meas.append(i)\n",
    "        "
   ]
  },
  {
   "cell_type": "code",
   "execution_count": 73,
   "metadata": {
    "collapsed": false
   },
   "outputs": [
    {
     "data": {
      "image/png": "[encoded data removed]",
      "text/plain": [
       "<matplotlib.figure.Figure at 0x110b68c50>"
      ]
     },
     "metadata": {},
     "output_type": "display_data"
    }
   ],
   "source": [
    "#Graph\n",
    "\n",
    "x=[i for i in range(len(perf_meas))]\n",
    "y=[i for i in perf_meas]\n",
    "\n",
    "yb1 = [baseline1]*len(x)\n",
    "yb2 = [baseline2]*len(x)\n",
    "plt.figure(figsize=(20,5)) \n",
    "\n",
    "base_y = [1]\n",
    "tot=0\n",
    "for v in  settings_per_model.values():\n",
    "    tot+=v\n",
    "    plt.axvline(tot,color='m',linewidth=2)\n",
    "\n",
    "\n",
    "plt.plot(x, y,'go-',label='Models') \n",
    "plt.plot(x, yb1, 'r-',label='Baseline1') \n",
    "plt.plot(x,yb2,'b-',label='Baseline2')\n",
    "plt.xticks(x)\n",
    "plt.grid() \n",
    "plt.title(\"Model performances vs Baselines\") \n",
    "plt.xlabel('All Models') \n",
    "plt.ylabel('Average Precision') \n",
    "plt.legend(loc=\"lower right\")\n",
    "plt.show()\n"
   ]
  },
  {
   "cell_type": "markdown",
   "metadata": {},
   "source": [
    "# Best of all classifiers"
   ]
  },
  {
   "cell_type": "markdown",
   "metadata": {},
   "source": [
    "Note: Although we observed naive bayes showing better precision, we noticed there is no consistency to the precision value during different runs. Hence we choose the second best i.e. Logistic Regression with tf-idf vectorizer model as our best classifier. "
   ]
  },
  {
   "cell_type": "code",
   "execution_count": 74,
   "metadata": {
    "collapsed": false
   },
   "outputs": [],
   "source": [
    "#Logistic regression using TFIDF vectorizer\n",
    "vectorizer = TfidfVectorizer()\n",
    "X = vectorizer.fit_transform(cl_df)\n",
    "X_train, X_test, y_train, y_test = train_test_split(X, target_df['Class'], test_size=0.33, random_state=42)"
   ]
  },
  {
   "cell_type": "code",
   "execution_count": 200,
   "metadata": {
    "collapsed": false
   },
   "outputs": [
    {
     "data": {
      "text/plain": [
       "LogisticRegression(C=0.1, class_weight='balanced', dual=False,\n",
       "          fit_intercept=True, intercept_scaling=1, max_iter=100,\n",
       "          multi_class='ovr', n_jobs=1, penalty='l2', random_state=None,\n",
       "          solver='liblinear', tol=0.0001, verbose=0, warm_start=False)"
      ]
     },
     "execution_count": 200,
     "metadata": {},
     "output_type": "execute_result"
    }
   ],
   "source": [
    "clf = LogisticRegression(class_weight=\"balanced\", C=0.100000)\n",
    "clf.fit(X_train, y_train)"
   ]
  },
  {
   "cell_type": "code",
   "execution_count": 76,
   "metadata": {
    "collapsed": false
   },
   "outputs": [
    {
     "name": "stdout",
     "output_type": "stream",
     "text": [
      "10 fold Precsion_score of trained model: 0.831 \n",
      "10 fold Accuracy_score of trained model: 0.583 \n"
     ]
    }
   ],
   "source": [
    "scores = cross_val_score(clf,X_train ,y_train, cv=10,scoring='precision')\n",
    "print(\"10 fold Precsion_score of trained model: %0.3f \"% (np.mean(scores)))\n",
    "scores = cross_val_score(clf,X_train ,y_train, cv=10,scoring='accuracy')\n",
    "print(\"10 fold Accuracy_score of trained model: %0.3f \"% (np.mean(scores)))"
   ]
  },
  {
   "cell_type": "code",
   "execution_count": 201,
   "metadata": {
    "collapsed": false
   },
   "outputs": [
    {
     "name": "stdout",
     "output_type": "stream",
     "text": [
      "Accuracy of test set: 0.375 \n",
      "[0 1 1 1 1 1 0 0]\n"
     ]
    }
   ],
   "source": [
    "#Predicting for the Test set\n",
    "\n",
    "pred_test=clf.predict(X_mtrx1)\n",
    "print(\"Accuracy of test set: %0.3f \"%clf.score(X_mtrx1,t_df['Class']))\n",
    "print(pred_test)"
   ]
  },
  {
   "cell_type": "markdown",
   "metadata": {},
   "source": [
    "## Top Features"
   ]
  },
  {
   "cell_type": "code",
   "execution_count": 78,
   "metadata": {
    "collapsed": false,
    "scrolled": false
   },
   "outputs": [
    {
     "name": "stdout",
     "output_type": "stream",
     "text": [
      "\n",
      "Important Features and Coefficients\n",
      "Positive Features:\n",
      "href (2.7344)\n",
      "code (2.1003)\n",
      "http (2.02101)\n",
      "org (1.4948)\n",
      "docs (1.46882)\n",
      "python (0.873201)\n",
      "numpy (0.83672)\n",
      "library (0.790319)\n",
      "timeit (0.757402)\n",
      "course (0.723749)\n",
      "datetime (0.718523)\n",
      "note (0.692389)\n",
      "strong (0.679418)\n",
      "import (0.677524)\n",
      "world (0.673994)\n",
      "standard (0.626547)\n",
      "matplotlib (0.62646)\n",
      "twisted (0.620977)\n",
      "objects (0.57886)\n",
      "net (0.576838)\n",
      "2008 (0.563522)\n",
      "ctypes (0.561604)\n",
      "pip (0.561423)\n",
      "specific (0.554012)\n",
      "blockquote (0.540237)\n",
      "mod_wsgi (0.534431)\n",
      "shutil (0.528746)\n",
      "object (0.528501)\n",
      "html (0.519284)\n",
      "jpg (0.512725)\n",
      "signal (0.508033)\n",
      "mail (0.507019)\n",
      "collections (0.506246)\n",
      "itertools (0.504468)\n",
      "operator (0.504191)\n",
      "less (0.49824)\n",
      "wiki (0.493328)\n",
      "baz (0.483744)\n",
      "blog (0.474217)\n",
      "pre (0.474214)\n",
      "per (0.473199)\n",
      "look (0.471061)\n",
      "perl (0.470735)\n",
      "cls (0.467802)\n",
      "much (0.464578)\n",
      "documentation (0.459825)\n",
      "features (0.458618)\n",
      "uses (0.454914)\n",
      "release (0.451655)\n",
      "sys (0.448435)\n",
      "support (0.444681)\n",
      "complete (0.443626)\n",
      "details (0.438414)\n",
      "automatically (0.436534)\n",
      "scipy (0.436389)\n",
      "enum (0.433959)\n",
      "first (0.433121)\n",
      "argument (0.432116)\n",
      "wsgi (0.431312)\n",
      "filename (0.429246)\n",
      "behavior (0.427933)\n",
      "called (0.422059)\n",
      "bytes (0.419233)\n",
      "tuple (0.417938)\n",
      "urllib2 (0.417449)\n",
      "dict (0.416362)\n",
      "default (0.415311)\n",
      "comment (0.413943)\n",
      "insert (0.411489)\n",
      "module (0.410004)\n",
      "itemgetter (0.409669)\n",
      "rather (0.408298)\n",
      "readable (0.404909)\n",
      "include (0.404285)\n",
      "least (0.402993)\n",
      "performance (0.401124)\n",
      "nan (0.400203)\n",
      "plt (0.396306)\n",
      "virtualenv (0.390767)\n",
      "little (0.390674)\n",
      "possibly (0.390296)\n",
      "many (0.390095)\n",
      "kwargs (0.387171)\n",
      "cherrypy (0.384885)\n",
      "name (0.383919)\n",
      "foo (0.382329)\n",
      "sourceforge (0.378271)\n",
      "slice (0.376842)\n",
      "urlparse (0.375302)\n",
      "pep (0.374857)\n",
      "garbage (0.374255)\n",
      "long (0.372894)\n",
      "newline (0.371659)\n",
      "specifically (0.368243)\n",
      "choices (0.367751)\n",
      "good (0.366396)\n",
      "escape (0.366228)\n",
      "best (0.364112)\n",
      "curses (0.359822)\n",
      "mode (0.359768)\n",
      "\n",
      "Negative Features:\n",
      "rel (-2.10935)\n",
      "nofollow (-2.08903)\n",
      "tried (-1.13362)\n",
      "problem (-1.09181)\n",
      "error (-0.789313)\n",
      "works (-0.742989)\n",
      "thanks (-0.718121)\n",
      "script (-0.685481)\n",
      "maybe (-0.680525)\n",
      "could (-0.652846)\n",
      "try (-0.641224)\n",
      "eclipse (-0.628773)\n",
      "help (-0.620533)\n",
      "suggestions (-0.607928)\n",
      "opencv (-0.604193)\n",
      "would (-0.589295)\n",
      "split (-0.588932)\n",
      "site (-0.576226)\n",
      "sure (-0.551467)\n",
      "https (-0.539807)\n",
      "clear (-0.530467)\n",
      "question (-0.528877)\n",
      "niterations (-0.522141)\n",
      "appreciated (-0.519478)\n",
      "else (-0.516389)\n",
      "know (-0.51325)\n",
      "using (-0.508618)\n",
      "firefox (-0.503823)\n",
      "models (-0.490632)\n",
      "work (-0.489873)\n",
      "solution (-0.487664)\n",
      "want (-0.485389)\n",
      "install (-0.481168)\n",
      "running (-0.475226)\n",
      "range (-0.46626)\n",
      "without (-0.459768)\n",
      "char (-0.457887)\n",
      "match (-0.456706)\n",
      "netbeans (-0.451523)\n",
      "thank (-0.449893)\n",
      "program (-0.439901)\n",
      "server (-0.433268)\n",
      "executing (-0.42903)\n",
      "another (-0.42491)\n",
      "nbsp (-0.424427)\n",
      "print (-0.420259)\n",
      "replace (-0.417197)\n",
      "window (-0.416908)\n",
      "ide (-0.411478)\n",
      "get (-0.410571)\n",
      "ideas (-0.410076)\n",
      "letter (-0.408967)\n",
      "page (-0.404708)\n",
      "search (-0.404115)\n",
      "idea (-0.403113)\n",
      "trying (-0.399242)\n",
      "define (-0.397303)\n",
      "xml (-0.396813)\n",
      "java (-0.39532)\n",
      "output (-0.395011)\n",
      "list (-0.394203)\n",
      "variable (-0.383668)\n",
      "sorry (-0.381708)\n",
      "related (-0.371076)\n",
      "str (-0.37075)\n",
      "regular (-0.366517)\n",
      "facebook (-0.362424)\n",
      "please (-0.361397)\n",
      "log (-0.36107)\n",
      "formula (-0.357996)\n",
      "solved (-0.354624)\n",
      "screen (-0.353963)\n",
      "worked (-0.353657)\n",
      "somehow (-0.352)\n",
      "times (-0.350337)\n",
      "every (-0.349656)\n",
      "giving (-0.347894)\n",
      "compare (-0.34721)\n",
      "remove (-0.34525)\n",
      "surface (-0.342925)\n",
      "request (-0.342693)\n",
      "destination (-0.342624)\n",
      "000 (-0.34092)\n",
      "take (-0.340549)\n",
      "date (-0.339133)\n",
      "py2app (-0.335937)\n",
      "following (-0.334977)\n",
      "required (-0.333633)\n",
      "settings (-0.332347)\n",
      "something (-0.332271)\n",
      "show (-0.33141)\n",
      "thinking (-0.330753)\n",
      "structure (-0.32873)\n",
      "doesnt (-0.328288)\n",
      "sqlobject (-0.327994)\n",
      "student (-0.326596)\n",
      "table (-0.323287)\n",
      "slug (-0.322501)\n",
      "letters (-0.318275)\n",
      "stringproperty (-0.317611)\n"
     ]
    }
   ],
   "source": [
    "terms = np.array(vec.get_feature_names())\n",
    "print('\\nImportant Features and Coefficients')\n",
    "coef = clf.coef_[0]\n",
    "sorted_coefs = np.argsort(coef)\n",
    "top_positive = sorted_coefs[::-1][:100]\n",
    "top_negative = sorted_coefs[:100]\n",
    "\n",
    "print('Positive Features:\\n' + '\\n'.join('%s (%g)' % (n, c) for n, c in zip(terms[top_positive], coef[top_positive])))\n",
    "print('\\nNegative Features:\\n' + '\\n'.join('%s (%g)' % (n, c) for n, c in zip(terms[top_negative], coef[top_negative])))"
   ]
  },
  {
   "cell_type": "code",
   "execution_count": 88,
   "metadata": {
    "collapsed": false
   },
   "outputs": [
    {
     "name": "stdout",
     "output_type": "stream",
     "text": [
      "SVM\n",
      "(0.68180839015268535, 0.65200000000000002, 0.6649513142866299, None)\n",
      "(0.68072366861139355, 0.66445454545454541, 0.67198124032745321, None)\n",
      "(0.68176995131823304, 0.65230303030303027, 0.66512626151622589, None)\n",
      "(0.6817249109090795, 0.6575151515151515, 0.66830507395206062, None)\n",
      "(0.6905613348641787, 0.63242424242424244, 0.65435530179750723, None)\n",
      "(0.68650517839522485, 0.65227272727272723, 0.66676433928823053, None)\n",
      "(0.69032103908533415, 0.63221212121212123, 0.65414517478409107, None)\n",
      "(0.68634317947865364, 0.65230303030303027, 0.66672906765342954, None)\n",
      "(0.70205694752869074, 0.58545454545454545, 0.61807609348454584, None)\n",
      "(0.69226324418267504, 0.63296969696969696, 0.65514863701533654, None)\n",
      "(0.70156956491225575, 0.58490909090909093, 0.61757494863384554, None)\n",
      "(0.69208294076873866, 0.63275757575757574, 0.65495280101437059, None)\n",
      "LR_tfidf\n",
      "(0.70691484505454438, 0.58618181818181814, 0.61889099716803742, None)\n",
      "(0.70691484505454438, 0.58618181818181814, 0.61889099716803742, None)\n",
      "(0.70037448334814201, 0.62666666666666671, 0.65204780889106384, None)\n",
      "(0.70037448334814201, 0.62666666666666671, 0.65204780889106384, None)\n",
      "(0.59350682185491277, 0.77039393939393941, 0.67047995211516431, None)\n",
      "(0.59350682185491277, 0.77039393939393941, 0.67047995211516431, None)\n",
      "(0.70253808518602467, 0.76975757575757575, 0.6783184492668265, None)\n",
      "(0.70253808518602467, 0.76975757575757575, 0.6783184492668265, None)\n",
      "SGD\n",
      "(0.67393869453606903, 0.71236363636363631, 0.68898539935390191, None)\n",
      "(0.68491770919836237, 0.5080606060606061, 0.54442588539671355, None)\n",
      "(0.67671545474150585, 0.71693939393939399, 0.69198264704159507, None)\n",
      "(0.66169262684792618, 0.47072727272727272, 0.50738637096540917, None)\n",
      "(0.67306437787717632, 0.69566666666666666, 0.6830711336848917, None)\n",
      "(0.68664299030393772, 0.58281818181818179, 0.61484574867855213, None)\n",
      "(0.67756364048737661, 0.74733333333333329, 0.6926071975224517, None)\n",
      "(0.69708620900134488, 0.4436969696969697, 0.46780529294292922, None)\n",
      "(0.67024019830026671, 0.68824242424242421, 0.67846817107222812, None)\n",
      "(0.68852091327011744, 0.3753030303030303, 0.37442871548867435, None)\n",
      "(0.67226082483742255, 0.59363636363636363, 0.62169557972695222, None)\n",
      "(0.69137467402628183, 0.5897575757575757, 0.62109912163889047, None)\n",
      "(0.70502780650255392, 0.77036363636363636, 0.67137578223975158, None)\n",
      "(0.70572271398531539, 0.58060606060606057, 0.61385407772247957, None)\n",
      "(0.68958990158629485, 0.76757575757575758, 0.68022756031839493, None)\n",
      "(0.70463348844586315, 0.57951515151515154, 0.61284903119083201, None)\n",
      "(0.67251983557469253, 0.7356060606060606, 0.69081068519834288, None)\n",
      "(0.68459191063988933, 0.58509090909090922, 0.61656245116074182, None)\n",
      "LR\n",
      "(0.69298276632133138, 0.63766666666666671, 0.65870862542511555, None)\n",
      "(0.69298276632133138, 0.63766666666666671, 0.65870862542511555, None)\n",
      "(0.6942171186032966, 0.62263636363636365, 0.64785396667350226, None)\n",
      "(0.6942171186032966, 0.62263636363636365, 0.64785396667350226, None)\n",
      "(0.69699832934309613, 0.76993939393939392, 0.67384345324863604, None)\n",
      "(0.69699832934309613, 0.76993939393939392, 0.67384345324863604, None)\n",
      "(0.69803354780327187, 0.77009090909090905, 0.67303519382664423, None)\n",
      "(0.69803354780327187, 0.77009090909090905, 0.67303519382664423, None)\n",
      "MNB\n",
      "(0.67508535631759758, 0.75060606060606061, 0.68954957585123888, None)\n",
      "(0.67426248949860912, 0.6685757575757576, 0.6713461921858872, None)\n",
      "(0.70844881803663418, 0.77039393939393941, 0.67110705051697706, None)\n",
      "(0.67592318532183004, 0.76890909090909088, 0.6731539947935995, None)\n",
      "(0.69793099628250743, 0.77036363636363636, 0.67075053861190137, None)\n",
      "(0.69865570659685639, 0.77030303030303027, 0.67134571498571782, None)\n"
     ]
    }
   ],
   "source": [
    "for key in perf_scores:\n",
    "    print(key)\n",
    "    for value in perf_scores.get(key):\n",
    "        print(value)"
   ]
  },
  {
   "cell_type": "code",
   "execution_count": null,
   "metadata": {
    "collapsed": true
   },
   "outputs": [],
   "source": []
  }
 ],
 "metadata": {
  "kernelspec": {
   "display_name": "Python 3",
   "language": "python",
   "name": "python3"
  },
  "language_info": {
   "codemirror_mode": {
    "name": "ipython",
    "version": 3
   },
   "file_extension": ".py",
   "mimetype": "text/x-python",
   "name": "python",
   "nbconvert_exporter": "python",
   "pygments_lexer": "ipython3",
   "version": "3.5.0"
  }
 },
 "nbformat": 4,
 "nbformat_minor": 1
}
